{
 "cells": [
  {
   "cell_type": "markdown",
   "metadata": {},
   "source": [
    "# Introduction to Algorithms\n",
    "Step 2 of 6"
   ]
  },
  {
   "cell_type": "markdown",
   "metadata": {},
   "source": [
    "Topics Covered:\n",
    "* How to analyze the time complexity of an algorithm\n",
    "* How to analyze the space complexity of an algorithm\n",
    "* Techniques to trade memory for speed"
   ]
  },
  {
   "cell_type": "markdown",
   "metadata": {},
   "source": [
    "## Time Complexity of Algorithms\n",
    "Here, we will learn how to analyze how good an algorithm is in terms of <em>speed</em> and <em>memory</em>. Simply put, an algorithm is a program or function that solves some specific problem. For example, a sorting algorithm is an algorithm that, given a list of values, outputs that same list of values but rearranges them in increasing (or decreasing) order.\n",
    "\n",
    "For any given problem, there are numerous ways to write an algorithm that solves it. In this course, you'll learn how to compare these algorithms and find the one that will perform the best.\n",
    "\n",
    "Let's start by writing an algorithm that, given a list of numbers, outputs the maximum value of that list. After all, before we can start analyzing algorithms, we need to have some algorithms to analyze."
   ]
  },
  {
   "cell_type": "code",
   "execution_count": 3,
   "metadata": {},
   "outputs": [
    {
     "name": "stdout",
     "output_type": "stream",
     "text": [
      "6\n"
     ]
    }
   ],
   "source": [
    "## Implement basic maximum function\n",
    "test_values = [4, 3, 5, 6, 2, 1]\n",
    "\n",
    "def maximum(values):\n",
    "    answer = None\n",
    "    for value in values:\n",
    "        if answer == None or value > answer:\n",
    "            answer = value\n",
    "    return answer\n",
    "\n",
    "max_value = maximum(test_values)\n",
    "print(max_value)"
   ]
  },
  {
   "cell_type": "markdown",
   "metadata": {},
   "source": [
    "### Measuring the Execution Time\n",
    "On this screen, we're going to learn how to measure the execution time of a Python function. Ultimately, our goal is not to measure the time of a specific execution of an algorithm, but rather to analyze the algorithm and predict how the execution time will evolve as data grows larger.\n",
    "\n",
    "Intuitively, the more data an algorithm needs to process, the more time it will take to run. What we are interested in is building a model that tells us by how much the execution time grows as we increase the amount of data. We call these models the time complexity of an algorithm. By analyzing the time complexity of an algorithm, we want to be able to answer questions like:\n",
    "\n",
    "*If we double the data, do we double the execution time, do we quadruple it, or something else entirely?*\n",
    "\n",
    "Our starting point will be measuring execution times because it will help us build valuable intuition. Let's start by learning how to measure the execution time of a Python function.\n",
    "\n",
    "Python offers a few different ways to do this. In this mission, we will use the [time module](https://docs.python.org/3/library/time.html). Calling the `time.time()` function, we get the total number of seconds that have passed from January 1, 1970, until now (depending on your OS, this date might change, but that does not matter for what follows).\n",
    "\n",
    "Try running the following code:"
   ]
  },
  {
   "cell_type": "code",
   "execution_count": 6,
   "metadata": {},
   "outputs": [
    {
     "name": "stdout",
     "output_type": "stream",
     "text": [
      "1606077257.8584745\n"
     ]
    }
   ],
   "source": [
    "import time\n",
    "print(time.time())"
   ]
  },
  {
   "cell_type": "code",
   "execution_count": 8,
   "metadata": {},
   "outputs": [
    {
     "name": "stdout",
     "output_type": "stream",
     "text": [
      "269.44677262706335\n"
     ]
    }
   ],
   "source": [
    "# How old is this Dataquest lesson? Let's find out:\n",
    "created = 1582797144.388745\n",
    "current = time.time()\n",
    "elapsed_days = (current - created) / (3600 * 24)\n",
    "print(elapsed_days)"
   ]
  },
  {
   "cell_type": "markdown",
   "metadata": {},
   "source": [
    "Using the `time.time()` function, we can measure the time a Python function takes to execute by computing the difference between the time just after the function finishes executing and the time just before it started executing. If we call the time just before the execution `start` and the time just after `end`, then the execution time of the function will be `end - start` — as shown in blue on the following diagram:\n",
    "![execution time](https://dq-content.s3.amazonaws.com/476/time.png)"
   ]
  },
  {
   "cell_type": "code",
   "execution_count": 12,
   "metadata": {},
   "outputs": [
    {
     "name": "stdout",
     "output_type": "stream",
     "text": [
      "0.0\n"
     ]
    }
   ],
   "source": [
    "test_values = [num * 2 for num in range(1,1001,2)]\n",
    "\n",
    "start = time.time()\n",
    "max_value = maximum(test_values)\n",
    "end = time.time()\n",
    "runtime = end - start\n",
    "print(runtime)"
   ]
  },
  {
   "cell_type": "markdown",
   "metadata": {},
   "source": [
    "Just a single measurement doesn't help us understand how the maximum() function behaves in terms of execution time.\n",
    "\n",
    "Let's make the input length vary from length 1 to 500 and collect the execution time for each of them. The goal is to have an insight into how the execution evolves as the length of the list grows.\n",
    "\n",
    "To do our experiment, we will need to have input lists with sizes 1 to 500 to execute the maximum() function. One way to generate these inputs is to use the random module. This module provides, among other things, the random.randint() function that, given two integers a and b, outputs a random number between a and b (inclusive)."
   ]
  },
  {
   "cell_type": "code",
   "execution_count": null,
   "metadata": {},
   "outputs": [],
   "source": []
  }
 ],
 "metadata": {
  "kernelspec": {
   "display_name": "Python 3",
   "language": "python",
   "name": "python3"
  },
  "language_info": {
   "codemirror_mode": {
    "name": "ipython",
    "version": 3
   },
   "file_extension": ".py",
   "mimetype": "text/x-python",
   "name": "python",
   "nbconvert_exporter": "python",
   "pygments_lexer": "ipython3",
   "version": "3.8.5"
  }
 },
 "nbformat": 4,
 "nbformat_minor": 4
}
