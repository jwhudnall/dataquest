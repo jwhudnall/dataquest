{
 "cells": [
  {
   "cell_type": "markdown",
   "metadata": {},
   "source": [
    "# Introduction to Algorithms\n",
    "Step 2 of 6"
   ]
  },
  {
   "cell_type": "markdown",
   "metadata": {},
   "source": [
    "Topics Covered:\n",
    "* How to analyze the time complexity of an algorithm\n",
    "* How to analyze the space complexity of an algorithm\n",
    "* Techniques to trade memory for speed"
   ]
  },
  {
   "cell_type": "markdown",
   "metadata": {},
   "source": [
    "## Time Complexity of Algorithms\n",
    "Here, we will learn how to analyze how good an algorithm is in terms of <em>speed</em> and <em>memory</em>. Simply put, an algorithm is a program or function that solves some specific problem. For example, a sorting algorithm is an algorithm that, given a list of values, outputs that same list of values but rearranges them in increasing (or decreasing) order.\n",
    "\n",
    "For any given problem, there are numerous ways to write an algorithm that solves it. In this course, you'll learn how to compare these algorithms and find the one that will perform the best.\n",
    "\n",
    "Let's start by writing an algorithm that, given a list of numbers, outputs the maximum value of that list. After all, before we can start analyzing algorithms, we need to have some algorithms to analyze."
   ]
  },
  {
   "cell_type": "code",
   "execution_count": 1,
   "metadata": {},
   "outputs": [
    {
     "name": "stdout",
     "output_type": "stream",
     "text": [
      "6\n"
     ]
    }
   ],
   "source": [
    "## Implement basic maximum function\n",
    "test_values = [4, 3, 5, 6, 2, 1]\n",
    "\n",
    "def maximum(values):\n",
    "    answer = None\n",
    "    for value in values:\n",
    "        if answer == None or value > answer:\n",
    "            answer = value\n",
    "    return answer\n",
    "\n",
    "max_value = maximum(test_values)\n",
    "print(max_value)"
   ]
  },
  {
   "cell_type": "markdown",
   "metadata": {},
   "source": [
    "### Measuring the Execution Time\n",
    "On this screen, we're going to learn how to measure the execution time of a Python function. Ultimately, our goal is not to measure the time of a specific execution of an algorithm, but rather to analyze the algorithm and predict how the execution time will evolve as data grows larger.\n",
    "\n",
    "Intuitively, the more data an algorithm needs to process, the more time it will take to run. What we are interested in is building a model that tells us by how much the execution time grows as we increase the amount of data. We call these models the time complexity of an algorithm. By analyzing the time complexity of an algorithm, we want to be able to answer questions like:\n",
    "\n",
    "*If we double the data, do we double the execution time, do we quadruple it, or something else entirely?*\n",
    "\n",
    "Our starting point will be measuring execution times because it will help us build valuable intuition. Let's start by learning how to measure the execution time of a Python function.\n",
    "\n",
    "Python offers a few different ways to do this. In this mission, we will use the [time module](https://docs.python.org/3/library/time.html). Calling the `time.time()` function, we get the total number of seconds that have passed from January 1, 1970, until now (depending on your OS, this date might change, but that does not matter for what follows).\n",
    "\n",
    "Try running the following code:"
   ]
  },
  {
   "cell_type": "code",
   "execution_count": 2,
   "metadata": {},
   "outputs": [
    {
     "name": "stdout",
     "output_type": "stream",
     "text": [
      "1606350094.5979578\n"
     ]
    }
   ],
   "source": [
    "import time\n",
    "print(time.time())"
   ]
  },
  {
   "cell_type": "code",
   "execution_count": 3,
   "metadata": {},
   "outputs": [
    {
     "name": "stdout",
     "output_type": "stream",
     "text": [
      "272.60359058064716\n"
     ]
    }
   ],
   "source": [
    "# How old is this Dataquest lesson? Let's find out:\n",
    "created = 1582797144.388745\n",
    "current = time.time()\n",
    "elapsed_days = (current - created) / (3600 * 24)\n",
    "print(elapsed_days)"
   ]
  },
  {
   "cell_type": "markdown",
   "metadata": {},
   "source": [
    "Using the `time.time()` function, we can measure the time a Python function takes to execute by computing the difference between the time just after the function finishes executing and the time just before it started executing. If we call the time just before the execution `start` and the time just after `end`, then the execution time of the function will be `end - start` — as shown in blue on the following diagram:\n",
    "![execution time](https://dq-content.s3.amazonaws.com/476/time.png)"
   ]
  },
  {
   "cell_type": "code",
   "execution_count": 4,
   "metadata": {},
   "outputs": [
    {
     "name": "stdout",
     "output_type": "stream",
     "text": [
      "0.0\n"
     ]
    }
   ],
   "source": [
    "test_values = [num * 2 for num in range(1,1001,2)]\n",
    "\n",
    "start = time.time()\n",
    "max_value = maximum(test_values)\n",
    "end = time.time()\n",
    "runtime = end - start\n",
    "print(runtime)"
   ]
  },
  {
   "cell_type": "markdown",
   "metadata": {},
   "source": [
    "Just a single measurement doesn't help us understand how the maximum() function behaves in terms of execution time.\n",
    "\n",
    "Let's make the input length vary from length 1 to 500 and collect the execution time for each of them. The goal is to have an insight into how the execution evolves as the length of the list grows.\n",
    "\n",
    "To do our experiment, we will need to have input lists with sizes 1 to 500 to execute the maximum() function. One way to generate these inputs is to use the random module. This module provides, among other things, the random.randint() function that, given two integers a and b, outputs a random number between a and b (inclusive).\n",
    "\n",
    "Using list comprehensions, we can use the random.randint() function to generate a random list of length 500 with values, say, from -1,000 to 1,000, as follows:"
   ]
  },
  {
   "cell_type": "code",
   "execution_count": 5,
   "metadata": {},
   "outputs": [],
   "source": [
    "import random\n",
    "values = [random.randint(-1000, 1000) for _ in range(500)]"
   ]
  },
  {
   "cell_type": "markdown",
   "metadata": {},
   "source": [
    "Notice that we used the `_` notation in the above `for` loop. This is a notation that can be used when we do not use the iteration variable. It gives the exact same result that we would get using some variable name, but avoids having to find a name for something that we will not use.\n",
    "\n",
    "Since we want to be able to generate inputs of lengths 1 to 500, it is convenient to define a function that takes as input a length and outputs a random list of the given length:"
   ]
  },
  {
   "cell_type": "code",
   "execution_count": 6,
   "metadata": {},
   "outputs": [],
   "source": [
    "def gen_input(length):\n",
    "    return [random.randint(-1000, 1000) for _ in range(length)]"
   ]
  },
  {
   "cell_type": "code",
   "execution_count": 7,
   "metadata": {},
   "outputs": [],
   "source": [
    "times = []\n",
    "for length in range(1,501):\n",
    "    values = gen_input(length)\n",
    "    start = time.time()\n",
    "    maximum(values)\n",
    "    end = time.time()\n",
    "    runtime = end - start\n",
    "    times.append(runtime)"
   ]
  },
  {
   "cell_type": "markdown",
   "metadata": {},
   "source": [
    "The printed results are hard to read, so let's plot these times for visualizing how they are growing:\n",
    "![runtime](https://dq-content.s3.amazonaws.com/476/plot1.png)\n",
    "We can see some spikes on the execution times at some points. These are due to external factors such as CPU load, memory management, among others. However, despite the lack of accuracy of these measures, we can see a line forming underneath, which roughly describes how the execution time is increasing. This is shown in red in the following plot:\n",
    "\n",
    "![runtime plot](https://dq-content.s3.amazonaws.com/476/plot2.png)\n",
    "\n",
    "We can see that as the data increases, so does the execution time. This is not surprising since there is more data to process. However, this tells us more. It gives us an insight on the rate at which it is increasing. The red line is a straight line, which means that the time is growing somewhat proportionally with the data.\n",
    "\n",
    "This is good news because it means that the execution time grows at the same rate as the data. Doubling the amount of data will double the amount of time needed to process it.\n",
    "\n",
    "The purpose of this mission is to learn how to look at an algorithm and derive a mathematical expression for the red line. As mentioned before, we call such an expression the **time complexity of the algorithm**:\n",
    "\n",
    "![time complexity model](https://dq-content.s3.amazonaws.com/476/real_vs_model.png)"
   ]
  },
  {
   "cell_type": "markdown",
   "metadata": {},
   "source": [
    "### Measure `sum_values()` on inputs"
   ]
  },
  {
   "cell_type": "code",
   "execution_count": 8,
   "metadata": {},
   "outputs": [
    {
     "data": {
      "image/png": "[encoded data removed]",
      "text/plain": [
       "<Figure size 432x288 with 1 Axes>"
      ]
     },
     "metadata": {
      "needs_background": "light"
     },
     "output_type": "display_data"
    }
   ],
   "source": [
    "import time\n",
    "import random\n",
    "import matplotlib.pyplot as plt\n",
    "%matplotlib inline\n",
    "\n",
    "def plot_times(times):\n",
    "    plt.plot(times)\n",
    "    plt.ylabel('runtime')\n",
    "    plt.xlabel('size')\n",
    "    plt.show()\n",
    "\n",
    "def sum_values(values):\n",
    "    total = 0            \n",
    "    for value in values: \n",
    "        total += value   \n",
    "    return total  \n",
    "\n",
    "def gen_input(length):\n",
    "    return [random.randint(-1000, 1000) for _ in range(length)]\n",
    "\n",
    "# add your code below\n",
    "times = []\n",
    "for length in range(1, 501):\n",
    "    values = gen_input(length)\n",
    "    start = time.time()\n",
    "    sum_values(values)\n",
    "    end = time.time()\n",
    "    runtime = end - start\n",
    "    times.append(runtime)\n",
    "\n",
    "plot_times(times)"
   ]
  },
  {
   "cell_type": "markdown",
   "metadata": {},
   "source": [
    "### Worst Case Execution Analysis"
   ]
  },
  {
   "cell_type": "markdown",
   "metadata": {},
   "source": [
    "In our analysis, we needed to count how many times each line of code was executed. However, we cannot always do that. Consider for instance the `maximum()` function from before:"
   ]
  },
  {
   "cell_type": "code",
   "execution_count": 9,
   "metadata": {},
   "outputs": [],
   "source": [
    "def maximum(values):\n",
    "    answer = None\n",
    "    for value in values:\n",
    "        if answer == None or answer < value:\n",
    "            answer = value\n",
    "    return answer"
   ]
  },
  {
   "cell_type": "markdown",
   "metadata": {},
   "source": [
    "How many times is the line answer = value executed? Well, that depends on the values list. The first time, it is always executed because answer is initially set to None. After that, it depends on the order of the elements in values.\n",
    "\n",
    "For example, if values = [1, 2, 3, 4, 5] then, at every subsequent iteration, answer < value will be true, so the line will be executed one time for each value. On the other hand, if values = [5, 4, 3, 2, 1] then, the first time answer will be set to 5, and then the line will never be executed again.\n",
    "\n",
    "We say that the first is a **worst-case** execution analysis and the latter a **best-case** execution analysis. When building a model for the execution time of an algorithm, we often focus on the worst case. There a few reasons for doing so:\n",
    "\n",
    "1. We usually want to process data from a lot of different sources and, consequently, it turns out that the worst-case actually occurs quite often.\n",
    "2. It provides an upper bound. By focusing on the worst-case when building the execution time model, we can guarantee that the executions times will always behave at most as badly as the models predicts. Imagine that you are selling an algorithm that 1% of the time takes one second, and 99% takes over one year. If you advertise it as taking one second (best case), your customers will not be very pleased."
   ]
  },
  {
   "cell_type": "markdown",
   "metadata": {},
   "source": [
    "**In practice, this means that when building the model, the number of executions that we set for each line of code is the maximum number of times that it can possibly be executed.**\n",
    "\n",
    "With this in mind, let's build a model for the maximum() function and see whether it matches our experimental prediction."
   ]
  },
  {
   "cell_type": "code",
   "execution_count": 10,
   "metadata": {},
   "outputs": [],
   "source": [
    "def maximum(values):\n",
    "    answer = None                            # c1, 1 time,  c1\n",
    "    for value in values:                     # c2, N times, c2*N\n",
    "        if answer == None or answer < value: # c3, N times, c3*N\n",
    "            answer = value                   # c4, N times, c4*N\n",
    "    return answer                            # c5, 1 time,  c5"
   ]
  },
  {
   "cell_type": "markdown",
   "metadata": {},
   "source": [
    "Cleaning up the constants by renaming c2 + c3 + c4 as a and c1 + c5 as b, we again obtain a linear model aN + b , as expected. This confirms our previous experimental results on the `maximum()` function."
   ]
  },
  {
   "cell_type": "code",
   "execution_count": 11,
   "metadata": {},
   "outputs": [],
   "source": [
    "def count_zeros(values):\n",
    "    count = 0            # c1 - once\n",
    "    for value in values: # c2 - c2*n\n",
    "        if value == 0:   # c3 - c3*n\n",
    "            count += 1   # c4 - c4*n\n",
    "    return count         # c5 - once\n",
    "\n",
    "model1 = '(c1 + c2) * N + (c3 + c4 + c5)'\n",
    "model2 = '(c2 + c3) * N + (c1 + c4 + c5)'\n",
    "model3 = '(c2 + c3 + c4) * N + (c1 + c5)'\n",
    "\n",
    "correct = model3"
   ]
  },
  {
   "cell_type": "markdown",
   "metadata": {},
   "source": [
    "### Quadratic Complexity\n",
    "So far, all the concrete functions that we analyzed had an execution time model that was linear, that is, of the form aN + b. Let's see an example where this is not the case. Consider the following `zero_sum()` function that counts the number of pairs of indexes whose values add up to 0."
   ]
  },
  {
   "cell_type": "code",
   "execution_count": 12,
   "metadata": {},
   "outputs": [],
   "source": [
    "def zero_sum(values):\n",
    "    N = len(values)                          \n",
    "    count = 0                               \n",
    "    for i in range(N):                     \n",
    "        for j in range(N):                    \n",
    "            if values[i] + values[j] == 0: \n",
    "                count += 1                    \n",
    "    return count"
   ]
  },
  {
   "cell_type": "markdown",
   "metadata": {},
   "source": [
    "#### Build the Execution Time Model\n",
    "1. Assign an unknown constant to each line of code.\n",
    "2. Count how many times each line is executed. Let N denote the number of elements in the `values` list. Remember that we now consider the wrost case. In this case, we'll assume that the `if` condition is always true.\n",
    "3. Multiply the constant execution time of each line by the number of times the line is executed.\n",
    "4. Add all values together and group terms."
   ]
  },
  {
   "cell_type": "markdown",
   "metadata": {},
   "source": [
    "**Step 1**"
   ]
  },
  {
   "cell_type": "code",
   "execution_count": 13,
   "metadata": {},
   "outputs": [],
   "source": [
    "def zero_sum(values):\n",
    "    N = len(values)                        # c1                     \n",
    "    count = 0                              # c2\n",
    "    for i in range(N):                     # c3\n",
    "        for j in range(N):                 # c4\n",
    "            if values[i] + values[j] == 0: # c5\n",
    "                count += 1                 # c6\n",
    "    return count                           # c7"
   ]
  },
  {
   "cell_type": "markdown",
   "metadata": {},
   "source": [
    "**Step 2**"
   ]
  },
  {
   "cell_type": "code",
   "execution_count": 14,
   "metadata": {},
   "outputs": [],
   "source": [
    "def zero_sum(values):\n",
    "    N = len(values)                        # c1, 1 time                     \n",
    "    count = 0                              # c2, 1 time\n",
    "    for i in range(N):                     # c3, N times\n",
    "        for j in range(N):                 # c4, N * N times\n",
    "            if values[i] + values[j] == 0: # c5, N * N times\n",
    "                count += 1                 # c6, N * N times\n",
    "    return count                           # c7, 1 time"
   ]
  },
  {
   "cell_type": "markdown",
   "metadata": {},
   "source": [
    "Before we take the next step, let's make sure we understand why the for loop on j and inner lines are executed N2 times. By itself, the for loop on j is executed N times since it loops over N values. However, it is wrapped inside the for loop on i, which is also executed N times. Therefore, the total number of executions of the line containing the for loop on j is N × N = N2.\n",
    "\n",
    "A general rule of thumb is that a for loop inside another will be executed N<sup>2</sup> times, a for loop inside two others will be executed N<sup>3</sup> times, and so on."
   ]
  },
  {
   "cell_type": "markdown",
   "metadata": {},
   "source": [
    "**Step 3**"
   ]
  },
  {
   "cell_type": "code",
   "execution_count": 15,
   "metadata": {},
   "outputs": [],
   "source": [
    "def zero_sum(values):\n",
    "    N = len(values)                        # c1, 1 time,      c1                     \n",
    "    count = 0                              # c2, 1 time,      c2\n",
    "    for i in range(N):                     # c3, N times,     c3 * N\n",
    "        for j in range(N):                 # c4, N * N times, c4 * N^2\n",
    "            if values[i] + values[j] == 0: # c5, N * N times, c5 * N^2\n",
    "                count += 1                 # c6, N * N times, c6 * N^2\n",
    "    return count                           # c7, 1 time,      c7"
   ]
  },
  {
   "cell_type": "markdown",
   "metadata": {},
   "source": [
    "aN<sup>2</sup>+bN + c\n",
    "![quadratic time](https://dq-content.s3.amazonaws.com/476/quadratic_time.png)"
   ]
  },
  {
   "cell_type": "markdown",
   "metadata": {},
   "source": [
    "### Further Simplification\n",
    "So far, we have analyzed algorithms with only a few lines of code, so the calculations did not get extremely complex. However, as algorithms become more complicated, this process can become quite complex and cumbersome.\n",
    "\n",
    "Moreover, remember that we are only interested in seeing how much the execution time grows as data grows, not the exact execution time. With this in mind, we can simplify our analysis even further by dropping unnecessary information.\n",
    "\n",
    "**1. Drop the line constants**\n",
    "\n",
    "In previous examples, we started by assigning to each line of code a different constant expressing the time that line needs to execute. However, we only care about whether our final expression looks like aN + b (linear time complexity) or aN2 + bN + c (quadratic time complexity).\n",
    "\n",
    "The exact values of a, b and c do not matter. What matters is whether we have a N2 term or not.\n",
    "\n",
    "For this reason, we can safely ignore these constant times from now on. This is the same as treating each of these constants as having value 1.\n",
    "\n",
    "In other words, we will just count how many times each line is executed:"
   ]
  },
  {
   "cell_type": "code",
   "execution_count": 16,
   "metadata": {},
   "outputs": [],
   "source": [
    "def maximum(values):\n",
    "    answer = None                            # 1 time\n",
    "    for value in values:                     # N times\n",
    "        if answer == None or answer < value: # N times\n",
    "            answer = value                   # N times\n",
    "    return answer                            # 1 time"
   ]
  },
  {
   "cell_type": "markdown",
   "metadata": {},
   "source": [
    "Adding these terms, we get **3N + 2**\n",
    "\n",
    "**2. Keep only the most significant term**\n",
    "The next simplification step is to keep only the most significant term. By significant here, we mean the one that is growing the fastest. In the above expression we have two terms 3N and 2. The fastest-growing term is 3N since 2 is a constant. Another way to see this is that, as N becomes very big, adding 2 or not becomes less and less relevant because the value of 3N is so large when compared to 2.\n",
    "\n",
    "We end up with: **3N + 2 => 3N**\n",
    "\n",
    "![time(n)](https://dq-content.s3.amazonaws.com/476/times.png)\n",
    "\n",
    "As you can see, the total time time(N) (purple curve) and the highest term N3 (blue curve) are very similar. Therefore, when analyzing the execution time of an algorithm, we can drop all but the most significant term (the one with the highest exponent)."
   ]
  },
  {
   "cell_type": "markdown",
   "metadata": {},
   "source": [
    "**3. Drop the constant coefficient**\n",
    "The final step is to drop the remaining constant coefficient, in the case of the maximum() function, the 3 from 3N. By doing this, we end up with a simple model for the execution time of the maximum() function: **3N => N**\n",
    "\n",
    "Remember that we only care about the <u>rate of growth</u> of the execution time.\n",
    "\n",
    "We denote a function whose simplification steps result in N by O(N). We say the function is **order of N** or **O of N**. In other words, a linear-time algorithm is an algorithm with time complexity O(N).\n",
    "\n",
    "Let's consider another example. For function in our above experiment, with time(N) = N3 + 5N2 + 17N + 6 we would write O(N3). This means that its execution time grows at the same rate as the cube of the size of the input.\n",
    "\n",
    "In the same way, if we apply these steps to the expression aN2 + bN + c we obtain N2. So a quadratic time algorithm is an algorithm whose time complexity is O(N2)."
   ]
  },
  {
   "cell_type": "markdown",
   "metadata": {},
   "source": [
    "#### Practice: Analyze 2 functions' efficiency"
   ]
  },
  {
   "cell_type": "markdown",
   "metadata": {},
   "source": [
    "**Function 1**"
   ]
  },
  {
   "cell_type": "code",
   "execution_count": 17,
   "metadata": {},
   "outputs": [],
   "source": [
    "def min_max1(values):\n",
    "    minimum = None                      # 1 time\n",
    "    maximum = None                      # 1 time\n",
    "    # loop once over the values         \n",
    "    for value in values:                # N Times\n",
    "        # check if minimum needs to be updated  \n",
    "        if minimum == None or value < minimum:   # N Times\n",
    "            minimum = value                      # N Times\n",
    "        # check is maximum needs to be updated \n",
    "        if maximum == None or value > maximum:   # N Times\n",
    "            maximum = value                      # N Times\n",
    "    return minimum, maximum                # 1 Time"
   ]
  },
  {
   "cell_type": "markdown",
   "metadata": {},
   "source": [
    "**Function 2**"
   ]
  },
  {
   "cell_type": "code",
   "execution_count": 18,
   "metadata": {},
   "outputs": [],
   "source": [
    "def min_max2(values):\n",
    "    # compute the minimum\n",
    "    minimum = None                               # 1 Time\n",
    "    for value in values:                         # N Times\n",
    "        if minimum == None or value < minimum:   # N Times\n",
    "            minimum = value                      # N Times\n",
    "    # compute the maximum \n",
    "    maximum = None                               # 1 Times\n",
    "    for value in values:                         # N Times\n",
    "        if maximum == None or value > maximum:   # N Times\n",
    "            maximum = value                      # N Times\n",
    "    return minimum, maximum                      # 1 Time"
   ]
  },
  {
   "cell_type": "markdown",
   "metadata": {},
   "source": [
    "There is a common misconception that the first function will be more efficient than the second one because it iterates over the values only once. Now that we understand how to analyze the time complexity of a Python function, we can see that this is not the case!\n",
    "\n",
    "* min_max1 = O(N)\n",
    "* min_max2 = O(N)\n",
    "\n",
    "We conclude that both functions are order of N or O(N) , for short. Note that the fact that min_max1() is slightly faster ( 5N vs 6N ) should not be a major factor for preferring it over min_max2(). Unless you are doing highly specialized code that will run on a spaceship, for functions of the same order, you should favor factors such as:\n",
    "\n",
    "* <em>Readability</em>: how easy the code is to read\n",
    "* <em>Maintainability</em>: how easy it is to augment the code or re-use it"
   ]
  },
  {
   "cell_type": "markdown",
   "metadata": {},
   "source": [
    "#### Analyzing a More Complex Function"
   ]
  },
  {
   "cell_type": "code",
   "execution_count": 19,
   "metadata": {},
   "outputs": [],
   "source": [
    "def count_triples(values):\n",
    "    count = 0                                               # 1 time\n",
    "    N = len(values)                                         # 1 time\n",
    "    for i in range(N):                                      # N times\n",
    "        for j in range(N):                                  # N^2 times\n",
    "            for k in range(N):                              # N^3 times\n",
    "                if values[i] + values[j] + values[k] == 0:  # N^3\n",
    "                    count += 1                              # N^3\n",
    "    return count                                            # 1 time\n",
    "\n",
    "coefficients = [3,1,1,3]\n",
    "order = 'O(N^3)'"
   ]
  },
  {
   "cell_type": "markdown",
   "metadata": {},
   "source": [
    "### Summary\n",
    "We've learned:\n",
    "* That slow algorithms will eventually become the bottleneck of applications regardless of technological advances on computers.\n",
    "* How to measure the execution time of a Python function.\n",
    "* How to generate random inputs.\n",
    "* How to build a model to understand how the execution time of a function grows with the input data.\n",
    "* How to simplify these models.\n",
    "\n",
    "We've also leaned two types of complexity linear time complexity, O(N), and quadratic time complexity, O(N2). Linear time algorithms have an execution time that is proportional to the amount of data while quadratic time algorithms quadruple their execution time when data is doubled:\n",
    "![complexity graph](https://dq-content.s3.amazonaws.com/476/linear_quadratic_complexity.png)"
   ]
  },
  {
   "cell_type": "markdown",
   "metadata": {},
   "source": [
    "## Constant Time Complexity\n",
    "Previously, we learned how to analyze the time complexity of an algorithm. We saw examples of linear time algorithms. The execution time of a linear time algorithm is proportional to the size of the data, O(N). We also saw an example of a quadratic time algorithm, which was an algorithm whose execution time is proportional to the square of the size of the dataset, O(N2).\n",
    "\n",
    "In this mission, we will see another kind of time complexity: constant time complexity. We will also learn the core operations that a computer can perform and how a computer structures data into its memory.\n",
    "\n",
    "More concretely, an algorithm with constant time complexity is an algorithm whose execution time does not depend on the data that it is processing. A constant time algorithm can be very slow; what characterizes it, is the fact that the time it takes is independent of the amount of data:\n",
    "![constant time complexity](https://dq-content.s3.amazonaws.com/477/constant_time.png)"
   ]
  },
  {
   "cell_type": "markdown",
   "metadata": {},
   "source": [
    "#### Recap: Find the Coefficients and Order of the Following Function:"
   ]
  },
  {
   "cell_type": "code",
   "execution_count": 20,
   "metadata": {},
   "outputs": [],
   "source": [
    "def average(values):\n",
    "    average = 0                         # 1\n",
    "    for value in values:                # N\n",
    "        average += value                # N\n",
    "    return average / len(values)        # 1\n",
    "\n",
    "coefficients = [2,2] \n",
    "order = \"O(N)\""
   ]
  },
  {
   "cell_type": "markdown",
   "metadata": {},
   "source": [
    "To recap, a constant-time algorithm is an algorithm whose time complexity does not depend on the data. In terms of Python, these are functions whose execution time does not depend on the input. The max_two() function that computes the maximum between two given values is one such example:"
   ]
  },
  {
   "cell_type": "code",
   "execution_count": 21,
   "metadata": {},
   "outputs": [],
   "source": [
    "def max_two(a, b):\n",
    "    if a >= b:\n",
    "        return a\n",
    "    return b"
   ]
  },
  {
   "cell_type": "code",
   "execution_count": 22,
   "metadata": {},
   "outputs": [],
   "source": [
    "def max_two(a, b):\n",
    "    if a >= b:   # 1\n",
    "        return a # 1\n",
    "    return b     # 1"
   ]
  },
  {
   "cell_type": "markdown",
   "metadata": {},
   "source": [
    "We get a total of three line executions when we add these values. We denote the complexity of such an algorithm by O(1) and say that it's a <strong>constant time algorithm</strong>.\n",
    "    \n",
    "Classify each as either O(1) or otherwise:"
   ]
  },
  {
   "cell_type": "code",
   "execution_count": 23,
   "metadata": {},
   "outputs": [],
   "source": [
    "# O(N)\n",
    "def function1(N):\n",
    "    for i in range(N):\n",
    "        print(i)\n",
    "\n",
    "# O(1)\n",
    "def function2():\n",
    "    for i in range(100000):\n",
    "        print(i)\n",
    "\n",
    "# O(1)\n",
    "def function3(N):\n",
    "    for i in range(100000):\n",
    "        print(i)\n",
    "        \n",
    "constant1 = False\n",
    "constant2 = True\n",
    "constant3 = True"
   ]
  },
  {
   "cell_type": "markdown",
   "metadata": {},
   "source": [
    "#### We Must Consider Sub-Functions to Perform Time Complexity Analysis\n",
    "Consider the code:"
   ]
  },
  {
   "cell_type": "code",
   "execution_count": 24,
   "metadata": {},
   "outputs": [],
   "source": [
    "def find_minimum(values):\n",
    "    minimum = None\n",
    "    for value in values:\n",
    "        if minimum == None or value < minimum:\n",
    "            minimum = value\n",
    "    return minimum\n",
    "\n",
    "def find_maximum(values):\n",
    "    maximum = None\n",
    "    for value in values:\n",
    "        if maximum == None or value > maximum:\n",
    "            maximum = value\n",
    "    return maximum\n",
    "\n",
    "def min_max2(values):\n",
    "    minimum = find_minimum(values)\n",
    "    maximum = find_maximum(values)\n",
    "    return minimum, maximum"
   ]
  },
  {
   "cell_type": "markdown",
   "metadata": {},
   "source": [
    "If we were to make a line execution count of the new implementation of min_max2(), we would get a constant time complexity:"
   ]
  },
  {
   "cell_type": "code",
   "execution_count": 25,
   "metadata": {},
   "outputs": [],
   "source": [
    "def min_max2(values):\n",
    "    minimum = find_minimum(values) # 1\n",
    "    maximum = find_maximum(values) # 1\n",
    "    return minimum, maximum        # 1"
   ]
  },
  {
   "cell_type": "markdown",
   "metadata": {},
   "source": [
    "This is <strong>wrong!</strong> To fix this, we need to make sure that, when we perform a complexity analysis, we add the time complexity of the function calls."
   ]
  },
  {
   "cell_type": "code",
   "execution_count": 26,
   "metadata": {},
   "outputs": [],
   "source": [
    "def min_max2(values):\n",
    "    minimum = find_minimum(values) # O(N)\n",
    "    maximum = find_maximum(values) # O(N)\n",
    "    return minimum, maximum        # 1"
   ]
  },
  {
   "cell_type": "markdown",
   "metadata": {},
   "source": [
    "**Simplifying further, we can omit the O and use the value contained in parenthesis:**"
   ]
  },
  {
   "cell_type": "code",
   "execution_count": 27,
   "metadata": {},
   "outputs": [],
   "source": [
    "def min_max2(values):\n",
    "    minimum = find_minimum(values) # N\n",
    "    maximum = find_maximum(values) # N\n",
    "    return minimum, maximum        # 1"
   ]
  },
  {
   "cell_type": "markdown",
   "metadata": {},
   "source": [
    "**Exercise:**\n",
    "Perform a time complexity analysis on the following 3 functions:"
   ]
  },
  {
   "cell_type": "code",
   "execution_count": 28,
   "metadata": {},
   "outputs": [],
   "source": [
    "def sum_values(values):\n",
    "    total = 0            # 1\n",
    "    for value in values: # N\n",
    "        total += value   # N\n",
    "    return total         # 1\n",
    "\n",
    "def num_values(values):\n",
    "    total = 0            # 1\n",
    "    for _ in values:     # N\n",
    "        total += 1       # N\n",
    "    return total         # 1\n",
    "\n",
    "def average(values):\n",
    "    value_sum = sum_values(values)  # N\n",
    "    num_values = num_values(values) # N\n",
    "    return value_sum / num_values   # 1"
   ]
  },
  {
   "cell_type": "markdown",
   "metadata": {},
   "source": [
    "### Lookout for \"Hidden\" Function Calls\n",
    "Now, we can take into account the time complexities of function calls and avoid underestimating the time complexity of an algorithm. Are there any other special cases that we need to consider? The answer is both yes and no.\n",
    "\n",
    "The reason why we cannot answer a simple no to this question is that Python offers a lot of syntactic sugars, which makes it hard to identify where we are calling functions. A syntactic sugar in a programming language is a shorthand notation that is used to write more concise code.\n",
    "\n",
    "For example, when we write `values[4]` to access the value at index 4 in a list, we are actually calling the `list.__getitem__()` method. So, `values[4]` is a syntactic sugar (alternative notation) for `values.__getitem__(4)`.\n",
    "\n",
    "A similar syntactic sugar is setting a value to a list index. The code `values[3] = 42` is actually a syntactic sugar for `values.__setitem__(3, 42)`."
   ]
  },
  {
   "cell_type": "markdown",
   "metadata": {},
   "source": [
    "* **List Comprehension** represents O(N) (at minimum)\n",
    "* `values[4]` represents `values.__getitem__(4)`. This is done in O(1) time."
   ]
  },
  {
   "cell_type": "markdown",
   "metadata": {},
   "source": [
    "**Exercise:**\n",
    "Perform time complexity analysis on the following 6 list comprehensions:"
   ]
  },
  {
   "cell_type": "code",
   "execution_count": 29,
   "metadata": {},
   "outputs": [],
   "source": [
    "N = 10\n",
    "M = 20\n",
    "\n",
    "list1 = [_ for i in range(0)] # 'O(1)'\n",
    "list2 = [i for i in range(3)] # 'O(1)'\n",
    "list3 = [i * i for i in range(M)]  # 'O(M)'\n",
    "list4 = [[i + j for j in range(M)] for i in range(N)]   # 'O(N + M)'\n",
    "list5 = [min(list4[i]) for i in range(N)]   # 'O(N + M)'\n",
    "list6 = [i for i in range(1000)] # 'O(1)'\n",
    "\n",
    "complexity1 = 'O(1)'\n",
    "complexity2 = 'O(N)'\n",
    "complexity3 = 'O(M)'\n",
    "complexity4 = 'O(N + M)'\n",
    "complexity5 = 'O(N * M)'\n",
    "\n",
    "# Example answer for list1\n",
    "answer1 = complexity1\n",
    "answer2 = complexity1 \n",
    "answer3 = complexity3\n",
    "answer4 = complexity5\n",
    "answer5 = complexity5\n",
    "answer6 = complexity1"
   ]
  },
  {
   "cell_type": "markdown",
   "metadata": {},
   "source": [
    "### Fundamental Operations of a Computer\n",
    "The fundamental operations that a computer can do are:\n",
    "* Allocating a single memory location for a variable\n",
    "* Reading and writing values in single memory location\n",
    "* Basic arithmetic operations addition, subtraction, multiplication, and division on fixed bit length numbers\n",
    "* Checking a single boolean condition\n",
    "* Printing a character to the screen\n",
    "\n",
    "In general, an algorithm takes some data and computes something out of it. In order to process data, we need a way to store and access that data into the computer memory. For this reason, it is important to understand how more complex data can be created, such as lists, strings and dictionaries. To do so, we need to understand how a computer can allocate memory.\n",
    "\n",
    "We have learned in the first Python course that when we declare a variable in Python, the computer will allocate a position in its memory to store the value of the variable. The name that was used for that variable can then be used to access that value. For instance, imagine that we declare a variable named result with value 20, like so:"
   ]
  },
  {
   "cell_type": "code",
   "execution_count": 30,
   "metadata": {},
   "outputs": [],
   "source": [
    "result = 20 # Constant time operation\n",
    "values = [20, 13, 8, 11, 42, 4] # O(N) where N is the number of allocated positions."
   ]
  },
  {
   "cell_type": "markdown",
   "metadata": {},
   "source": [
    "**Single location:**\n",
    "![memory allocation](https://dq-content.s3.amazonaws.com/477/memory_array1.svg)\n",
    "\n",
    "**Continuous range (array):**\n",
    "![array allocation](https://dq-content.s3.amazonaws.com/477/memory_array2.svg)"
   ]
  },
  {
   "cell_type": "markdown",
   "metadata": {},
   "source": [
    "The cost of allocating an array in memory is O(N), where N is the number of allocated positions.\n",
    "\n",
    "No matter how big the array is, the computer can access any position in constant time by jumping straight to the correct position. For this reason, accessing a list element at a specific index can be done in O(1)."
   ]
  },
  {
   "cell_type": "code",
   "execution_count": 31,
   "metadata": {},
   "outputs": [
    {
     "data": {
      "text/plain": [
       "11"
      ]
     },
     "execution_count": 31,
     "metadata": {},
     "output_type": "execute_result"
    }
   ],
   "source": [
    "values[3] # This is done in O(1) time"
   ]
  },
  {
   "cell_type": "markdown",
   "metadata": {},
   "source": [
    "### How Python Appends Items to Lists\n",
    "However, this efficiency comes at a cost. The reason why the computer is able to jump straight to a specific position is the fact that the range of allocated positions is contiguous (the memory locations are one next to the other inside the memory). This means that arrays must have a fixed length that is defined upon creation. If their length was to change later, the next positions might already be used by other variables, and data would be lost.\n",
    "\n",
    "This means that we cannot append elements to an array. However, we can append elements to lists using the `list.append()` so how can this be?\n",
    "\n",
    "When we append a new element to a list, Python will: \n",
    "1. Create a brand new array that is bigger than the previous one\n",
    "2. Copy all elements previously stored in the old array\n",
    "3. Write the new element just after the last one.\n",
    "![append](https://dq-content.s3.amazonaws.com/477/memory_array3.png)\n",
    "\n",
    "The copy process takes O(N) time, where N is the number of elements in the list at that time."
   ]
  },
  {
   "cell_type": "markdown",
   "metadata": {},
   "source": [
    "### Analyzing `append()`"
   ]
  },
  {
   "cell_type": "markdown",
   "metadata": {},
   "source": [
    "Arrays are a rigid data structure whose length cannot be increased. For this reason, to append an element to a list, we need to allocate a new array of bigger length and copy all elements previously in it together with the new element that we want to add.\n",
    "\n",
    "If not implemented carefully, this will result in an O(N) time complexity for the list.append() method. This is because, at each insertion, we'll need to copy all of the previously added elements.\n",
    "\n",
    "#### Overcoming O(N)\n",
    "There is a trick to overcome this. Instead of allocating an array with the exact number of elements in the list plus one, we create a bigger array, leaving some unused positions in the end. We also keep a variable that points to the first empty position in the array. Then, when we want to add a new element to the list, we add it to the first unused position in constant time.\n",
    "\n",
    "However, as we keep adding elements, we will eventually fill all positions. At this point, we need to resize the array. Instead of increasing the length of the new array by one, we make it bigger than necessary. In this way, we will be able to add new elements in constant time for a while, before having to do another resize.\n",
    "\n",
    "Imagine that we execute the following code:"
   ]
  },
  {
   "cell_type": "code",
   "execution_count": 32,
   "metadata": {},
   "outputs": [],
   "source": [
    "values = []\n",
    "values.append(0)\n",
    "values.append(1)\n",
    "values.append(2)\n",
    "values.append(3)\n",
    "values.append(4)"
   ]
  },
  {
   "cell_type": "markdown",
   "metadata": {},
   "source": [
    "#### Resize Strategy: Double the Array Size\n",
    "One resize strategy is to create a new array with double the length of the original whenever it becomes full. Here is an illustration of the underlying array used to store the values list:\n",
    "\n",
    "\n",
    "<img src='https://dq-content.s3.amazonaws.com/477/list_append_2.svg' alt='Double Array Size' style='width: 700px;'/>"
   ]
  },
  {
   "cell_type": "markdown",
   "metadata": {},
   "source": [
    "As you can see, by using more memory, this process reduces the number of times we will need to resize the array. Let's analyze what we lose in terms of memory and what we gain in terms of time complexity with this solution.\n",
    "\n",
    "To answer the memory question, observe that, since we double the array capacity when it becomes full, it means that after the resize, at least half of the array is full. Therefore we use at most double the required memory.\n",
    "\n",
    "To analyze the time complexity, we need to take another look. If we look at a single list.append() we still have O(N) complexity since, in the worse case, we need to resize the array. However, let's look at the total cost of adding N elements rather than a single element.\n",
    "\n",
    "Let's do this experimentally. To do our experiment, we will pretend that we add elements to a list and keep track of the number of elements in the list, as well as the length that the underlying array would have. Given these two parameters, we can compute the cost of adding an element to a list using the following function:"
   ]
  },
  {
   "cell_type": "code",
   "execution_count": 33,
   "metadata": {},
   "outputs": [],
   "source": [
    "def append_cost(array_length, list_length):\n",
    "    if array_length == list_length:\n",
    "        return array_length\n",
    "    return 1"
   ]
  },
  {
   "cell_type": "markdown",
   "metadata": {},
   "source": [
    "The first thing that we check is whether we need to resize the array. This happens when the length of the array and the list are the same. In this case, the cost is essentially O(array length). Otherwise, it is done in O(1).\n",
    "\n",
    "The experiment will receive the number of elements to add as a parameter. Then, it will simulate adding elements to the list by keeping track of the list and array sizes. At each iteration, we will compute the cost with the above function and add it to the total cost. Remember, we want to evaluate the total cost of adding N elements."
   ]
  },
  {
   "cell_type": "code",
   "execution_count": 34,
   "metadata": {},
   "outputs": [],
   "source": [
    "def append_N_list_cost(N):\n",
    "    array_length = 1 # Initially the array will have length 1\n",
    "    list_length = 0  # Initially the list has 0 elements\n",
    "    total_cost = 0   # This variable will keep track of the total cost\n",
    "    for i in range(N):\n",
    "        cost = append_cost(array_length, list_length)\n",
    "        total_cost += cost\n",
    "        # Update the array and list lengths\n",
    "        if array_length == list_length:\n",
    "            array_length *= 2\n",
    "        list_length += 1\n",
    "    return total_cost"
   ]
  },
  {
   "cell_type": "markdown",
   "metadata": {},
   "source": [
    "Executing `append_N_list_cost()` returns the estimated cost of adding N elements to a list. \n",
    "\n",
    "Lets plot the results:"
   ]
  },
  {
   "cell_type": "code",
   "execution_count": 35,
   "metadata": {},
   "outputs": [
    {
     "data": {
      "image/png": "[encoded data removed]",
      "text/plain": [
       "<Figure size 432x288 with 1 Axes>"
      ]
     },
     "metadata": {
      "needs_background": "light"
     },
     "output_type": "display_data"
    }
   ],
   "source": [
    "import matplotlib.pyplot as plt\n",
    "\n",
    "def plot_costs(times):\n",
    "    plt.plot(times, label='append cost')\n",
    "    plt.ylabel('cost')\n",
    "    plt.xlabel('N')\n",
    "    plt.show()\n",
    "\n",
    "costs = []\n",
    "for N in range(5000):\n",
    "    cost = append_N_list_cost(N)\n",
    "    costs.append(cost)\n",
    "plot_costs(costs)"
   ]
  },
  {
   "cell_type": "markdown",
   "metadata": {},
   "source": [
    "It's not clear at first how this function is growing. It grows linearly, but then it sometimes jumps. These jumps correspond to the moments where we needed to double the array length. The next figure shows the same plot together with the functions 2N and 3N :\n",
    "\n",
    "<img src='https://dq-content.s3.amazonaws.com/477/append_cost2.png' alt='linear plot' style='width=700px;'/>\n",
    "\n",
    "As we can see, the cost of appending an element to a list is always between 2N and 3N. Since it's always smaller than 3N and 3N = O(N), this means the cost of appending N elements to a list is O(N).\n",
    "\n",
    "#### Amortized Complexity\n",
    "Since N operations cost O(N) , we can amortize the cost of a single operation by dividing the total cost by the number of operations. In this case, by dividing O(N) by N we get O(N) / N = O(1) for each list.append(). We then say that list.append() has **amortized complexity** of O(1).\n",
    "\n",
    "In terms of execution time, having amortized complexity O(1) will yield the same results as if the complexity really was O(1). Think of this analysis as distributing the few costly operations amongst all executions of the method.\n",
    "\n",
    "Here is a table with the time complexity of the most common list methods:\n",
    "\n",
    "| Method   |  Description |\tComplexity|\n",
    "|----      |---            -|-----|\n",
    "| len() |  Get the length of the list |\tO(1) |\n",
    "|append()  |  Add an element to the list |\tO(1) |\n",
    "| pop()\t| Retrieve and remove the last element of the list| O(1)|\n",
    "|remove(x)\t| Remove the first ocurrence of x (if it exists)|\tO(N)|\n",
    "| insert(i) |\tInsert the element at index i |\tO(N) |\n",
    "\n",
    "\n",
    "\n",
    "Because of this, <u>**we should only use lists when the operations that we need to use on the data are limited to list.append(), list.pop(), and looping over all list elements**</u>. If we need more complex operations, odds are that there is a more efficient data structure for storing the data."
   ]
  },
  {
   "cell_type": "code",
   "execution_count": 36,
   "metadata": {},
   "outputs": [
    {
     "name": "stdout",
     "output_type": "stream",
     "text": [
      "Appending 50,000 values took 0.0029914379119873047 seconds\n",
      "Inserting 50,000 values took 0.3651585578918457 seconds\n",
      "time_append was 122.07 times faster than time_insert!\n"
     ]
    }
   ],
   "source": [
    "def add_with_append(N):\n",
    "    values = []\n",
    "    for i in range(N):\n",
    "        values.append(i)\n",
    "    return values\n",
    "\n",
    "def add_with_insert(N):\n",
    "    values = []\n",
    "    for i in range(N):\n",
    "        values.insert(0, i)\n",
    "    return values\n",
    "\n",
    "# write code below\n",
    "import time\n",
    "\n",
    "start = time.time()\n",
    "add_with_append(50000)\n",
    "end = time.time()\n",
    "time_append = end - start\n",
    "\n",
    "start = time.time()\n",
    "add_with_insert(50000)\n",
    "end = time.time()\n",
    "time_insert = end - start\n",
    "\n",
    "quickest = min(time_insert, time_append)\n",
    "slowest = max(time_insert, time_append)\n",
    "\n",
    "difference = slowest / quickest\n",
    "\n",
    "print(f'Appending 50,000 values took {time_append} seconds')\n",
    "print(f'Inserting 50,000 values took {time_insert} seconds')\n",
    "print(f'time_append was {difference:.2f} times faster than time_insert!')"
   ]
  },
  {
   "cell_type": "markdown",
   "metadata": {},
   "source": [
    "Inserting is much slower than appending.\n",
    "\n",
    "Dividing .365 by .003 we get 122, inferring that the `append()` was 122 times faster than the `insert()` method.\n",
    "\n",
    "Computer processors are designed to manipulate fixed bit length numbers very efficiently. However, we've already learned in the third Python course that Python does not use fixed bit length integers and that numeric values can grow as large as the computer memory allows.\n",
    "\n",
    "We learned, in this mission, that computers cannot manipulate arbitrarily large amounts of information in constant time. Since the size of numbers in Python can grow as large as the computer memory allows, we conclude that <u>arithmetic operations cannot be performed in constant time in Python</u>.\n",
    "\n",
    "Arithmetic operations are yet another common example of hidden function calls in Python. The code `x + y` in Python is a syntactic sugar for `x.__add__(y)`. The same is true for other arithmetic operations. For example, `x * y` corresponds to `x.__mul__(y)`. The time complexity of doing an arithmetic operation between two integers depends on the number of digits required to represent them."
   ]
  },
  {
   "cell_type": "code",
   "execution_count": 42,
   "metadata": {},
   "outputs": [
    {
     "name": "stdout",
     "output_type": "stream",
     "text": [
      "8\n",
      "8\n"
     ]
    }
   ],
   "source": [
    "x = 3\n",
    "y = 5\n",
    "print(x + y)\n",
    "# '+' calls the __add__() function\n",
    "print(x.__add__(y))\n"
   ]
  },
  {
   "cell_type": "markdown",
   "metadata": {},
   "source": [
    "The exact time complexities are relatively complex and not very useful for data science as a whole. The reason is that we hardly ever deal with values that require more than 64 bits. Manipulating numbers with at most 64 bits can be done in constant time, even in Python. Only fields like cryptography care about the complexity of handling very large numbers since they use them constantly.\n",
    "\n",
    "Let's perform an experiment to verify that as the number of digits increases, so does the time need to compute the result of arithmetic operations.\n",
    "\n",
    "Plotting the times of multiplying integers with an increasing number of digits:\n",
    "![multiplying integers](https://dq-content.s3.amazonaws.com/477/multiply.png)\n",
    "This shows that the execution time is not constant and increases as the number of digits increases. However, since most values that we deal with in data science are relatively small, we will always treat arithmetic operations between numeric values as constant-time operations.\n",
    "\n",
    "Numbers are not the only objects over which we use arithmetic operations. We have seen that if x and y are integers, then x + y is actually a call to the method int.__add__(). A similar behavior occurs when concatenating strings. If a and b are strings then a + b will call the method str._add__() which, as we've learned, computes the result of concatenating a and b.\n",
    "\n",
    "To refresh your memory, here is an example of string concatenation:"
   ]
  },
  {
   "cell_type": "code",
   "execution_count": 44,
   "metadata": {},
   "outputs": [
    {
     "name": "stdout",
     "output_type": "stream",
     "text": [
      "dataquest\n"
     ]
    }
   ],
   "source": [
    "a = 'data'\n",
    "b = 'quest'\n",
    "print(a + b)"
   ]
  },
  {
   "cell_type": "markdown",
   "metadata": {},
   "source": [
    "But how much does it cost to concatenate two strings? We've learned that it cannot take constant time since we are producing an output that does not have a constant length.\n",
    "\n",
    "Under the hood, strings, just like lists, are implemented using arrays. The array has one position for each character. Imagine we have two strings like below:"
   ]
  },
  {
   "cell_type": "code",
   "execution_count": 45,
   "metadata": {},
   "outputs": [],
   "source": [
    "x = 'data'\n",
    "y = 'quest'"
   ]
  },
  {
   "cell_type": "markdown",
   "metadata": {},
   "source": [
    "In memory, we will have two arrays containing the string characters:\n",
    "\n",
    "![string memory](https://dq-content.s3.amazonaws.com/477/string_concat_1.svg)\n",
    "\n",
    "Then, if we execute x += y, we will actually not modify the array containing x, but rather create a new one from scratch. The length of the array containing the concatenation will be equal to the sum of the lengths of x and y. Then the contents of both arrays will be copied to the new one. The variable x will then point to this new array:\n",
    "\n",
    "![string memory 2](https://dq-content.s3.amazonaws.com/477/string_concat_2.svg)\n",
    "\n",
    "It is \"expensive\" to concatenate a lot of strings using the `+` operator. Rather, we should use the `str.join()` method:"
   ]
  },
  {
   "cell_type": "code",
   "execution_count": 48,
   "metadata": {},
   "outputs": [
    {
     "name": "stdout",
     "output_type": "stream",
     "text": [
      "StringConcatenationWithJoin\n"
     ]
    }
   ],
   "source": [
    "words = ['String', 'Concatenation', 'With', 'Join']\n",
    "print(''.join(words))"
   ]
  },
  {
   "cell_type": "markdown",
   "metadata": {},
   "source": [
    "#### Comparing String Concatenation Methods"
   ]
  },
  {
   "cell_type": "markdown",
   "metadata": {},
   "source": [
    "Useful Information:\n",
    "* `string.ascii_letters` returns a string containing the lower case and upper case letters according to the current locale.\n",
    "* `random.choice` returns a single, random element from a sequence.\n",
    "\n",
    "`import string\n",
    "string.ascii_letters\n",
    "'abcdefghijklmnopqrstuvwxyzABCDEFGHIJKLMNOPQRSTUVWXYZ'`\n",
    "\n",
    "`import random\n",
    "random.choice(string.ascii_letters)\n",
    "'j'`\n",
    "\n",
    "[Source](https://stackoverflow.com/questions/2823316/generate-a-random-letter-in-python)"
   ]
  },
  {
   "cell_type": "code",
   "execution_count": 60,
   "metadata": {
    "scrolled": true
   },
   "outputs": [
    {
     "name": "stdout",
     "output_type": "stream",
     "text": [
      "['btYhLQkuef', 'VCYxBcBlUs', 'QyLeFZmIgH', 'leeSlKxrZs', 'iiCAmSuxjt']\n",
      "Time with add: 0.010971546173095703 seconds\n",
      "Time with join: 0.0009965896606445312 seconds\n"
     ]
    }
   ],
   "source": [
    "import time\n",
    "import string\n",
    "import random\n",
    "\n",
    "def create_string():\n",
    "    result = ''\n",
    "    for _ in range(10):\n",
    "        result+= random.choice(string.ascii_letters)\n",
    "    return result\n",
    "\n",
    "random_strings = [create_string() for _ in range(100000)]\n",
    "    \n",
    "def concat_with_add(word_list):\n",
    "    concat = ''\n",
    "    for word in word_list:\n",
    "        concat += word\n",
    "    return concat\n",
    "\n",
    "def concat_with_join(word_list):\n",
    "    return ''.join(word_list)\n",
    "\n",
    "print(random_strings[:5])\n",
    "\n",
    "# write code below\n",
    "import time\n",
    "\n",
    "start = time.time()\n",
    "concat_with_add(random_strings)\n",
    "end = time.time()\n",
    "time_add = end - start\n",
    "\n",
    "start = time.time()\n",
    "concat_with_join(random_strings)\n",
    "end = time.time()\n",
    "time_join = end - start\n",
    "\n",
    "print(f'Time with add: {time_add} seconds')\n",
    "print(f'Time with join: {time_join} seconds')"
   ]
  },
  {
   "cell_type": "code",
   "execution_count": null,
   "metadata": {},
   "outputs": [],
   "source": []
  }
 ],
 "metadata": {
  "kernelspec": {
   "display_name": "Python 3",
   "language": "python",
   "name": "python3"
  },
  "language_info": {
   "codemirror_mode": {
    "name": "ipython",
    "version": 3
   },
   "file_extension": ".py",
   "mimetype": "text/x-python",
   "name": "python",
   "nbconvert_exporter": "python",
   "pygments_lexer": "ipython3",
   "version": "3.8.5"
  }
 },
 "nbformat": 4,
 "nbformat_minor": 4
}
