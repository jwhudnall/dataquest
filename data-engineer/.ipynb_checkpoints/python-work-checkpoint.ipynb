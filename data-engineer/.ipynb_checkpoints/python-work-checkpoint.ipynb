{
 "cells": [
  {
   "cell_type": "markdown",
   "metadata": {},
   "source": [
    "## Dictionaries"
   ]
  },
  {
   "cell_type": "code",
   "execution_count": 1,
   "metadata": {},
   "outputs": [
    {
     "name": "stdout",
     "output_type": "stream",
     "text": [
      "It exists\n"
     ]
    }
   ],
   "source": [
    "content_ratings = {'4+': 4433, '9+': 987, '12+': 1155, '17+': 622}\n",
    "\n",
    "is_in_dictionary_1 = '9+' in content_ratings\n",
    "is_in_dictionary_2 = 987 in content_ratings\n",
    "\n",
    "if '17+' in content_ratings:\n",
    "    result = \"It exists\"\n",
    "    \n",
    "print(result)"
   ]
  },
  {
   "cell_type": "code",
   "execution_count": 2,
   "metadata": {},
   "outputs": [],
   "source": [
    "from csv import reader\n",
    "opened_file = open('AppleStore.csv', encoding='utf8') # https://stackoverflow.com/questions/9233027/unicodedecodeerror-charmap-codec-cant-decode-byte-x-in-position-y-character\n",
    "read_file = reader(opened_file) \n",
    "apps_data = list(read_file)\n",
    "opened_file.close()"
   ]
  },
  {
   "cell_type": "code",
   "execution_count": 3,
   "metadata": {},
   "outputs": [
    {
     "name": "stdout",
     "output_type": "stream",
     "text": [
      "{'4+': 4433, '12+': 1155, '9+': 987, '17+': 622}\n"
     ]
    }
   ],
   "source": [
    "content_ratings = {}\n",
    "\n",
    "for app in apps_data[1:]:\n",
    "    c_rating = app[10]\n",
    "    if c_rating not in content_ratings:\n",
    "        content_ratings[c_rating] = 1\n",
    "    else:\n",
    "        content_ratings[c_rating]+=1\n",
    "\n",
    "print(content_ratings)"
   ]
  },
  {
   "cell_type": "code",
   "execution_count": 4,
   "metadata": {},
   "outputs": [
    {
     "name": "stdout",
     "output_type": "stream",
     "text": [
      "{'Social Networking': 167, 'Photo & Video': 349, 'Games': 3862, 'Music': 138, 'Reference': 64, 'Health & Fitness': 180, 'Weather': 72, 'Utilities': 248, 'Travel': 81, 'Shopping': 122, 'News': 75, 'Navigation': 46, 'Lifestyle': 144, 'Entertainment': 535, 'Food & Drink': 63, 'Sports': 114, 'Book': 112, 'Finance': 104, 'Education': 453, 'Productivity': 178, 'Business': 57, 'Catalogs': 10, 'Medical': 23}\n"
     ]
    }
   ],
   "source": [
    "genre_counting = {}\n",
    "for app in apps_data[1:]:\n",
    "    genre = app[11]\n",
    "    \n",
    "    if genre in genre_counting:\n",
    "        genre_counting[genre] += 1\n",
    "    else:\n",
    "        genre_counting[genre] = 1\n",
    "        \n",
    "print(genre_counting)"
   ]
  },
  {
   "cell_type": "code",
   "execution_count": 5,
   "metadata": {},
   "outputs": [
    {
     "name": "stdout",
     "output_type": "stream",
     "text": [
      "{'4+': 61.595109073224954, '12+': 16.04835348061692, '9+': 13.714047519799916, '17+': 8.642489926358204}\n"
     ]
    }
   ],
   "source": [
    "content_ratings = {'4+': 4433, '12+': 1155, '9+': 987, '17+': 622}\n",
    "total_number_of_apps = 7197\n",
    "\n",
    "for rating in content_ratings:\n",
    "    content_ratings[rating] /= total_number_of_apps \n",
    "    content_ratings[rating] *= 100\n",
    "    \n",
    "percentage_17_plus = content_ratings['17+']\n",
    "percentage_15_allowed = 100 - percentage_17_plus\n",
    "\n",
    "print(content_ratings)"
   ]
  },
  {
   "cell_type": "code",
   "execution_count": 6,
   "metadata": {},
   "outputs": [
    {
     "name": "stdout",
     "output_type": "stream",
     "text": [
      "{'4+': 0.6159510907322495, '12+': 0.16048353480616923, '9+': 0.13714047519799916, '17+': 0.08642489926358204}\n",
      "{'4+': 61.595109073224954, '12+': 16.04835348061692, '9+': 13.714047519799916, '17+': 8.642489926358204}\n"
     ]
    }
   ],
   "source": [
    "content_ratings = {'4+': 4433, '12+': 1155, '9+': 987, '17+': 622}\n",
    "total_number_of_apps = 7197\n",
    "c_ratings_proportions = {}\n",
    "c_ratings_percentages = {}\n",
    "\n",
    "for key in content_ratings:\n",
    "    proportion = content_ratings[key] / total_number_of_apps\n",
    "    percentage = proportion * 100\n",
    "    c_ratings_proportions[key] = proportion\n",
    "    c_ratings_percentages[key] = percentage\n",
    "    \n",
    "print(c_ratings_proportions)\n",
    "print(c_ratings_percentages)"
   ]
  },
  {
   "cell_type": "markdown",
   "metadata": {},
   "source": [
    "### Min and Max Values"
   ]
  },
  {
   "cell_type": "code",
   "execution_count": 7,
   "metadata": {},
   "outputs": [
    {
     "name": "stdout",
     "output_type": "stream",
     "text": [
      "589824.0 4025969664.0\n"
     ]
    }
   ],
   "source": [
    "data_sizes = []\n",
    "\n",
    "for app in apps_data[1:]:\n",
    "    size = float(app[2])\n",
    "    data_sizes.append(size)\n",
    "\n",
    "min_size = min(data_sizes)\n",
    "max_size = max(data_sizes)\n",
    "\n",
    "print(min_size, max_size)"
   ]
  },
  {
   "cell_type": "code",
   "execution_count": 8,
   "metadata": {},
   "outputs": [
    {
     "name": "stdout",
     "output_type": "stream",
     "text": [
      "{'0-200k': 7106, '200k-500k': 69, '500k-1m': 16, '1m-2m': 3, '2m+': 3}\n"
     ]
    }
   ],
   "source": [
    "rating_count_list = []\n",
    "for app in apps_data[1:]:\n",
    "    rating = float(app[5])\n",
    "    rating_count_list.append(rating)\n",
    "\n",
    "min_rating = min(rating_count_list)\n",
    "max_rating = max(rating_count_list)\n",
    "\n",
    "app_rating_frequency = {'0-200k': 0,\n",
    "                        '200k-500k':0,\n",
    "                        '500k-1m': 0,\n",
    "                        '1m-2m': 0,\n",
    "                        '2m+': 0}\n",
    "\n",
    "for app in apps_data[1:]:\n",
    "    rating = float(app[5])\n",
    "    \n",
    "    if rating < 200000:\n",
    "        app_rating_frequency['0-200k'] += 1\n",
    "    elif rating >= 200000 and rating < 500000:\n",
    "        app_rating_frequency['200k-500k'] += 1\n",
    "    elif rating >= 500000 and rating < 1000000:\n",
    "        app_rating_frequency['500k-1m'] += 1\n",
    "    elif rating >= 1000000 and rating < 2000000:\n",
    "        app_rating_frequency['1m-2m'] += 1\n",
    "    elif rating >= 2000000:\n",
    "        app_rating_frequency['2m+'] += 1\n",
    "        \n",
    "\n",
    "print(app_rating_frequency)"
   ]
  },
  {
   "cell_type": "markdown",
   "metadata": {},
   "source": [
    "## Functions"
   ]
  },
  {
   "cell_type": "code",
   "execution_count": 9,
   "metadata": {},
   "outputs": [],
   "source": [
    "def add_10(x):\n",
    "    return x + 10\n",
    "\n",
    "add_30 = add_10(30)\n",
    "add_90 = add_10(90)"
   ]
  },
  {
   "cell_type": "markdown",
   "metadata": {},
   "source": [
    "### Create a Frequency Table Using Functions\n",
    "1. Extract the desired column as a list (extract())\n",
    "2. Generate a frequency table for that list.\n",
    "**Define an Extract function that extracts a list of a desired table's index**"
   ]
  },
  {
   "cell_type": "code",
   "execution_count": 10,
   "metadata": {},
   "outputs": [
    {
     "name": "stdout",
     "output_type": "stream",
     "text": [
      "7197\n"
     ]
    }
   ],
   "source": [
    "def extract(col_idx):\n",
    "    col_data_list = []\n",
    "    for app in apps_data[1:]:\n",
    "        desired_attribute = app[col_idx]\n",
    "        col_data_list.append(desired_attribute)\n",
    "    return col_data_list\n",
    "\n",
    "genres = extract(11)\n",
    "\n",
    "print(len(genres))"
   ]
  },
  {
   "cell_type": "markdown",
   "metadata": {},
   "source": [
    "**Expand on this by adding a frequency dictionary**"
   ]
  },
  {
   "cell_type": "code",
   "execution_count": 11,
   "metadata": {},
   "outputs": [],
   "source": [
    "def freq_table(lst):\n",
    "    freq_dict = {}\n",
    "    for i in lst:\n",
    "        if i in freq_dict:\n",
    "            freq_dict[i] +=1\n",
    "        else:\n",
    "            freq_dict[i] = 1\n",
    "    return freq_dict"
   ]
  },
  {
   "cell_type": "code",
   "execution_count": 12,
   "metadata": {},
   "outputs": [
    {
     "name": "stdout",
     "output_type": "stream",
     "text": [
      "{'Social Networking': 167, 'Photo & Video': 349, 'Games': 3862, 'Music': 138, 'Reference': 64, 'Health & Fitness': 180, 'Weather': 72, 'Utilities': 248, 'Travel': 81, 'Shopping': 122, 'News': 75, 'Navigation': 46, 'Lifestyle': 144, 'Entertainment': 535, 'Food & Drink': 63, 'Sports': 114, 'Book': 112, 'Finance': 104, 'Education': 453, 'Productivity': 178, 'Business': 57, 'Catalogs': 10, 'Medical': 23}\n"
     ]
    }
   ],
   "source": [
    "genres_ft = freq_table(genres)\n",
    "\n",
    "print(genres_ft)"
   ]
  },
  {
   "cell_type": "markdown",
   "metadata": {},
   "source": [
    "**Combine these steps into a single function**"
   ]
  },
  {
   "cell_type": "code",
   "execution_count": 13,
   "metadata": {},
   "outputs": [
    {
     "name": "stdout",
     "output_type": "stream",
     "text": [
      "{'3.5': 702, '4.5': 2663, '4.0': 1626, '3.0': 383, '5.0': 492, '2.5': 196, '2.0': 106, '1.5': 56, '1.0': 44, '0.0': 929}\n"
     ]
    }
   ],
   "source": [
    "opened_file = open('AppleStore.csv', encoding='utf-8')\n",
    "from csv import reader\n",
    "read_file = reader(opened_file)\n",
    "apps_data = list(read_file)\n",
    "\n",
    "def freq_table(col_idx):\n",
    "    freq_dict = {}\n",
    "    for row in apps_data[1:]:\n",
    "        value = row[col_idx]\n",
    "        if value in freq_dict:\n",
    "            freq_dict[value] += 1\n",
    "        else:\n",
    "            freq_dict[value] = 1\n",
    "    \n",
    "    return freq_dict\n",
    "\n",
    "ratings_ft = freq_table(7)\n",
    "\n",
    "print(ratings_ft) # Should return user_ratings frequency table"
   ]
  },
  {
   "cell_type": "code",
   "execution_count": null,
   "metadata": {},
   "outputs": [],
   "source": []
  }
 ],
 "metadata": {
  "kernelspec": {
   "display_name": "Python 3",
   "language": "python",
   "name": "python3"
  },
  "language_info": {
   "codemirror_mode": {
    "name": "ipython",
    "version": 3
   },
   "file_extension": ".py",
   "mimetype": "text/x-python",
   "name": "python",
   "nbconvert_exporter": "python",
   "pygments_lexer": "ipython3",
   "version": "3.8.5"
  }
 },
 "nbformat": 4,
 "nbformat_minor": 4
}
