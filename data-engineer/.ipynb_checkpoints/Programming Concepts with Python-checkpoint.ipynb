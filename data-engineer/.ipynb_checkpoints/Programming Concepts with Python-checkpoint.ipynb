{
 "cells": [
  {
   "cell_type": "markdown",
   "metadata": {},
   "source": [
    "# Programming Concepts with Python"
   ]
  },
  {
   "cell_type": "markdown",
   "metadata": {},
   "source": [
    "Topics Covered:\n",
    "* Learn how data is represented under the hood\n",
    "* Learn about encodings\n",
    "* Learn how to work with text files\n",
    "* Learn how to optimize data usage"
   ]
  },
  {
   "cell_type": "markdown",
   "metadata": {},
   "source": [
    "## Binary and Positional Number Systems"
   ]
  },
  {
   "cell_type": "markdown",
   "metadata": {},
   "source": [
    "Bits:\n",
    "![Bits](https://dq-content.s3.amazonaws.com/450/binary.png)"
   ]
  },
  {
   "cell_type": "markdown",
   "metadata": {},
   "source": [
    "**Refresher: How to add Commas to Large Numbers:**"
   ]
  },
  {
   "cell_type": "code",
   "execution_count": 3,
   "metadata": {},
   "outputs": [
    {
     "name": "stdout",
     "output_type": "stream",
     "text": [
      "4294967296\n",
      "4,294,967,296\n"
     ]
    }
   ],
   "source": [
    "val = 2 ** 32\n",
    "print(val)\n",
    "print(f'{val:,}') # :, used to incorporate commas"
   ]
  },
  {
   "cell_type": "markdown",
   "metadata": {},
   "source": [
    "### Binary Digits\n",
    "**Base 10:**"
   ]
  },
  {
   "cell_type": "code",
   "execution_count": 4,
   "metadata": {},
   "outputs": [],
   "source": [
    "# for number 645231:\n",
    "\n",
    "# assign the weight of digit '2':\n",
    "weight_digit_2 = 10**2\n",
    "# assign the value of digit '2':\n",
    "value_digit_2 = 2 * weight_digit_2\n",
    "\n",
    "# assign the weight of digit 5:\n",
    "weight_digit_5 = 10 ** 3\n",
    "# assign the value of digit '5':\n",
    "value_digit_5 = 5 * weight_digit_5"
   ]
  },
  {
   "cell_type": "markdown",
   "metadata": {},
   "source": [
    "**Base 2**\n",
    "Numbers represented in Base 2 are represented using parenthesis with a subscript of 2: **(101)<sub>2</sub>**"
   ]
  },
  {
   "cell_type": "code",
   "execution_count": 5,
   "metadata": {},
   "outputs": [
    {
     "name": "stdout",
     "output_type": "stream",
     "text": [
      "25\n",
      "14\n"
     ]
    }
   ],
   "source": [
    "base = 2\n",
    "\n",
    "decimal_1 = 1*(base**0) + 1*(base**3) + 1*(base**4)\n",
    "decimal_2 = 1*(base**1) + 1*(base**2) + 1*(base**3)\n",
    "\n",
    "print(decimal_1)\n",
    "print(decimal_2)"
   ]
  },
  {
   "cell_type": "code",
   "execution_count": null,
   "metadata": {},
   "outputs": [],
   "source": []
  }
 ],
 "metadata": {
  "kernelspec": {
   "display_name": "Python 3",
   "language": "python",
   "name": "python3"
  },
  "language_info": {
   "codemirror_mode": {
    "name": "ipython",
    "version": 3
   },
   "file_extension": ".py",
   "mimetype": "text/x-python",
   "name": "python",
   "nbconvert_exporter": "python",
   "pygments_lexer": "ipython3",
   "version": "3.8.5"
  }
 },
 "nbformat": 4,
 "nbformat_minor": 4
}
