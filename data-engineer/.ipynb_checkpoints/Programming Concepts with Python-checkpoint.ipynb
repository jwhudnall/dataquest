{
 "cells": [
  {
   "cell_type": "markdown",
   "metadata": {},
   "source": [
    "# Programming Concepts with Python"
   ]
  },
  {
   "cell_type": "markdown",
   "metadata": {},
   "source": [
    "Topics Covered:\n",
    "* Learn how data is represented under the hood\n",
    "* Learn about encodings\n",
    "* Learn how to work with text files\n",
    "* Learn how to optimize data usage"
   ]
  },
  {
   "cell_type": "markdown",
   "metadata": {},
   "source": [
    "## Binary and Positional Number Systems"
   ]
  },
  {
   "cell_type": "markdown",
   "metadata": {},
   "source": [
    "Bits:\n",
    "![Bits](https://dq-content.s3.amazonaws.com/450/binary.png)"
   ]
  },
  {
   "cell_type": "markdown",
   "metadata": {},
   "source": [
    "**Refresher: How to add Commas to Large Numbers:**"
   ]
  },
  {
   "cell_type": "code",
   "execution_count": 3,
   "metadata": {},
   "outputs": [
    {
     "name": "stdout",
     "output_type": "stream",
     "text": [
      "4294967296\n",
      "4,294,967,296\n"
     ]
    }
   ],
   "source": [
    "val = 2 ** 32\n",
    "print(val)\n",
    "print(f'{val:,}') # :, used to incorporate commas"
   ]
  },
  {
   "cell_type": "markdown",
   "metadata": {},
   "source": [
    "### Binary Digits\n",
    "**Base 10:**"
   ]
  },
  {
   "cell_type": "code",
   "execution_count": 4,
   "metadata": {},
   "outputs": [],
   "source": [
    "# for number 645231:\n",
    "\n",
    "# assign the weight of digit '2':\n",
    "weight_digit_2 = 10**2\n",
    "# assign the value of digit '2':\n",
    "value_digit_2 = 2 * weight_digit_2\n",
    "\n",
    "# assign the weight of digit 5:\n",
    "weight_digit_5 = 10 ** 3\n",
    "# assign the value of digit '5':\n",
    "value_digit_5 = 5 * weight_digit_5"
   ]
  },
  {
   "cell_type": "markdown",
   "metadata": {},
   "source": [
    "**Base 2**\n",
    "Numbers represented in Base 2 are represented using parenthesis with a subscript of 2: **(101)<sub>2</sub>**"
   ]
  },
  {
   "cell_type": "code",
   "execution_count": 5,
   "metadata": {},
   "outputs": [
    {
     "name": "stdout",
     "output_type": "stream",
     "text": [
      "25\n",
      "14\n"
     ]
    }
   ],
   "source": [
    "base = 2\n",
    "\n",
    "decimal_1 = 1*(base**0) + 1*(base**3) + 1*(base**4)\n",
    "decimal_2 = 1*(base**1) + 1*(base**2) + 1*(base**3)\n",
    "\n",
    "print(decimal_1)\n",
    "print(decimal_2)"
   ]
  },
  {
   "cell_type": "markdown",
   "metadata": {},
   "source": [
    "**Convert a number to Base 2:**"
   ]
  },
  {
   "cell_type": "code",
   "execution_count": 7,
   "metadata": {},
   "outputs": [
    {
     "name": "stdout",
     "output_type": "stream",
     "text": [
      "213\n"
     ]
    }
   ],
   "source": [
    "num = 11010101\n",
    "str_num = str(num)\n",
    "print(int(str_num, 2)) # int(string, base)"
   ]
  },
  {
   "cell_type": "markdown",
   "metadata": {},
   "source": [
    "**Convert a number to binary:**"
   ]
  },
  {
   "cell_type": "code",
   "execution_count": 6,
   "metadata": {
    "scrolled": true
   },
   "outputs": [
    {
     "name": "stdout",
     "output_type": "stream",
     "text": [
      "0b11001\n"
     ]
    }
   ],
   "source": [
    "print(bin(25))"
   ]
  },
  {
   "cell_type": "markdown",
   "metadata": {},
   "source": [
    "### Differences Between Base 2 and Base 10"
   ]
  },
  {
   "cell_type": "markdown",
   "metadata": {},
   "source": [
    "![Base Differences](https://dq-content.s3.amazonaws.com/450/tb1.png)"
   ]
  },
  {
   "cell_type": "markdown",
   "metadata": {},
   "source": [
    "**Convert the following numbers/bases to base 10:**"
   ]
  },
  {
   "cell_type": "code",
   "execution_count": 8,
   "metadata": {},
   "outputs": [
    {
     "name": "stdout",
     "output_type": "stream",
     "text": [
      "285 7\n"
     ]
    }
   ],
   "source": [
    "base_8_to_10 = int('435', 8)\n",
    "base_7_to_10 = int('10', 7)\n",
    "\n",
    "print(base_8_to_10, base_7_to_10)"
   ]
  },
  {
   "cell_type": "markdown",
   "metadata": {},
   "source": [
    "### Hexadecimal"
   ]
  },
  {
   "cell_type": "markdown",
   "metadata": {},
   "source": [
    "**Hexadecimal and Beyond**\n",
    "Python has a built in `hex()` function to convert integers to base 16, prefixed with '0x'. \n",
    "Python supports bases between 2 and 36, inclusive."
   ]
  },
  {
   "cell_type": "code",
   "execution_count": 9,
   "metadata": {},
   "outputs": [
    {
     "name": "stdout",
     "output_type": "stream",
     "text": [
      "0xdad\n",
      "15\n"
     ]
    }
   ],
   "source": [
    "hex_3501 = hex(3501)\n",
    "decimal_F = int('F', 16)\n",
    "\n",
    "print(hex_3501)\n",
    "print(decimal_F)"
   ]
  },
  {
   "cell_type": "markdown",
   "metadata": {},
   "source": [
    "#### What's So Great About Hexadecimal?\n",
    "* A group of 4 bits is called a 'nibble'\n",
    "    * **2<sup>4</sup>** = 16 values (0-15)\n",
    "* Hexadecimal lets us represent a nibble with a single character.\n",
    "* A group of 8 bits is called a [byte](https://en.wikipedia.org/wiki/Byte).\n",
    "\n",
    "Also important implications in RGB color representation."
   ]
  },
  {
   "cell_type": "code",
   "execution_count": 10,
   "metadata": {},
   "outputs": [
    {
     "name": "stdout",
     "output_type": "stream",
     "text": [
      "d56f38\n"
     ]
    }
   ],
   "source": [
    "red_hex = hex(213)\n",
    "green_hex = hex(111)\n",
    "blue_hex = hex(56)\n",
    "\n",
    "rgb = red_hex, green_hex, blue_hex\n",
    "rgb_formatted = ''\n",
    "for color in rgb:\n",
    "    formatted = color.replace('0x','')\n",
    "    rgb_formatted += formatted\n",
    "\n",
    "print(rgb_formatted)"
   ]
  },
  {
   "cell_type": "markdown",
   "metadata": {},
   "source": [
    "**Octal - Base 8**\n",
    "`oct(integer)`"
   ]
  },
  {
   "cell_type": "code",
   "execution_count": 11,
   "metadata": {},
   "outputs": [
    {
     "name": "stdout",
     "output_type": "stream",
     "text": [
      "0o1747 999\n"
     ]
    }
   ],
   "source": [
    "octal_999 = oct(999)\n",
    "\n",
    "original = int(str(octal_999), 8)\n",
    "\n",
    "print(octal_999, original)"
   ]
  },
  {
   "cell_type": "markdown",
   "metadata": {},
   "source": [
    "## Encodings and Representing Text in a Computer"
   ]
  },
  {
   "cell_type": "markdown",
   "metadata": {},
   "source": [
    "In order to represent more complex information such as text, all that is needed is to define a set of rules that translates the information that we want to represent into a sequence of zeros and ones. The simplest kind of rule that we can define is a table that explicitly tells us the binary representation of each object that we want to represent. Such a rule is called an encoding.\n",
    "\n",
    "[ASCII Table](https://www.cs.cmu.edu/~pattis/15-1XX/common/handouts/ascii.html)"
   ]
  },
  {
   "cell_type": "code",
   "execution_count": 12,
   "metadata": {},
   "outputs": [
    {
     "name": "stdout",
     "output_type": "stream",
     "text": [
      "0b1010001\n",
      "0b1010101\n",
      "0b1000101\n",
      "0b1010011\n",
      "0b1010100\n"
     ]
    }
   ],
   "source": [
    "data = \"QUEST\"\n",
    "\n",
    "for char in data:\n",
    "    ordinal = ord(char)\n",
    "    binary = bin(ordinal)\n",
    "    print(binary)"
   ]
  },
  {
   "cell_type": "markdown",
   "metadata": {},
   "source": [
    "`chr()` and `ord()` - Inverse Relation"
   ]
  },
  {
   "cell_type": "code",
   "execution_count": 13,
   "metadata": {},
   "outputs": [
    {
     "name": "stdout",
     "output_type": "stream",
     "text": [
      "A\n"
     ]
    }
   ],
   "source": [
    "print(chr(65))"
   ]
  },
  {
   "cell_type": "code",
   "execution_count": 14,
   "metadata": {},
   "outputs": [
    {
     "name": "stdout",
     "output_type": "stream",
     "text": [
      "65\n"
     ]
    }
   ],
   "source": [
    "print(ord('A'))"
   ]
  },
  {
   "cell_type": "code",
   "execution_count": 1,
   "metadata": {},
   "outputs": [
    {
     "data": {
      "text/plain": [
       "False"
      ]
     },
     "execution_count": 1,
     "metadata": {},
     "output_type": "execute_result"
    }
   ],
   "source": [
    "chr(65) == ord('A')"
   ]
  },
  {
   "cell_type": "code",
   "execution_count": 1,
   "metadata": {},
   "outputs": [
    {
     "name": "stdout",
     "output_type": "stream",
     "text": [
      "b'The Swedish word for quest is s?kande'\n",
      "<class 'bytes'>\n"
     ]
    }
   ],
   "source": [
    "text = \"The Swedish word for quest is sökande\"\n",
    "\n",
    "encoded = text.encode(encoding='ascii', errors='replace')\n",
    "\n",
    "print(encoded)\n",
    "print(type(encoded))"
   ]
  },
  {
   "cell_type": "markdown",
   "metadata": {},
   "source": [
    "### Exploring the `bytes` Class\n",
    "Bytes object is represented as a sequence of integers between 0 and 255."
   ]
  },
  {
   "cell_type": "code",
   "execution_count": 2,
   "metadata": {},
   "outputs": [
    {
     "name": "stdout",
     "output_type": "stream",
     "text": [
      "68\n",
      "65\n",
      "84\n",
      "65\n"
     ]
    }
   ],
   "source": [
    "b = 'DATA'.encode(encoding='ascii')\n",
    "print(b[0]) # access the byte corresponding to D\n",
    "print(b[1]) # access the byte corresponding to A\n",
    "print(b[2]) # access the byte corresponding to T\n",
    "print(b[3]) # access the byte corresponding to the second A"
   ]
  },
  {
   "cell_type": "code",
   "execution_count": 3,
   "metadata": {},
   "outputs": [
    {
     "name": "stdout",
     "output_type": "stream",
     "text": [
      "b'DATA'\n"
     ]
    }
   ],
   "source": [
    "print(b)"
   ]
  },
  {
   "cell_type": "code",
   "execution_count": 4,
   "metadata": {},
   "outputs": [],
   "source": [
    "B = bytes.fromhex('ff a9 c8 44 41 54 41')"
   ]
  },
  {
   "cell_type": "code",
   "execution_count": 5,
   "metadata": {},
   "outputs": [
    {
     "name": "stdout",
     "output_type": "stream",
     "text": [
      "b'\\xff\\xa9\\xc8DATA'\n"
     ]
    }
   ],
   "source": [
    "print(B)"
   ]
  },
  {
   "cell_type": "code",
   "execution_count": 6,
   "metadata": {},
   "outputs": [],
   "source": [
    "# Check if char is lowercase:\n",
    "def is_lowercase(c):\n",
    "    return 97 <= ord(c) and ord(c) <= 122"
   ]
  },
  {
   "cell_type": "code",
   "execution_count": 8,
   "metadata": {},
   "outputs": [
    {
     "data": {
      "text/plain": [
       "True"
      ]
     },
     "execution_count": 8,
     "metadata": {},
     "output_type": "execute_result"
    }
   ],
   "source": [
    "is_lowercase('f')"
   ]
  },
  {
   "cell_type": "code",
   "execution_count": 9,
   "metadata": {},
   "outputs": [
    {
     "data": {
      "text/plain": [
       "True"
      ]
     },
     "execution_count": 9,
     "metadata": {},
     "output_type": "execute_result"
    }
   ],
   "source": [
    "# provided inputs\n",
    "string_1 = 'lowercase'\n",
    "string_2 = 'UPPERCASE'\n",
    "\n",
    "# 65 - 90 incl\n",
    "def check_uppercase(string):\n",
    "    for c in string:\n",
    "        # if non-uppercase is found, return false\n",
    "        if not (65 <= ord(c) and ord(c) <= 90):\n",
    "            return False\n",
    "    return True\n",
    "    \n",
    "check_uppercase('AA')"
   ]
  },
  {
   "cell_type": "code",
   "execution_count": 11,
   "metadata": {},
   "outputs": [
    {
     "name": "stdout",
     "output_type": "stream",
     "text": [
      "65,536\n"
     ]
    }
   ],
   "source": [
    "val = 2 ** 16\n",
    "print(f'{val:,}')"
   ]
  },
  {
   "cell_type": "code",
   "execution_count": 12,
   "metadata": {},
   "outputs": [
    {
     "name": "stdout",
     "output_type": "stream",
     "text": [
      "20320\n"
     ]
    }
   ],
   "source": [
    "print(ord('你'))"
   ]
  },
  {
   "cell_type": "markdown",
   "metadata": {},
   "source": [
    "### BIG5 Encoding (2 bytes)\n",
    "BIG5 encoding is a double byte encoding used for traditional Chinese characters. Since it is 2-byte encoding, each character needs to specify the two bytes to which it corresponds.\n",
    "\n",
    "BIG5 uses **up to** 2 bytes. It is considered a **variable-length encoding.**"
   ]
  },
  {
   "cell_type": "code",
   "execution_count": 13,
   "metadata": {},
   "outputs": [
    {
     "name": "stdout",
     "output_type": "stream",
     "text": [
      "b'\\xa7A\\xa6n\\xb6\\xdc?'\n",
      "7\n"
     ]
    }
   ],
   "source": [
    "trad_chinese = \"你好嗎?\"\n",
    "\n",
    "encoded = trad_chinese.encode(encoding='BIG5')\n",
    "print(encoded)\n",
    "\n",
    "print(len(encoded))"
   ]
  },
  {
   "cell_type": "markdown",
   "metadata": {},
   "source": [
    "### Enter: Unicode\n",
    "All of these encodings make it possible display text in a lot of languages but it comes at the cost of having to know the encoding used on the text in order to be able to read it.\n",
    "\n",
    "In an effort to overcome this people invented Unicode. Unicode is not actually an encoding. It is a very big table with 1,114,112 entries that maps symbols to codes. We are calling it symbols because the table is so big that it has space for things other than characters. For example, it contains entries for emojis.\n",
    "\n",
    "Unicode is not an encoding because it does not map symbols to binary but to something called code points. There are several encodings that have been created to encode these code points into bits. The most known ones are UTF-8, UTF-16 and UTF-32. Both UTF-8 and UTF-16 are variable-length encoding and UTF-32 is a fixed length encoding.\n",
    "\n",
    "The disadvantage of UTF-32 is that it wastes a lot of space since most characters can be represented with less than four bytes. It has the advantage of being very easy to decode because every character uses the same number of bytes. Because of its wasteful usage of space, UTF-32 is rarely used. You might think that, because UTF-8 uses a minimum of 8 bits, files encoded in UTF-8 occupy less space than the same files encoded in UTF-16. However that really depends on what language the text is in. For non-European languages, UTF-8 actually requires more memory than UTF-16.\n",
    "\n",
    "UTF-8 is one of the most commonly used encodings, and Python often defaults to using it. For instance it is the default argument of the bytes.encode() method."
   ]
  },
  {
   "cell_type": "code",
   "execution_count": 14,
   "metadata": {},
   "outputs": [
    {
     "name": "stdout",
     "output_type": "stream",
     "text": [
      "b'ASCII cannot represent these: \\xe4\\xbd\\xa0\\xe5\\xa5\\xbd\\xe5\\x97\\x8e'\n",
      "b'ASCII cannot represent these: ???'\n"
     ]
    }
   ],
   "source": [
    "sentence = \"ASCII cannot represent these: 你好嗎\"\n",
    "\n",
    "encoded_utf8 = sentence.encode(encoding='utf-8')\n",
    "encoded_ascii = sentence.encode(encoding='ascii', errors='replace')\n",
    "\n",
    "print(encoded_utf8)\n",
    "print(encoded_ascii)"
   ]
  },
  {
   "cell_type": "markdown",
   "metadata": {},
   "source": [
    "### Decoding\n",
    "How can we do the reverse operation and decode a bytes object into the original string?\n",
    "\n",
    "To do this, we can use the bytes.decode() method. The arguments of this method are the same as the str.encode() method. Let's see some examples:"
   ]
  },
  {
   "cell_type": "code",
   "execution_count": 15,
   "metadata": {},
   "outputs": [
    {
     "name": "stdout",
     "output_type": "stream",
     "text": [
      "b'data'\n",
      "data\n"
     ]
    }
   ],
   "source": [
    "encoded = \"data\".encode(encoding=\"ascii\")\n",
    "decoded = encoded.decode(encoding=\"ascii\")\n",
    "print(encoded)\n",
    "print(decoded)"
   ]
  },
  {
   "cell_type": "markdown",
   "metadata": {},
   "source": [
    "One of the biggest difficulties in decoding data is knowing what encoding was used to encode it to begin with. The bad news is that the task of correctly detecting the encoding all the time is impossible. To see why this is the case, let's imagine that there are only two characters A and B."
   ]
  },
  {
   "cell_type": "markdown",
   "metadata": {},
   "source": [
    "Then, if we are given an encoded string 01 how can we know whether it was encoded with encoding 1 and was AB or encoded using encoding 2 and was BA? There is simply not enough information to reverse the process.\n",
    "\n",
    "The good news is that, in general, we can use heuristics to try to figure it out. For example, if we are expecting English text and when you decode it you get 䔀渀最氀椀猀栀 琀攀砀琀 or if you are expecting French text and you decode it and get vous Ãªtes un Ã©lÃ¨ve?, you know that you are not using the right encoding!\n",
    "\n",
    "These heuristics are implemented in the chardet Python module. This module does not always find the answer since, as we mentioned, this is impossible. Using the chardet.detect() function we can give a bytes object and it will try to detect which encoding was used. It will also provide a number between 0 (low confidence) and 1 (high confidence) that shows how confident it is about its guess.\n",
    "\n",
    "In this example encoded contains a bytes object with an unknown encoding. All that we know is that we are expecting English text:"
   ]
  },
  {
   "cell_type": "code",
   "execution_count": 25,
   "metadata": {},
   "outputs": [
    {
     "ename": "UnicodeDecodeError",
     "evalue": "'utf-16-be' codec can't decode byte 0xa3 in position 38: truncated data",
     "output_type": "error",
     "traceback": [
      "\u001b[1;31m---------------------------------------------------------------------------\u001b[0m",
      "\u001b[1;31mUnicodeDecodeError\u001b[0m                        Traceback (most recent call last)",
      "\u001b[1;32m<ipython-input-25-be58df2a1943>\u001b[0m in \u001b[0;36m<module>\u001b[1;34m\u001b[0m\n\u001b[1;32m----> 1\u001b[1;33m \u001b[0mdecoded\u001b[0m \u001b[1;33m=\u001b[0m \u001b[0mencoded\u001b[0m\u001b[1;33m.\u001b[0m\u001b[0mdecode\u001b[0m\u001b[1;33m(\u001b[0m\u001b[0mencoding\u001b[0m\u001b[1;33m=\u001b[0m\u001b[1;34m\"utf-16-be\"\u001b[0m\u001b[1;33m)\u001b[0m\u001b[1;33m\u001b[0m\u001b[1;33m\u001b[0m\u001b[0m\n\u001b[0m\u001b[0;32m      2\u001b[0m \u001b[0mprint\u001b[0m\u001b[1;33m(\u001b[0m\u001b[0mdecoded\u001b[0m\u001b[1;33m)\u001b[0m\u001b[1;33m\u001b[0m\u001b[1;33m\u001b[0m\u001b[0m\n",
      "\u001b[1;32m~\\miniconda3\\envs\\deep-learning\\lib\\encodings\\utf_16_be.py\u001b[0m in \u001b[0;36mdecode\u001b[1;34m(input, errors)\u001b[0m\n\u001b[0;32m     14\u001b[0m \u001b[1;33m\u001b[0m\u001b[0m\n\u001b[0;32m     15\u001b[0m \u001b[1;32mdef\u001b[0m \u001b[0mdecode\u001b[0m\u001b[1;33m(\u001b[0m\u001b[0minput\u001b[0m\u001b[1;33m,\u001b[0m \u001b[0merrors\u001b[0m\u001b[1;33m=\u001b[0m\u001b[1;34m'strict'\u001b[0m\u001b[1;33m)\u001b[0m\u001b[1;33m:\u001b[0m\u001b[1;33m\u001b[0m\u001b[1;33m\u001b[0m\u001b[0m\n\u001b[1;32m---> 16\u001b[1;33m     \u001b[1;32mreturn\u001b[0m \u001b[0mcodecs\u001b[0m\u001b[1;33m.\u001b[0m\u001b[0mutf_16_be_decode\u001b[0m\u001b[1;33m(\u001b[0m\u001b[0minput\u001b[0m\u001b[1;33m,\u001b[0m \u001b[0merrors\u001b[0m\u001b[1;33m,\u001b[0m \u001b[1;32mTrue\u001b[0m\u001b[1;33m)\u001b[0m\u001b[1;33m\u001b[0m\u001b[1;33m\u001b[0m\u001b[0m\n\u001b[0m\u001b[0;32m     17\u001b[0m \u001b[1;33m\u001b[0m\u001b[0m\n\u001b[0;32m     18\u001b[0m \u001b[1;32mclass\u001b[0m \u001b[0mIncrementalEncoder\u001b[0m\u001b[1;33m(\u001b[0m\u001b[0mcodecs\u001b[0m\u001b[1;33m.\u001b[0m\u001b[0mIncrementalEncoder\u001b[0m\u001b[1;33m)\u001b[0m\u001b[1;33m:\u001b[0m\u001b[1;33m\u001b[0m\u001b[1;33m\u001b[0m\u001b[0m\n",
      "\u001b[1;31mUnicodeDecodeError\u001b[0m: 'utf-16-be' codec can't decode byte 0xa3 in position 38: truncated data"
     ]
    }
   ],
   "source": [
    "decoded = encoded.decode(encoding=\"utf-16-be\")\n",
    "print(decoded)"
   ]
  },
  {
   "cell_type": "code",
   "execution_count": 23,
   "metadata": {},
   "outputs": [
    {
     "name": "stdout",
     "output_type": "stream",
     "text": [
      "{'encoding': 'utf-8', 'confidence': 0.87625, 'language': ''}\n",
      "The movie — Data Quest — costs 10£\n"
     ]
    }
   ],
   "source": [
    "import chardet\n",
    "\n",
    "\n",
    "# Hidden encoding:\n",
    "encoded = 'The movie — Data Quest — costs 10£'.encode(encoding='utf-8')\n",
    "\n",
    "\n",
    "decoded_cp1252 = encoded.decode(encoding='cp1252')\n",
    "\n",
    "encoding = chardet.detect(encoded)\n",
    "print(encoding)\n",
    "\n",
    "decoded = encoded.decode(encoding='utf-8')\n",
    "print(decoded)"
   ]
  }
 ],
 "metadata": {
  "kernelspec": {
   "display_name": "Python 3",
   "language": "python",
   "name": "python3"
  },
  "language_info": {
   "codemirror_mode": {
    "name": "ipython",
    "version": 3
   },
   "file_extension": ".py",
   "mimetype": "text/x-python",
   "name": "python",
   "nbconvert_exporter": "python",
   "pygments_lexer": "ipython3",
   "version": "3.8.5"
  }
 },
 "nbformat": 4,
 "nbformat_minor": 4
}
