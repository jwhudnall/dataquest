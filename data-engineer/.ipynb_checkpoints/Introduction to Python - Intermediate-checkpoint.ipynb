{
 "cells": [
  {
   "cell_type": "markdown",
   "metadata": {},
   "source": [
    "# Intermediate Python"
   ]
  },
  {
   "cell_type": "code",
   "execution_count": 1,
   "metadata": {},
   "outputs": [],
   "source": [
    "from csv import reader\n",
    "\n",
    "file = 'Data/artworks.csv'\n",
    "open_file = open(file, encoding='utf-8')\n",
    "read_file = reader(open_file)\n",
    "art = list(read_file)\n",
    "open_file.close()"
   ]
  },
  {
   "cell_type": "code",
   "execution_count": 2,
   "metadata": {},
   "outputs": [
    {
     "data": {
      "text/plain": [
       "16726"
      ]
     },
     "execution_count": 2,
     "metadata": {},
     "output_type": "execute_result"
    }
   ],
   "source": [
    "len(art)"
   ]
  },
  {
   "cell_type": "code",
   "execution_count": 3,
   "metadata": {},
   "outputs": [],
   "source": [
    "headers = art[0]\n",
    "moma = art[1:]"
   ]
  },
  {
   "cell_type": "code",
   "execution_count": 4,
   "metadata": {},
   "outputs": [
    {
     "data": {
      "text/plain": [
       "['Title',\n",
       " 'Artist',\n",
       " 'Nationality',\n",
       " 'BeginDate',\n",
       " 'EndDate',\n",
       " 'Gender',\n",
       " 'Date',\n",
       " 'Department']"
      ]
     },
     "execution_count": 4,
     "metadata": {},
     "output_type": "execute_result"
    }
   ],
   "source": [
    "headers"
   ]
  },
  {
   "cell_type": "markdown",
   "metadata": {},
   "source": [
    "## Data Description\n",
    "* Title: The title of the artwork.\n",
    "* Artist: The name of the artist who created the artwork.\n",
    "* Nationality: The nationality of the artist.\n",
    "* BeginDate: The year in which the artist was born.\n",
    "* EndDate: The year in which the artist died.\n",
    "* Gender: The gender of the artist.\n",
    "* Date: The date that the artwork was created.\n",
    "* Department: The department inside MoMA to which the artwork belongs."
   ]
  },
  {
   "cell_type": "markdown",
   "metadata": {},
   "source": [
    "### Using String Replacement\n",
    "Remove '(' and ')' from the gender and nationality columns"
   ]
  },
  {
   "cell_type": "code",
   "execution_count": 5,
   "metadata": {},
   "outputs": [
    {
     "data": {
      "text/plain": [
       "['Dress MacLeod from Tartan Sets',\n",
       " 'Sarah Charlesworth',\n",
       " '(American)',\n",
       " '(1947)',\n",
       " '(2013)',\n",
       " '(Female)',\n",
       " '1986',\n",
       " 'Prints & Illustrated Books']"
      ]
     },
     "execution_count": 5,
     "metadata": {},
     "output_type": "execute_result"
    }
   ],
   "source": [
    "moma[0]"
   ]
  },
  {
   "cell_type": "code",
   "execution_count": 6,
   "metadata": {},
   "outputs": [],
   "source": [
    "for row in moma:\n",
    "    nationality = row[2]\n",
    "    nationality = nationality.replace('(','')\n",
    "    nationality = nationality.replace(')','')\n",
    "    row[2] = nationality\n",
    "    \n",
    "    gender = row[5]\n",
    "    gender = gender.replace('(','')\n",
    "    gender = gender.replace(')','')\n",
    "    row[5] = gender"
   ]
  },
  {
   "cell_type": "code",
   "execution_count": 7,
   "metadata": {},
   "outputs": [
    {
     "data": {
      "text/plain": [
       "['Dress MacLeod from Tartan Sets',\n",
       " 'Sarah Charlesworth',\n",
       " 'American',\n",
       " '(1947)',\n",
       " '(2013)',\n",
       " 'Female',\n",
       " '1986',\n",
       " 'Prints & Illustrated Books']"
      ]
     },
     "execution_count": 7,
     "metadata": {},
     "output_type": "execute_result"
    }
   ],
   "source": [
    "moma[0]"
   ]
  },
  {
   "cell_type": "markdown",
   "metadata": {},
   "source": [
    "### Data Cleaning"
   ]
  },
  {
   "cell_type": "code",
   "execution_count": 8,
   "metadata": {},
   "outputs": [],
   "source": [
    "for row in moma:\n",
    "    # Clean/standardize gender\n",
    "    gender = row[5]\n",
    "    gender = gender.title()\n",
    "    if not gender:\n",
    "        gender = 'Gender Unknown/Other'\n",
    "    row[5] = gender \n",
    "    \n",
    "    # Clean/standardize nationality\n",
    "    nationality = row[2]\n",
    "    nationality = nationality.title()\n",
    "    if not nationality:\n",
    "        nationality = 'Nationality Unknown'\n",
    "    row[2] = nationality "
   ]
  },
  {
   "cell_type": "code",
   "execution_count": 9,
   "metadata": {},
   "outputs": [
    {
     "data": {
      "text/plain": [
       "['Dress MacLeod from Tartan Sets',\n",
       " 'Sarah Charlesworth',\n",
       " 'American',\n",
       " '(1947)',\n",
       " '(2013)',\n",
       " 'Female',\n",
       " '1986',\n",
       " 'Prints & Illustrated Books']"
      ]
     },
     "execution_count": 9,
     "metadata": {},
     "output_type": "execute_result"
    }
   ],
   "source": [
    "moma[0]"
   ]
  },
  {
   "cell_type": "markdown",
   "metadata": {},
   "source": [
    "### Clean and Convert Start/End Dates (Artist's birthdate and deathdate)"
   ]
  },
  {
   "cell_type": "code",
   "execution_count": 10,
   "metadata": {},
   "outputs": [],
   "source": [
    "def clean_and_convert(date):\n",
    "    # check that we don't have an empty string\n",
    "    if date != \"\":\n",
    "        # move the rest of the function inside\n",
    "        # the if statement\n",
    "        date = date.replace(\"(\", \"\")\n",
    "        date = date.replace(\")\", \"\")\n",
    "        date = int(date)\n",
    "    return date\n",
    "\n",
    "for row in moma:\n",
    "    BeginDate = row[3]\n",
    "    EndDate = row[4]\n",
    "    clean_BeginDate = clean_and_convert(BeginDate)\n",
    "    clean_EndDate = clean_and_convert(EndDate)\n",
    "    row[3] = clean_BeginDate\n",
    "    row[4] = clean_EndDate"
   ]
  },
  {
   "cell_type": "markdown",
   "metadata": {},
   "source": [
    "### Cleaning the \"Date\" Column\n",
    "Example Data:\n",
    "* 1912\n",
    "* 1929\n",
    "* 1913-1923\n",
    "* (1951)\n",
    "* 1994\n",
    "* 1934\n",
    "* c. 1915\n",
    "* 1995\n",
    "* c. 1912\n",
    "* (1988)\n",
    "* 2002\n",
    "* 1957-1959\n",
    "* c. 1955.\n",
    "* c. 1970's\n",
    "* C. 1990-1999"
   ]
  },
  {
   "cell_type": "markdown",
   "metadata": {},
   "source": [
    "#### Prototyping"
   ]
  },
  {
   "cell_type": "code",
   "execution_count": 13,
   "metadata": {},
   "outputs": [],
   "source": [
    "strings = [\"good!\", \"morn?ing\", \"good?!\", \"morniZZZZng\"]\n",
    "bad_chars = [\"!\", \"?\", \"Z\"]"
   ]
  },
  {
   "cell_type": "code",
   "execution_count": 11,
   "metadata": {},
   "outputs": [],
   "source": [
    "def strip_chars(string):\n",
    "    for char in bad_chars:\n",
    "        string = string.replace(char, \"\")\n",
    "    return string"
   ]
  },
  {
   "cell_type": "code",
   "execution_count": 16,
   "metadata": {},
   "outputs": [],
   "source": [
    "cleaned_strings = []\n",
    "for string in strings:\n",
    "    string = strip_chars(string)\n",
    "    cleaned_strings.append(string)"
   ]
  },
  {
   "cell_type": "code",
   "execution_count": 17,
   "metadata": {},
   "outputs": [
    {
     "data": {
      "text/plain": [
       "['good', 'morning', 'good', 'morning']"
      ]
     },
     "execution_count": 17,
     "metadata": {},
     "output_type": "execute_result"
    }
   ],
   "source": [
    "cleaned_strings"
   ]
  },
  {
   "cell_type": "markdown",
   "metadata": {},
   "source": [
    "#### Application for `Date` Column"
   ]
  },
  {
   "cell_type": "code",
   "execution_count": 18,
   "metadata": {},
   "outputs": [
    {
     "name": "stdout",
     "output_type": "stream",
     "text": [
      "['1912', '1929', '1913-1923', '1951', '1994', '1934', '1915', '1995', '1912', '1988', '2002', '1957-1959', '1955', '1970', '1990-1999']\n"
     ]
    }
   ],
   "source": [
    "test_data = [\"1912\", \"1929\", \"1913-1923\",\n",
    "             \"(1951)\", \"1994\", \"1934\",\n",
    "             \"c. 1915\", \"1995\", \"c. 1912\",\n",
    "             \"(1988)\", \"2002\", \"1957-1959\",\n",
    "             \"c. 1955.\", \"c. 1970's\", \n",
    "             \"C. 1990-1999\"]\n",
    "\n",
    "bad_chars = [\"(\",\")\",\"c\",\"C\",\".\",\"s\",\"'\", \" \"]\n",
    "\n",
    "def strip_characters(string):\n",
    "    for char in bad_chars:\n",
    "        string = string.replace(char, '')\n",
    "    return string\n",
    "\n",
    "stripped_test_data = []\n",
    "\n",
    "for date in test_data:\n",
    "    clean_date = strip_characters(date)\n",
    "    stripped_test_data.append(clean_date)\n",
    "\n",
    "print(stripped_test_data)"
   ]
  },
  {
   "cell_type": "code",
   "execution_count": null,
   "metadata": {},
   "outputs": [],
   "source": []
  }
 ],
 "metadata": {
  "kernelspec": {
   "display_name": "Python 3",
   "language": "python",
   "name": "python3"
  },
  "language_info": {
   "codemirror_mode": {
    "name": "ipython",
    "version": 3
   },
   "file_extension": ".py",
   "mimetype": "text/x-python",
   "name": "python",
   "nbconvert_exporter": "python",
   "pygments_lexer": "ipython3",
   "version": "3.8.5"
  }
 },
 "nbformat": 4,
 "nbformat_minor": 4
}
