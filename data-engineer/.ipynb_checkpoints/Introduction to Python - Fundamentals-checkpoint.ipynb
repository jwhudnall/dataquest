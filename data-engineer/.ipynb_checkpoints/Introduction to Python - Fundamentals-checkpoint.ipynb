{
 "cells": [
  {
   "cell_type": "markdown",
   "metadata": {},
   "source": [
    "## Dictionaries"
   ]
  },
  {
   "cell_type": "code",
   "execution_count": 1,
   "metadata": {},
   "outputs": [
    {
     "name": "stdout",
     "output_type": "stream",
     "text": [
      "It exists\n"
     ]
    }
   ],
   "source": [
    "content_ratings = {'4+': 4433, '9+': 987, '12+': 1155, '17+': 622}\n",
    "\n",
    "is_in_dictionary_1 = '9+' in content_ratings\n",
    "is_in_dictionary_2 = 987 in content_ratings\n",
    "\n",
    "if '17+' in content_ratings:\n",
    "    result = \"It exists\"\n",
    "    \n",
    "print(result)"
   ]
  },
  {
   "cell_type": "code",
   "execution_count": 2,
   "metadata": {},
   "outputs": [],
   "source": [
    "from csv import reader\n",
    "opened_file = open('AppleStore.csv', encoding='utf8') # https://stackoverflow.com/questions/9233027/unicodedecodeerror-charmap-codec-cant-decode-byte-x-in-position-y-character\n",
    "read_file = reader(opened_file) \n",
    "apps_data = list(read_file)\n",
    "opened_file.close()"
   ]
  },
  {
   "cell_type": "code",
   "execution_count": 3,
   "metadata": {},
   "outputs": [
    {
     "name": "stdout",
     "output_type": "stream",
     "text": [
      "{'4+': 4433, '12+': 1155, '9+': 987, '17+': 622}\n"
     ]
    }
   ],
   "source": [
    "content_ratings = {}\n",
    "\n",
    "for app in apps_data[1:]:\n",
    "    c_rating = app[10]\n",
    "    if c_rating not in content_ratings:\n",
    "        content_ratings[c_rating] = 1\n",
    "    else:\n",
    "        content_ratings[c_rating]+=1\n",
    "\n",
    "print(content_ratings)"
   ]
  },
  {
   "cell_type": "code",
   "execution_count": 4,
   "metadata": {},
   "outputs": [
    {
     "name": "stdout",
     "output_type": "stream",
     "text": [
      "{'Social Networking': 167, 'Photo & Video': 349, 'Games': 3862, 'Music': 138, 'Reference': 64, 'Health & Fitness': 180, 'Weather': 72, 'Utilities': 248, 'Travel': 81, 'Shopping': 122, 'News': 75, 'Navigation': 46, 'Lifestyle': 144, 'Entertainment': 535, 'Food & Drink': 63, 'Sports': 114, 'Book': 112, 'Finance': 104, 'Education': 453, 'Productivity': 178, 'Business': 57, 'Catalogs': 10, 'Medical': 23}\n"
     ]
    }
   ],
   "source": [
    "genre_counting = {}\n",
    "for app in apps_data[1:]:\n",
    "    genre = app[11]\n",
    "    \n",
    "    if genre in genre_counting:\n",
    "        genre_counting[genre] += 1\n",
    "    else:\n",
    "        genre_counting[genre] = 1\n",
    "        \n",
    "print(genre_counting)"
   ]
  },
  {
   "cell_type": "code",
   "execution_count": 5,
   "metadata": {},
   "outputs": [
    {
     "name": "stdout",
     "output_type": "stream",
     "text": [
      "{'4+': 61.595109073224954, '12+': 16.04835348061692, '9+': 13.714047519799916, '17+': 8.642489926358204}\n"
     ]
    }
   ],
   "source": [
    "content_ratings = {'4+': 4433, '12+': 1155, '9+': 987, '17+': 622}\n",
    "total_number_of_apps = 7197\n",
    "\n",
    "for rating in content_ratings:\n",
    "    content_ratings[rating] /= total_number_of_apps \n",
    "    content_ratings[rating] *= 100\n",
    "    \n",
    "percentage_17_plus = content_ratings['17+']\n",
    "percentage_15_allowed = 100 - percentage_17_plus\n",
    "\n",
    "print(content_ratings)"
   ]
  },
  {
   "cell_type": "code",
   "execution_count": 6,
   "metadata": {},
   "outputs": [
    {
     "name": "stdout",
     "output_type": "stream",
     "text": [
      "{'4+': 0.6159510907322495, '12+': 0.16048353480616923, '9+': 0.13714047519799916, '17+': 0.08642489926358204}\n",
      "{'4+': 61.595109073224954, '12+': 16.04835348061692, '9+': 13.714047519799916, '17+': 8.642489926358204}\n"
     ]
    }
   ],
   "source": [
    "content_ratings = {'4+': 4433, '12+': 1155, '9+': 987, '17+': 622}\n",
    "total_number_of_apps = 7197\n",
    "c_ratings_proportions = {}\n",
    "c_ratings_percentages = {}\n",
    "\n",
    "for key in content_ratings:\n",
    "    proportion = content_ratings[key] / total_number_of_apps\n",
    "    percentage = proportion * 100\n",
    "    c_ratings_proportions[key] = proportion\n",
    "    c_ratings_percentages[key] = percentage\n",
    "    \n",
    "print(c_ratings_proportions)\n",
    "print(c_ratings_percentages)"
   ]
  },
  {
   "cell_type": "markdown",
   "metadata": {},
   "source": [
    "### Min and Max Values"
   ]
  },
  {
   "cell_type": "code",
   "execution_count": 7,
   "metadata": {},
   "outputs": [
    {
     "name": "stdout",
     "output_type": "stream",
     "text": [
      "589824.0 4025969664.0\n"
     ]
    }
   ],
   "source": [
    "data_sizes = []\n",
    "\n",
    "for app in apps_data[1:]:\n",
    "    size = float(app[2])\n",
    "    data_sizes.append(size)\n",
    "\n",
    "min_size = min(data_sizes)\n",
    "max_size = max(data_sizes)\n",
    "\n",
    "print(min_size, max_size)"
   ]
  },
  {
   "cell_type": "code",
   "execution_count": 8,
   "metadata": {},
   "outputs": [
    {
     "name": "stdout",
     "output_type": "stream",
     "text": [
      "{'0-200k': 7106, '200k-500k': 69, '500k-1m': 16, '1m-2m': 3, '2m+': 3}\n"
     ]
    }
   ],
   "source": [
    "rating_count_list = []\n",
    "for app in apps_data[1:]:\n",
    "    rating = float(app[5])\n",
    "    rating_count_list.append(rating)\n",
    "\n",
    "min_rating = min(rating_count_list)\n",
    "max_rating = max(rating_count_list)\n",
    "\n",
    "app_rating_frequency = {'0-200k': 0,\n",
    "                        '200k-500k':0,\n",
    "                        '500k-1m': 0,\n",
    "                        '1m-2m': 0,\n",
    "                        '2m+': 0}\n",
    "\n",
    "for app in apps_data[1:]:\n",
    "    rating = float(app[5])\n",
    "    \n",
    "    if rating < 200000:\n",
    "        app_rating_frequency['0-200k'] += 1\n",
    "    elif rating >= 200000 and rating < 500000:\n",
    "        app_rating_frequency['200k-500k'] += 1\n",
    "    elif rating >= 500000 and rating < 1000000:\n",
    "        app_rating_frequency['500k-1m'] += 1\n",
    "    elif rating >= 1000000 and rating < 2000000:\n",
    "        app_rating_frequency['1m-2m'] += 1\n",
    "    elif rating >= 2000000:\n",
    "        app_rating_frequency['2m+'] += 1\n",
    "        \n",
    "\n",
    "print(app_rating_frequency)"
   ]
  },
  {
   "cell_type": "markdown",
   "metadata": {},
   "source": [
    "## Functions"
   ]
  },
  {
   "cell_type": "code",
   "execution_count": 9,
   "metadata": {},
   "outputs": [],
   "source": [
    "def add_10(x):\n",
    "    return x + 10\n",
    "\n",
    "add_30 = add_10(30)\n",
    "add_90 = add_10(90)"
   ]
  },
  {
   "cell_type": "markdown",
   "metadata": {},
   "source": [
    "### Create a Frequency Table Using Functions\n",
    "1. Extract the desired column as a list (extract())\n",
    "2. Generate a frequency table for that list.\n",
    "**Define an Extract function that extracts a list of a desired table's index**"
   ]
  },
  {
   "cell_type": "code",
   "execution_count": 10,
   "metadata": {},
   "outputs": [
    {
     "name": "stdout",
     "output_type": "stream",
     "text": [
      "7197\n"
     ]
    }
   ],
   "source": [
    "def extract(col_idx):\n",
    "    col_data_list = []\n",
    "    for app in apps_data[1:]:\n",
    "        desired_attribute = app[col_idx]\n",
    "        col_data_list.append(desired_attribute)\n",
    "    return col_data_list\n",
    "\n",
    "genres = extract(11)\n",
    "\n",
    "print(len(genres))"
   ]
  },
  {
   "cell_type": "markdown",
   "metadata": {},
   "source": [
    "**Expand on this by adding a frequency dictionary**"
   ]
  },
  {
   "cell_type": "code",
   "execution_count": 11,
   "metadata": {},
   "outputs": [],
   "source": [
    "def freq_table(lst):\n",
    "    freq_dict = {}\n",
    "    for i in lst:\n",
    "        if i in freq_dict:\n",
    "            freq_dict[i] +=1\n",
    "        else:\n",
    "            freq_dict[i] = 1\n",
    "    return freq_dict"
   ]
  },
  {
   "cell_type": "code",
   "execution_count": 12,
   "metadata": {},
   "outputs": [
    {
     "name": "stdout",
     "output_type": "stream",
     "text": [
      "{'Social Networking': 167, 'Photo & Video': 349, 'Games': 3862, 'Music': 138, 'Reference': 64, 'Health & Fitness': 180, 'Weather': 72, 'Utilities': 248, 'Travel': 81, 'Shopping': 122, 'News': 75, 'Navigation': 46, 'Lifestyle': 144, 'Entertainment': 535, 'Food & Drink': 63, 'Sports': 114, 'Book': 112, 'Finance': 104, 'Education': 453, 'Productivity': 178, 'Business': 57, 'Catalogs': 10, 'Medical': 23}\n"
     ]
    }
   ],
   "source": [
    "genres_ft = freq_table(genres)\n",
    "\n",
    "print(genres_ft)"
   ]
  },
  {
   "cell_type": "markdown",
   "metadata": {},
   "source": [
    "**Combine these steps into a single function**"
   ]
  },
  {
   "cell_type": "code",
   "execution_count": 13,
   "metadata": {},
   "outputs": [
    {
     "name": "stdout",
     "output_type": "stream",
     "text": [
      "{'3.5': 702, '4.5': 2663, '4.0': 1626, '3.0': 383, '5.0': 492, '2.5': 196, '2.0': 106, '1.5': 56, '1.0': 44, '0.0': 929}\n"
     ]
    }
   ],
   "source": [
    "opened_file = open('AppleStore.csv', encoding='utf-8')\n",
    "from csv import reader\n",
    "read_file = reader(opened_file)\n",
    "apps_data = list(read_file)\n",
    "\n",
    "def freq_table(col_idx):\n",
    "    freq_dict = {}\n",
    "    for row in apps_data[1:]:\n",
    "        value = row[col_idx]\n",
    "        if value in freq_dict:\n",
    "            freq_dict[value] += 1\n",
    "        else:\n",
    "            freq_dict[value] = 1\n",
    "    \n",
    "    return freq_dict\n",
    "\n",
    "ratings_ft = freq_table(7)\n",
    "\n",
    "print(ratings_ft) # Should return user_ratings frequency table"
   ]
  },
  {
   "cell_type": "markdown",
   "metadata": {},
   "source": [
    "**Increase reusability by adding a data_set parameter:**"
   ]
  },
  {
   "cell_type": "code",
   "execution_count": 14,
   "metadata": {},
   "outputs": [
    {
     "name": "stdout",
     "output_type": "stream",
     "text": [
      "{'3.5': 702, '4.5': 2663, '4.0': 1626, '3.0': 383, '5.0': 492, '2.5': 196, '2.0': 106, '1.5': 56, '1.0': 44, '0.0': 929}\n"
     ]
    }
   ],
   "source": [
    "def freq_table(index, data_set):\n",
    "    frequency_table = {}\n",
    "    \n",
    "    for row in data_set[1:]:\n",
    "        value = row[index]\n",
    "        if value in frequency_table:\n",
    "            frequency_table[value] += 1\n",
    "        else:\n",
    "            frequency_table[value] = 1\n",
    "            \n",
    "    return frequency_table\n",
    "\n",
    "ratings_ft = freq_table(index=7, data_set=apps_data)\n",
    "\n",
    "print(ratings_ft)"
   ]
  },
  {
   "cell_type": "markdown",
   "metadata": {},
   "source": [
    "**Positional vs Keyword Argument Passing**"
   ]
  },
  {
   "cell_type": "code",
   "execution_count": 16,
   "metadata": {},
   "outputs": [],
   "source": [
    "def freq_table(data_set, index):\n",
    "    frequency_table = {}\n",
    "    \n",
    "    for row in data_set[1:]:\n",
    "        value = row[index]\n",
    "        if value in frequency_table:\n",
    "            frequency_table[value] += 1\n",
    "        else:\n",
    "            frequency_table[value] = 1\n",
    "        \n",
    "    return frequency_table\n",
    "\n",
    "content_ratings_ft = freq_table(apps_data, 10)\n",
    "ratings_ft = freq_table(data_set=apps_data, index=7) # keyword argument structure\n",
    "genres_ft = freq_table(index=11, data_set=apps_data) # keyword argument structure (positions reversed)"
   ]
  },
  {
   "cell_type": "markdown",
   "metadata": {},
   "source": [
    "### Nested Functions"
   ]
  },
  {
   "cell_type": "code",
   "execution_count": 17,
   "metadata": {},
   "outputs": [
    {
     "name": "stdout",
     "output_type": "stream",
     "text": [
      "1.7262178685562666\n"
     ]
    }
   ],
   "source": [
    "def extract(data_set, index):\n",
    "    column = []    \n",
    "    for row in data_set[1:]:\n",
    "        value = row[index]\n",
    "        column.append(value)    \n",
    "    return column\n",
    "\n",
    "def find_sum(a_list):\n",
    "    a_sum = 0\n",
    "    for element in a_list:\n",
    "        a_sum += float(element)\n",
    "    return a_sum\n",
    "\n",
    "def find_length(a_list):\n",
    "    length = 0\n",
    "    for element in a_list:\n",
    "        length += 1\n",
    "    return length\n",
    "\n",
    "def mean(data_set, idx):\n",
    "    attribute = extract(data_set, idx) # list\n",
    "    return find_sum(attribute) / find_length(attribute)\n",
    "    \n",
    "\n",
    "avg_price = mean(apps_data, 4)\n",
    "print(avg_price)"
   ]
  },
  {
   "cell_type": "markdown",
   "metadata": {},
   "source": [
    "## Intermediate Functions"
   ]
  },
  {
   "cell_type": "code",
   "execution_count": 19,
   "metadata": {},
   "outputs": [
    {
     "name": "stdout",
     "output_type": "stream",
     "text": [
      "3.4 0.23 921.22252\n"
     ]
    }
   ],
   "source": [
    "one_decimal = round(3.43, 1)\n",
    "two_decimals = round(0.23321, 2)\n",
    "five_decimals = round(921.2225227, 5)\n",
    "\n",
    "print(one_decimal, two_decimals, five_decimals)"
   ]
  },
  {
   "cell_type": "code",
   "execution_count": 22,
   "metadata": {},
   "outputs": [],
   "source": [
    "def open_dataset(file_name='AppleStore.csv', header=True):        \n",
    "    opened_file = open(file_name, encoding='utf-8')\n",
    "    from csv import reader\n",
    "    read_file = reader(opened_file)\n",
    "    data = list(read_file)\n",
    "    \n",
    "    if header:\n",
    "        return data[0], data[1:] # Returns header, data\n",
    "    else:\n",
    "        return data\n",
    "    \n",
    "all_data = open_dataset()\n",
    "header = all_data[0]\n",
    "apps_data = all_data[1]"
   ]
  },
  {
   "cell_type": "markdown",
   "metadata": {},
   "source": [
    "### Scope"
   ]
  },
  {
   "cell_type": "code",
   "execution_count": 24,
   "metadata": {},
   "outputs": [
    {
     "name": "stdout",
     "output_type": "stream",
     "text": [
      "3.14\n"
     ]
    },
    {
     "ename": "NameError",
     "evalue": "name 'x' is not defined",
     "output_type": "error",
     "traceback": [
      "\u001b[1;31m---------------------------------------------------------------------------\u001b[0m",
      "\u001b[1;31mNameError\u001b[0m                                 Traceback (most recent call last)",
      "\u001b[1;32m<ipython-input-24-93fb9d02ff63>\u001b[0m in \u001b[0;36m<module>\u001b[1;34m\u001b[0m\n\u001b[0;32m      4\u001b[0m \u001b[1;33m\u001b[0m\u001b[0m\n\u001b[0;32m      5\u001b[0m \u001b[0mprint_constant\u001b[0m\u001b[1;33m(\u001b[0m\u001b[1;33m)\u001b[0m\u001b[1;33m\u001b[0m\u001b[1;33m\u001b[0m\u001b[0m\n\u001b[1;32m----> 6\u001b[1;33m \u001b[0mx\u001b[0m\u001b[1;33m\u001b[0m\u001b[1;33m\u001b[0m\u001b[0m\n\u001b[0m",
      "\u001b[1;31mNameError\u001b[0m: name 'x' is not defined"
     ]
    }
   ],
   "source": [
    "def print_constant():\n",
    "    x = 3.14\n",
    "    print(x)\n",
    "    \n",
    "print_constant()\n",
    "x"
   ]
  },
  {
   "cell_type": "code",
   "execution_count": 25,
   "metadata": {
    "scrolled": true
   },
   "outputs": [
    {
     "name": "stdout",
     "output_type": "stream",
     "text": [
      "2.72\n",
      "148.88279736320004\n",
      "mathematical constant\n",
      "20.0\n"
     ]
    }
   ],
   "source": [
    "e = 'mathematical constant'\n",
    "a_sum = 1000\n",
    "length = 50\n",
    "\n",
    "def exponential(x):\n",
    "    e = 2.72\n",
    "    print(e)\n",
    "    return e ** x\n",
    "\n",
    "result = exponential(5)\n",
    "print(result)\n",
    "\n",
    "\n",
    "print(e)\n",
    "\n",
    "def divide():\n",
    "    # print(a_sum)\n",
    "    # print(length)\n",
    "    return a_sum / length\n",
    "\n",
    "result_2 = divide()\n",
    "# # not defined within function. \n",
    "print(result_2)"
   ]
  },
  {
   "cell_type": "markdown",
   "metadata": {},
   "source": [
    "When a variable is accessed within a function, Python:\n",
    "1. Searches within the local scope.\n",
    "2. If the variable isn't defined locally, Python expands the search to the global scope.\n",
    "*Note: Local scope is always prioritized, relative to global*"
   ]
  }
 ],
 "metadata": {
  "kernelspec": {
   "display_name": "Python 3",
   "language": "python",
   "name": "python3"
  },
  "language_info": {
   "codemirror_mode": {
    "name": "ipython",
    "version": 3
   },
   "file_extension": ".py",
   "mimetype": "text/x-python",
   "name": "python",
   "nbconvert_exporter": "python",
   "pygments_lexer": "ipython3",
   "version": "3.8.5"
  }
 },
 "nbformat": 4,
 "nbformat_minor": 4
}
