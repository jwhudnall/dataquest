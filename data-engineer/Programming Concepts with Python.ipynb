{
 "cells": [
  {
   "cell_type": "markdown",
   "metadata": {},
   "source": [
    "# Programming Concepts with Python"
   ]
  },
  {
   "cell_type": "markdown",
   "metadata": {},
   "source": [
    "Topics Covered:\n",
    "* Learn how data is represented under the hood\n",
    "* Learn about encodings\n",
    "* Learn how to work with text files\n",
    "* Learn how to optimize data usage"
   ]
  },
  {
   "cell_type": "markdown",
   "metadata": {},
   "source": [
    "## Binary and Positional Number Systems"
   ]
  },
  {
   "cell_type": "markdown",
   "metadata": {},
   "source": [
    "Bits:\n",
    "![Bits](https://dq-content.s3.amazonaws.com/450/binary.png)"
   ]
  },
  {
   "cell_type": "markdown",
   "metadata": {},
   "source": [
    "**Refresher: How to add Commas to Large Numbers:**"
   ]
  },
  {
   "cell_type": "code",
   "execution_count": 3,
   "metadata": {},
   "outputs": [
    {
     "name": "stdout",
     "output_type": "stream",
     "text": [
      "4294967296\n",
      "4,294,967,296\n"
     ]
    }
   ],
   "source": [
    "val = 2 ** 32\n",
    "print(val)\n",
    "print(f'{val:,}') # :, used to incorporate commas"
   ]
  },
  {
   "cell_type": "markdown",
   "metadata": {},
   "source": [
    "### Binary Digits\n",
    "**Base 10:**"
   ]
  },
  {
   "cell_type": "code",
   "execution_count": 4,
   "metadata": {},
   "outputs": [],
   "source": [
    "# for number 645231:\n",
    "\n",
    "# assign the weight of digit '2':\n",
    "weight_digit_2 = 10**2\n",
    "# assign the value of digit '2':\n",
    "value_digit_2 = 2 * weight_digit_2\n",
    "\n",
    "# assign the weight of digit 5:\n",
    "weight_digit_5 = 10 ** 3\n",
    "# assign the value of digit '5':\n",
    "value_digit_5 = 5 * weight_digit_5"
   ]
  },
  {
   "cell_type": "markdown",
   "metadata": {},
   "source": [
    "**Base 2**\n",
    "Numbers represented in Base 2 are represented using parenthesis with a subscript of 2: **(101)<sub>2</sub>**"
   ]
  },
  {
   "cell_type": "code",
   "execution_count": 5,
   "metadata": {},
   "outputs": [
    {
     "name": "stdout",
     "output_type": "stream",
     "text": [
      "25\n",
      "14\n"
     ]
    }
   ],
   "source": [
    "base = 2\n",
    "\n",
    "decimal_1 = 1*(base**0) + 1*(base**3) + 1*(base**4)\n",
    "decimal_2 = 1*(base**1) + 1*(base**2) + 1*(base**3)\n",
    "\n",
    "print(decimal_1)\n",
    "print(decimal_2)"
   ]
  },
  {
   "cell_type": "markdown",
   "metadata": {},
   "source": [
    "**Convert a number to Base 2:**"
   ]
  },
  {
   "cell_type": "code",
   "execution_count": 7,
   "metadata": {},
   "outputs": [
    {
     "name": "stdout",
     "output_type": "stream",
     "text": [
      "213\n"
     ]
    }
   ],
   "source": [
    "num = 11010101\n",
    "str_num = str(num)\n",
    "print(int(str_num, 2)) # int(string, base)"
   ]
  },
  {
   "cell_type": "markdown",
   "metadata": {},
   "source": [
    "**Convert a number to binary:**"
   ]
  },
  {
   "cell_type": "code",
   "execution_count": 6,
   "metadata": {
    "scrolled": true
   },
   "outputs": [
    {
     "name": "stdout",
     "output_type": "stream",
     "text": [
      "0b11001\n"
     ]
    }
   ],
   "source": [
    "print(bin(25))"
   ]
  },
  {
   "cell_type": "markdown",
   "metadata": {},
   "source": [
    "### Differences Between Base 2 and Base 10"
   ]
  },
  {
   "cell_type": "markdown",
   "metadata": {},
   "source": [
    "![Base Differences](https://dq-content.s3.amazonaws.com/450/tb1.png)"
   ]
  },
  {
   "cell_type": "markdown",
   "metadata": {},
   "source": [
    "**Convert the following numbers/bases to base 10:**"
   ]
  },
  {
   "cell_type": "code",
   "execution_count": 8,
   "metadata": {},
   "outputs": [
    {
     "name": "stdout",
     "output_type": "stream",
     "text": [
      "285 7\n"
     ]
    }
   ],
   "source": [
    "base_8_to_10 = int('435', 8)\n",
    "base_7_to_10 = int('10', 7)\n",
    "\n",
    "print(base_8_to_10, base_7_to_10)"
   ]
  },
  {
   "cell_type": "markdown",
   "metadata": {},
   "source": [
    "### Hexadecimal"
   ]
  },
  {
   "cell_type": "markdown",
   "metadata": {},
   "source": [
    "**Hexadecimal and Beyond**\n",
    "Python has a built in `hex()` function to convert integers to base 16, prefixed with '0x'. \n",
    "Python supports bases between 2 and 36, inclusive."
   ]
  },
  {
   "cell_type": "code",
   "execution_count": 9,
   "metadata": {},
   "outputs": [
    {
     "name": "stdout",
     "output_type": "stream",
     "text": [
      "0xdad\n",
      "15\n"
     ]
    }
   ],
   "source": [
    "hex_3501 = hex(3501)\n",
    "decimal_F = int('F', 16)\n",
    "\n",
    "print(hex_3501)\n",
    "print(decimal_F)"
   ]
  },
  {
   "cell_type": "markdown",
   "metadata": {},
   "source": [
    "#### What's So Great About Hexadecimal?\n",
    "* A group of 4 bits is called a 'nibble'\n",
    "    * **2<sup>4</sup>** = 16 values (0-15)\n",
    "* Hexadecimal lets us represent a nibble with a single character.\n",
    "* A group of 8 bits is called a [byte](https://en.wikipedia.org/wiki/Byte).\n",
    "\n",
    "Also important implications in RGB color representation."
   ]
  },
  {
   "cell_type": "code",
   "execution_count": 10,
   "metadata": {},
   "outputs": [
    {
     "name": "stdout",
     "output_type": "stream",
     "text": [
      "d56f38\n"
     ]
    }
   ],
   "source": [
    "red_hex = hex(213)\n",
    "green_hex = hex(111)\n",
    "blue_hex = hex(56)\n",
    "\n",
    "rgb = red_hex, green_hex, blue_hex\n",
    "rgb_formatted = ''\n",
    "for color in rgb:\n",
    "    formatted = color.replace('0x','')\n",
    "    rgb_formatted += formatted\n",
    "\n",
    "print(rgb_formatted)"
   ]
  },
  {
   "cell_type": "markdown",
   "metadata": {},
   "source": [
    "**Octal - Base 8**\n",
    "`oct(integer)`"
   ]
  },
  {
   "cell_type": "code",
   "execution_count": 11,
   "metadata": {},
   "outputs": [
    {
     "name": "stdout",
     "output_type": "stream",
     "text": [
      "0o1747 999\n"
     ]
    }
   ],
   "source": [
    "octal_999 = oct(999)\n",
    "\n",
    "original = int(str(octal_999), 8)\n",
    "\n",
    "print(octal_999, original)"
   ]
  },
  {
   "cell_type": "markdown",
   "metadata": {},
   "source": [
    "## Encodings and Representing Text in a Computer"
   ]
  },
  {
   "cell_type": "markdown",
   "metadata": {},
   "source": [
    "In order to represent more complex information such as text, all that is needed is to define a set of rules that translates the information that we want to represent into a sequence of zeros and ones. The simplest kind of rule that we can define is a table that explicitly tells us the binary representation of each object that we want to represent. Such a rule is called an encoding.\n",
    "\n",
    "[ASCII Table](https://www.cs.cmu.edu/~pattis/15-1XX/common/handouts/ascii.html)"
   ]
  },
  {
   "cell_type": "code",
   "execution_count": 12,
   "metadata": {},
   "outputs": [
    {
     "name": "stdout",
     "output_type": "stream",
     "text": [
      "0b1010001\n",
      "0b1010101\n",
      "0b1000101\n",
      "0b1010011\n",
      "0b1010100\n"
     ]
    }
   ],
   "source": [
    "data = \"QUEST\"\n",
    "\n",
    "for char in data:\n",
    "    ordinal = ord(char)\n",
    "    binary = bin(ordinal)\n",
    "    print(binary)"
   ]
  },
  {
   "cell_type": "markdown",
   "metadata": {},
   "source": [
    "`chr()` and `ord()` - Inverse Relation"
   ]
  },
  {
   "cell_type": "code",
   "execution_count": 13,
   "metadata": {},
   "outputs": [
    {
     "name": "stdout",
     "output_type": "stream",
     "text": [
      "A\n"
     ]
    }
   ],
   "source": [
    "print(chr(65))"
   ]
  },
  {
   "cell_type": "code",
   "execution_count": 14,
   "metadata": {},
   "outputs": [
    {
     "name": "stdout",
     "output_type": "stream",
     "text": [
      "65\n"
     ]
    }
   ],
   "source": [
    "print(ord('A'))"
   ]
  },
  {
   "cell_type": "code",
   "execution_count": 1,
   "metadata": {},
   "outputs": [
    {
     "data": {
      "text/plain": [
       "False"
      ]
     },
     "execution_count": 1,
     "metadata": {},
     "output_type": "execute_result"
    }
   ],
   "source": [
    "chr(65) == ord('A')"
   ]
  },
  {
   "cell_type": "code",
   "execution_count": 1,
   "metadata": {},
   "outputs": [
    {
     "name": "stdout",
     "output_type": "stream",
     "text": [
      "b'The Swedish word for quest is s?kande'\n",
      "<class 'bytes'>\n"
     ]
    }
   ],
   "source": [
    "text = \"The Swedish word for quest is sökande\"\n",
    "\n",
    "encoded = text.encode(encoding='ascii', errors='replace')\n",
    "\n",
    "print(encoded)\n",
    "print(type(encoded))"
   ]
  },
  {
   "cell_type": "markdown",
   "metadata": {},
   "source": [
    "### Exploring the `bytes` Class\n",
    "Bytes object is represented as a sequence of integers between 0 and 255."
   ]
  },
  {
   "cell_type": "code",
   "execution_count": 2,
   "metadata": {},
   "outputs": [
    {
     "name": "stdout",
     "output_type": "stream",
     "text": [
      "68\n",
      "65\n",
      "84\n",
      "65\n"
     ]
    }
   ],
   "source": [
    "b = 'DATA'.encode(encoding='ascii')\n",
    "print(b[0]) # access the byte corresponding to D\n",
    "print(b[1]) # access the byte corresponding to A\n",
    "print(b[2]) # access the byte corresponding to T\n",
    "print(b[3]) # access the byte corresponding to the second A"
   ]
  },
  {
   "cell_type": "code",
   "execution_count": 3,
   "metadata": {},
   "outputs": [
    {
     "name": "stdout",
     "output_type": "stream",
     "text": [
      "b'DATA'\n"
     ]
    }
   ],
   "source": [
    "print(b)"
   ]
  },
  {
   "cell_type": "code",
   "execution_count": 4,
   "metadata": {},
   "outputs": [],
   "source": [
    "B = bytes.fromhex('ff a9 c8 44 41 54 41')"
   ]
  },
  {
   "cell_type": "code",
   "execution_count": 5,
   "metadata": {},
   "outputs": [
    {
     "name": "stdout",
     "output_type": "stream",
     "text": [
      "b'\\xff\\xa9\\xc8DATA'\n"
     ]
    }
   ],
   "source": [
    "print(B)"
   ]
  },
  {
   "cell_type": "code",
   "execution_count": 6,
   "metadata": {},
   "outputs": [],
   "source": [
    "# Check if char is lowercase:\n",
    "def is_lowercase(c):\n",
    "    return 97 <= ord(c) and ord(c) <= 122"
   ]
  },
  {
   "cell_type": "code",
   "execution_count": 8,
   "metadata": {},
   "outputs": [
    {
     "data": {
      "text/plain": [
       "True"
      ]
     },
     "execution_count": 8,
     "metadata": {},
     "output_type": "execute_result"
    }
   ],
   "source": [
    "is_lowercase('f')"
   ]
  },
  {
   "cell_type": "code",
   "execution_count": 9,
   "metadata": {},
   "outputs": [
    {
     "data": {
      "text/plain": [
       "True"
      ]
     },
     "execution_count": 9,
     "metadata": {},
     "output_type": "execute_result"
    }
   ],
   "source": [
    "# provided inputs\n",
    "string_1 = 'lowercase'\n",
    "string_2 = 'UPPERCASE'\n",
    "\n",
    "# 65 - 90 incl\n",
    "def check_uppercase(string):\n",
    "    for c in string:\n",
    "        # if non-uppercase is found, return false\n",
    "        if not (65 <= ord(c) and ord(c) <= 90):\n",
    "            return False\n",
    "    return True\n",
    "    \n",
    "check_uppercase('AA')"
   ]
  },
  {
   "cell_type": "code",
   "execution_count": 11,
   "metadata": {},
   "outputs": [
    {
     "name": "stdout",
     "output_type": "stream",
     "text": [
      "65,536\n"
     ]
    }
   ],
   "source": [
    "val = 2 ** 16\n",
    "print(f'{val:,}')"
   ]
  },
  {
   "cell_type": "code",
   "execution_count": 12,
   "metadata": {},
   "outputs": [
    {
     "name": "stdout",
     "output_type": "stream",
     "text": [
      "20320\n"
     ]
    }
   ],
   "source": [
    "print(ord('你'))"
   ]
  },
  {
   "cell_type": "markdown",
   "metadata": {},
   "source": [
    "### BIG5 Encoding (2 bytes)\n",
    "BIG5 encoding is a double byte encoding used for traditional Chinese characters. Since it is 2-byte encoding, each character needs to specify the two bytes to which it corresponds."
   ]
  },
  {
   "cell_type": "code",
   "execution_count": 13,
   "metadata": {},
   "outputs": [
    {
     "name": "stdout",
     "output_type": "stream",
     "text": [
      "b'\\xa7A\\xa6n\\xb6\\xdc?'\n",
      "7\n"
     ]
    }
   ],
   "source": [
    "trad_chinese = \"你好嗎?\"\n",
    "\n",
    "encoded = trad_chinese.encode(encoding='BIG5')\n",
    "print(encoded)\n",
    "\n",
    "print(len(encoded))"
   ]
  },
  {
   "cell_type": "code",
   "execution_count": null,
   "metadata": {},
   "outputs": [],
   "source": []
  }
 ],
 "metadata": {
  "kernelspec": {
   "display_name": "Python 3",
   "language": "python",
   "name": "python3"
  },
  "language_info": {
   "codemirror_mode": {
    "name": "ipython",
    "version": 3
   },
   "file_extension": ".py",
   "mimetype": "text/x-python",
   "name": "python",
   "nbconvert_exporter": "python",
   "pygments_lexer": "ipython3",
   "version": "3.8.5"
  }
 },
 "nbformat": 4,
 "nbformat_minor": 4
}
