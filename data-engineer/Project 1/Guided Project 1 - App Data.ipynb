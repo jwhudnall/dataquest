{
 "cells": [
  {
   "cell_type": "markdown",
   "metadata": {},
   "source": [
    "# Dataquest Guided Project: Profitable App Profiles for the App Store and Google Play Markets"
   ]
  },
  {
   "cell_type": "markdown",
   "metadata": {},
   "source": [
    "The goal of this project is to analyize Android and IOS mobile apps. The company we represent builds **free** apps directed towards an **English-speaking** audience, with revenue coming from in-app advertising.\n",
    "\n",
    "The goal of the project is to learn which types of applications are most likely to attract more users."
   ]
  },
  {
   "cell_type": "markdown",
   "metadata": {},
   "source": [
    "## About the Data"
   ]
  },
  {
   "cell_type": "markdown",
   "metadata": {},
   "source": [
    "* [A data set](https://www.kaggle.com/lava18/google-play-store-apps) containing data about approximately 10,000 Android apps from Google Play; the data was collected in August 2018. You can download the data set directly from [this link](https://dq-content.s3.amazonaws.com/350/googleplaystore.csv).\n",
    "* [A data set](https://www.kaggle.com/ramamet4/app-store-apple-data-set-10k-apps) containing data about approximately 7,000 iOS apps from the App Store; the data was collected in July 2017. You can download the data set directly from [this link](https://dq-content.s3.amazonaws.com/350/AppleStore.csv)."
   ]
  },
  {
   "cell_type": "markdown",
   "metadata": {},
   "source": [
    "### Import the Data"
   ]
  },
  {
   "cell_type": "code",
   "execution_count": 1,
   "metadata": {
    "scrolled": true
   },
   "outputs": [],
   "source": [
    "import tarfile\n",
    "\n",
    "# Extracts the .tar file containing both datasets\n",
    "app_data_tgz = tarfile.open('Guided Project_ Profitable App Profiles for the App Store and Google Play Markets.tar')\n",
    "app_data_tgz.extractall()\n",
    "app_data_tgz.close()"
   ]
  },
  {
   "cell_type": "markdown",
   "metadata": {},
   "source": [
    "Open the two data sets and save them to list variables:"
   ]
  },
  {
   "cell_type": "code",
   "execution_count": 2,
   "metadata": {},
   "outputs": [],
   "source": [
    "def open_csv_dataset(file, header=True):\n",
    "    \"\"\"Converts a CSV file into a Python list for analysis.\n",
    "     Parameters:\n",
    "        - file: file name\n",
    "        - header=True: True if first row of data represents categories.\n",
    "        \n",
    "    Returns:\n",
    "        - header, list (if header=True)\n",
    "        - list (if header=False)\n",
    "        \"\"\"\n",
    "    from csv import reader\n",
    "    open_file = open(file, encoding='utf-8')\n",
    "    read_file = reader(open_file)\n",
    "    name = list(read_file)\n",
    "    open_file.close()\n",
    "    \n",
    "    if header:\n",
    "        col_names = name[0]\n",
    "        return col_names, name[1:]\n",
    "    else:\n",
    "        return name"
   ]
  },
  {
   "cell_type": "code",
   "execution_count": 3,
   "metadata": {},
   "outputs": [],
   "source": [
    "IOS_COLS, IOS_DATA = open_csv_dataset('Applestore.csv')\n",
    "ANDROID_COLS, ANDROID_DATA = open_csv_dataset('googleplaystore.csv')"
   ]
  },
  {
   "cell_type": "code",
   "execution_count": 4,
   "metadata": {
    "scrolled": true
   },
   "outputs": [
    {
     "name": "stdout",
     "output_type": "stream",
     "text": [
      "Help on function open_csv_dataset in module __main__:\n",
      "\n",
      "open_csv_dataset(file, header=True)\n",
      "    Converts a CSV file into a Python list for analysis.\n",
      "     Parameters:\n",
      "        - file: file name\n",
      "        - header=True: True if first row of data represents categories.\n",
      "        \n",
      "    Returns:\n",
      "        - header, list (if header=True)\n",
      "        - list (if header=False)\n",
      "\n"
     ]
    }
   ],
   "source": [
    "help(open_csv_dataset)"
   ]
  },
  {
   "cell_type": "code",
   "execution_count": 5,
   "metadata": {},
   "outputs": [],
   "source": [
    "def explore_data(dataset, start, end, rows_and_columns=False):\n",
    "    \"\"\"Function to explore a dataset based on the specified indices\n",
    "    \n",
    "    Parameters:\n",
    "        - dataset: variable representing the dataset\n",
    "        - start: start index within dataset\n",
    "        - end: stop index within dataset\n",
    "        - rows_and_columns: prints the number of rows and columns, if True\n",
    "        \n",
    "    Returns:\n",
    "        None\n",
    "        \"\"\"\n",
    "    \n",
    "    dataset_slice = dataset[start:end]\n",
    "    for row in dataset_slice:\n",
    "        print(row)\n",
    "        print('\\n') # Adds a new line after each row\n",
    "        \n",
    "    if rows_and_columns:\n",
    "        print(f'Number of rows: {len(dataset)}')\n",
    "        print(f'Number of columns: {len(dataset[0])}')"
   ]
  },
  {
   "cell_type": "markdown",
   "metadata": {},
   "source": [
    "### Explore Datasets"
   ]
  },
  {
   "cell_type": "code",
   "execution_count": 6,
   "metadata": {},
   "outputs": [
    {
     "name": "stdout",
     "output_type": "stream",
     "text": [
      "['420009108', 'Temple Run', '65921024', 'USD', '0.0', '1724546', '3842', '4.5', '4.0', '1.6.2', '9+', 'Games', '40', '5', '1', '1']\n",
      "\n",
      "\n",
      "['284035177', 'Pandora - Music & Radio', '130242560', 'USD', '0.0', '1126879', '3594', '4.0', '4.5', '8.4.1', '12+', 'Music', '37', '4', '1', '1']\n",
      "\n",
      "\n",
      "Number of rows: 7197\n",
      "Number of columns: 16\n"
     ]
    }
   ],
   "source": [
    "explore_data(IOS_DATA, 3, 5, rows_and_columns=True)"
   ]
  },
  {
   "cell_type": "code",
   "execution_count": 7,
   "metadata": {},
   "outputs": [
    {
     "name": "stdout",
     "output_type": "stream",
     "text": [
      "['Sketch - Draw & Paint', 'ART_AND_DESIGN', '4.5', '215644', '25M', '50,000,000+', 'Free', '0', 'Teen', 'Art & Design', 'June 8, 2018', 'Varies with device', '4.2 and up']\n",
      "\n",
      "\n",
      "['Pixel Draw - Number Art Coloring Book', 'ART_AND_DESIGN', '4.3', '967', '2.8M', '100,000+', 'Free', '0', 'Everyone', 'Art & Design;Creativity', 'June 20, 2018', '1.1', '4.4 and up']\n",
      "\n",
      "\n",
      "Number of rows: 10841\n",
      "Number of columns: 13\n"
     ]
    }
   ],
   "source": [
    "explore_data(ANDROID_DATA, 3, 5, rows_and_columns=True)"
   ]
  },
  {
   "cell_type": "markdown",
   "metadata": {},
   "source": [
    "### Explore Column Names"
   ]
  },
  {
   "cell_type": "code",
   "execution_count": 8,
   "metadata": {},
   "outputs": [
    {
     "name": "stdout",
     "output_type": "stream",
     "text": [
      "id\n",
      "track_name\n",
      "size_bytes\n",
      "currency\n",
      "price\n",
      "rating_count_tot\n",
      "rating_count_ver\n",
      "user_rating\n",
      "user_rating_ver\n",
      "ver\n",
      "cont_rating\n",
      "prime_genre\n",
      "sup_devices.num\n",
      "ipadSc_urls.num\n",
      "lang.num\n",
      "vpp_lic\n"
     ]
    }
   ],
   "source": [
    "# IOS Columns:\n",
    "for col in IOS_COLS:\n",
    "    print(col)"
   ]
  },
  {
   "cell_type": "markdown",
   "metadata": {},
   "source": [
    "Of these IOS columns, the following might be useful for our purpose:\n",
    "* price\n",
    "* user_rating\n",
    "* cont_rating (Maybe)\n",
    "* prime genre\n",
    "* sup_devices.num (Maybe)\n",
    "* lang.num (Maybe)\n",
    "\n",
    "[Link to data](https://www.kaggle.com/ramamet4/app-store-apple-data-set-10k-apps)"
   ]
  },
  {
   "cell_type": "code",
   "execution_count": 9,
   "metadata": {},
   "outputs": [
    {
     "name": "stdout",
     "output_type": "stream",
     "text": [
      "App\n",
      "Category\n",
      "Rating\n",
      "Reviews\n",
      "Size\n",
      "Installs\n",
      "Type\n",
      "Price\n",
      "Content Rating\n",
      "Genres\n",
      "Last Updated\n",
      "Current Ver\n",
      "Android Ver\n"
     ]
    }
   ],
   "source": [
    "# Android Columns:\n",
    "for col in ANDROID_COLS:\n",
    "    print(col)"
   ]
  },
  {
   "cell_type": "markdown",
   "metadata": {},
   "source": [
    "Of these Android columns, the following might be useful:\n",
    "* Category\n",
    "* Rating\n",
    "* Reviews\n",
    "* Size\n",
    "* Installs\n",
    "* Type\n",
    "* Content Rating\n",
    "* Genres\n",
    "\n",
    "Price should be superfluous, as we will hone in on type=Free."
   ]
  },
  {
   "cell_type": "markdown",
   "metadata": {},
   "source": [
    "### Data Cleaning"
   ]
  },
  {
   "cell_type": "markdown",
   "metadata": {},
   "source": [
    "Data cleaning is done before the analysis; it includes removing or correcting wrong data, removing duplicate data, and modifying the data to fit the purpose of our analysis.\n",
    "\n",
    "**To-Do:**\n",
    "1. Identify the issue with a well-known error in one of the Android rows.\n",
    "    * [Discussion Source](https://www.kaggle.com/lava18/google-play-store-apps/discussion/66015)\n",
    "    \n",
    "Data:\n",
    "* IOS_COLS, IOS_DATA \n",
    "* ANDROID_COLS, ANDROID_DATA"
   ]
  },
  {
   "cell_type": "code",
   "execution_count": 10,
   "metadata": {},
   "outputs": [
    {
     "name": "stdout",
     "output_type": "stream",
     "text": [
      "['App', 'Category', 'Rating', 'Reviews', 'Size', 'Installs', 'Type', 'Price', 'Content Rating', 'Genres', 'Last Updated', 'Current Ver', 'Android Ver']\n"
     ]
    }
   ],
   "source": [
    "# Labels:\n",
    "print(ANDROID_COLS)"
   ]
  },
  {
   "cell_type": "code",
   "execution_count": 11,
   "metadata": {},
   "outputs": [],
   "source": [
    "def error_checker(dataset, dataset_header=None):\n",
    "    \"\"\"Checks for length inconsistencies within the dataset.\n",
    "    \n",
    "    Parameters:\n",
    "        - dataset_header: Header (labels) of the data, if available\n",
    "        - dataset: dataset (list)\n",
    "        \n",
    "    Returns:\n",
    "        - error_list: nested list of errors. Includes:\n",
    "            * error[0]: Data values (to help with inspection)\n",
    "            * error[1]: Index of the error within the dataset\n",
    "    \"\"\"\n",
    "    error_list = []\n",
    "    if not dataset_header:\n",
    "        dataset_header = dataset[0]\n",
    "        \n",
    "    for row in dataset:\n",
    "        if len(row) != len(dataset_header):\n",
    "            error = []\n",
    "            idx = dataset.index(row)\n",
    "            error.append(row)\n",
    "            error.append(idx)\n",
    "            error_list.append(error)\n",
    "            print(f'Data error found at index: {idx}')\n",
    "    num_errors = len(error_list)\n",
    "    print(f'{num_errors} length inconsistencies in this dataset')\n",
    "    return error_list"
   ]
  },
  {
   "cell_type": "code",
   "execution_count": 12,
   "metadata": {},
   "outputs": [
    {
     "name": "stdout",
     "output_type": "stream",
     "text": [
      "Data error found at index: 10472\n",
      "1 length inconsistencies in this dataset\n"
     ]
    },
    {
     "data": {
      "text/plain": [
       "[[['Life Made WI-Fi Touchscreen Photo Frame',\n",
       "   '1.9',\n",
       "   '19',\n",
       "   '3.0M',\n",
       "   '1,000+',\n",
       "   'Free',\n",
       "   '0',\n",
       "   'Everyone',\n",
       "   '',\n",
       "   'February 11, 2018',\n",
       "   '1.0.19',\n",
       "   '4.0 and up'],\n",
       "  10472]]"
      ]
     },
     "execution_count": 12,
     "metadata": {},
     "output_type": "execute_result"
    }
   ],
   "source": [
    "# for row in ANDROID_DATA:\n",
    "#     if len(row) != len(ANDROID_COLS):\n",
    "#         print(row)\n",
    "#         print(f'The index is: {ANDROID_DATA.index(row)}')\n",
    "\n",
    "error_checker(ANDROID_DATA, ANDROID_COLS)"
   ]
  },
  {
   "cell_type": "markdown",
   "metadata": {},
   "source": [
    "#### Findings:\n",
    "* \"Genres\" is missing from index 10472 in the ANDROID_Data. I have decided to delete this row from the dataset, rather than augment it."
   ]
  },
  {
   "cell_type": "code",
   "execution_count": 13,
   "metadata": {},
   "outputs": [
    {
     "data": {
      "text/plain": [
       "['Life Made WI-Fi Touchscreen Photo Frame',\n",
       " '1.9',\n",
       " '19',\n",
       " '3.0M',\n",
       " '1,000+',\n",
       " 'Free',\n",
       " '0',\n",
       " 'Everyone',\n",
       " '',\n",
       " 'February 11, 2018',\n",
       " '1.0.19',\n",
       " '4.0 and up']"
      ]
     },
     "execution_count": 13,
     "metadata": {},
     "output_type": "execute_result"
    }
   ],
   "source": [
    "ANDROID_DATA[10472]"
   ]
  },
  {
   "cell_type": "code",
   "execution_count": 14,
   "metadata": {},
   "outputs": [],
   "source": [
    "del(ANDROID_DATA[10472])"
   ]
  },
  {
   "cell_type": "code",
   "execution_count": 15,
   "metadata": {},
   "outputs": [
    {
     "name": "stdout",
     "output_type": "stream",
     "text": [
      "0 length inconsistencies in this dataset\n"
     ]
    }
   ],
   "source": [
    "android_errors = error_checker(ANDROID_DATA, ANDROID_COLS)"
   ]
  },
  {
   "cell_type": "code",
   "execution_count": 16,
   "metadata": {},
   "outputs": [
    {
     "name": "stdout",
     "output_type": "stream",
     "text": [
      "0 length inconsistencies in this dataset\n"
     ]
    }
   ],
   "source": [
    "ios_errors = error_checker(IOS_DATA, IOS_COLS)"
   ]
  },
  {
   "cell_type": "markdown",
   "metadata": {},
   "source": [
    "### Check for Redundant Apps"
   ]
  },
  {
   "cell_type": "code",
   "execution_count": 17,
   "metadata": {},
   "outputs": [],
   "source": [
    "def find_duplicates(dataset, attr_idx):\n",
    "    \"\"\"Checks a dataset list for multiple occurrences of a row\n",
    "    \n",
    "    Parameters:\n",
    "        - dataset: (list) Dataset, excluding headers\n",
    "        - attr_idx (int) Index of the data attribute\n",
    "        \n",
    "    Returns:\n",
    "        - num_duplicates (int): Number of duplicate entries within the dataset.\n",
    "        - duplicate_apps (list): List of duplicate apps\n",
    "    \n",
    "    \"\"\"\n",
    "    duplicate_apps = []\n",
    "    unique_apps = []\n",
    "    \n",
    "    for row in dataset:\n",
    "        name = row[0]\n",
    "        if name in unique_apps:\n",
    "            duplicate_apps.append(name)\n",
    "        else:\n",
    "            unique_apps.append(name)\n",
    "    \n",
    "    num_duplicates = len(duplicate_apps)\n",
    "    print(f'{num_duplicates} duplicates found')\n",
    "    \n",
    "    return num_duplicates, duplicate_apps"
   ]
  },
  {
   "cell_type": "markdown",
   "metadata": {},
   "source": []
  },
  {
   "cell_type": "code",
   "execution_count": 18,
   "metadata": {},
   "outputs": [
    {
     "name": "stdout",
     "output_type": "stream",
     "text": [
      "1181 duplicates found\n"
     ]
    }
   ],
   "source": [
    "android_num_duplicates, android_duplicates = find_duplicates(ANDROID_DATA, 0)"
   ]
  },
  {
   "cell_type": "code",
   "execution_count": 19,
   "metadata": {},
   "outputs": [
    {
     "name": "stdout",
     "output_type": "stream",
     "text": [
      "0 duplicates found\n"
     ]
    }
   ],
   "source": [
    "ios_num_duplicates, ios_duplicates = find_duplicates(IOS_DATA, 0)"
   ]
  },
  {
   "cell_type": "markdown",
   "metadata": {},
   "source": [
    "As shown above, the `ANDROID_DATA` has 1181 duplicates, while the `IOS_DATA` has none. \n",
    "\n",
    "Within these duplicates, all fields are the same except for the number of reviews (index 3). My strategy will be to keep the entry with the highest number of reviews, discarding the others. This should be reasonable, as the remaining entry will be the most frequently-updated representation of the app."
   ]
  },
  {
   "cell_type": "code",
   "execution_count": 20,
   "metadata": {
    "scrolled": true
   },
   "outputs": [
    {
     "name": "stdout",
     "output_type": "stream",
     "text": [
      "0\n"
     ]
    }
   ],
   "source": [
    "print(ios_num_duplicates)"
   ]
  },
  {
   "cell_type": "markdown",
   "metadata": {},
   "source": [
    "### Remove Duplicate Android Entries"
   ]
  },
  {
   "cell_type": "markdown",
   "metadata": {},
   "source": [
    "Verify the target length of a unique dictionary for ANDROID_DATA:"
   ]
  },
  {
   "cell_type": "code",
   "execution_count": 21,
   "metadata": {},
   "outputs": [
    {
     "name": "stdout",
     "output_type": "stream",
     "text": [
      "Number of apps: 9659\n"
     ]
    }
   ],
   "source": [
    "print('Number of apps:', len(ANDROID_DATA) - 1181)"
   ]
  },
  {
   "cell_type": "markdown",
   "metadata": {},
   "source": [
    "**Target length is 9659**"
   ]
  },
  {
   "cell_type": "code",
   "execution_count": 22,
   "metadata": {
    "scrolled": false
   },
   "outputs": [
    {
     "name": "stdout",
     "output_type": "stream",
     "text": [
      "[(0, 'App'), (1, 'Category'), (2, 'Rating'), (3, 'Reviews'), (4, 'Size'), (5, 'Installs'), (6, 'Type'), (7, 'Price'), (8, 'Content Rating'), (9, 'Genres'), (10, 'Last Updated'), (11, 'Current Ver'), (12, 'Android Ver')]\n"
     ]
    }
   ],
   "source": [
    "# Explore index/columns within ANDROID_DATA:\n",
    "print(list(enumerate(ANDROID_COLS)))"
   ]
  },
  {
   "cell_type": "markdown",
   "metadata": {},
   "source": [
    "I will now: \n",
    "* Create a blank dictionary, `reviews_max`\n",
    "* Iterate through ANDROID_DATA, assigning variables for `name` and `n_reviews`\n",
    "* If the app is already included in `reviews_max` and the number of reviews is greater than the existing value, the `n_reviews` value is increased accordingly.\n",
    "* If the app is **not** already in `reviews_max`, it is added with the corresponding `n_reviews` value.\n",
    "*Note: If the app is already included in the dictionary but it has a lower n_reviews value, it is ignored. The goal is to populate the dictionary with each app having the most reviews."
   ]
  },
  {
   "cell_type": "code",
   "execution_count": 23,
   "metadata": {},
   "outputs": [],
   "source": [
    "reviews_max = dict()\n",
    "for app in ANDROID_DATA:\n",
    "    name = app[0]\n",
    "    n_reviews = float(app[3])\n",
    "    \n",
    "    if name in reviews_max and n_reviews > reviews_max[name]:\n",
    "        reviews_max[name] = n_reviews\n",
    "    if name not in reviews_max:   # \"else\" statement wouldn't account for existing entries with HIGHER reviews\n",
    "        reviews_max[name] = n_reviews"
   ]
  },
  {
   "cell_type": "code",
   "execution_count": 24,
   "metadata": {
    "scrolled": true
   },
   "outputs": [
    {
     "data": {
      "text/plain": [
       "9659"
      ]
     },
     "execution_count": 24,
     "metadata": {},
     "output_type": "execute_result"
    }
   ],
   "source": [
    "len(reviews_max)"
   ]
  },
  {
   "cell_type": "markdown",
   "metadata": {},
   "source": [
    "Now, let's use the reviews_max dictionary to remove the duplicates. For the duplicate cases, we'll only keep the entries with the highest number of reviews. In the code cell below:\n",
    "\n",
    "* We start by initializing two empty lists, android_clean and already_added.\n",
    "* We loop through the android data set, and for every iteration:\n",
    "    * We isolate the name of the app and the number of reviews (as a float).\n",
    "    * We add the current row (app) to the android_clean list, and the app name (name) to the already_added list if:\n",
    "        * The number of reviews of the current app matches the number of reviews of that app as described in the reviews_max dictionary; and\n",
    "        * The name of the app is not already in the already_added list. We need to add this supplementary condition to account for those cases where the highest number of reviews of a duplicate app is the same for more than one entry (for example, the Box app has three entries, and the number of reviews is the same). If we just check for reviews_max[name] == n_reviews, we'll still end up with duplicate entries for some apps."
   ]
  },
  {
   "cell_type": "code",
   "execution_count": 49,
   "metadata": {},
   "outputs": [],
   "source": [
    "android_clean = []\n",
    "already_added = []\n",
    "\n",
    "for app in ANDROID_DATA:\n",
    "    name = app[0]\n",
    "    n_reviews = float(app[3])\n",
    "    \n",
    "    if ( n_reviews == reviews_max[name] ) and ( name not in already_added ):\n",
    "        android_clean.append(app)\n",
    "        already_added.append(name)"
   ]
  },
  {
   "cell_type": "code",
   "execution_count": 50,
   "metadata": {
    "scrolled": true
   },
   "outputs": [
    {
     "data": {
      "text/plain": [
       "9659"
      ]
     },
     "execution_count": 50,
     "metadata": {},
     "output_type": "execute_result"
    }
   ],
   "source": [
    "len(android_clean)"
   ]
  },
  {
   "cell_type": "markdown",
   "metadata": {},
   "source": [
    "IOS_DATA is already \"clean\" insofar as not having any duplicates. For consistency, I will also update that dataset to `ios_clean`:"
   ]
  },
  {
   "cell_type": "code",
   "execution_count": 51,
   "metadata": {},
   "outputs": [],
   "source": [
    "ios_clean = IOS_DATA"
   ]
  },
  {
   "cell_type": "code",
   "execution_count": 52,
   "metadata": {},
   "outputs": [
    {
     "data": {
      "text/plain": [
       "(9659, 7197)"
      ]
     },
     "execution_count": 52,
     "metadata": {},
     "output_type": "execute_result"
    }
   ],
   "source": [
    "len(android_clean), len(ios_clean)"
   ]
  },
  {
   "cell_type": "markdown",
   "metadata": {},
   "source": [
    "### Remove Non-English Apps"
   ]
  },
  {
   "cell_type": "markdown",
   "metadata": {},
   "source": [
    "Our goal is to only analyize free, *english* applications.\n",
    "\n",
    "The numbers corresponding to the characters we commonly use in an English text are all in the range 0 to 127, according to the ASCII (American Standard Code for Information Interchange) system. Based on this number range, we can build a function that detects whether a character belongs to the set of common English characters or not. If the number is equal to or less than 127, then the character belongs to the set of common English characters."
   ]
  },
  {
   "cell_type": "markdown",
   "metadata": {},
   "source": [
    "#### ord(str) and chr(int)"
   ]
  },
  {
   "cell_type": "code",
   "execution_count": 25,
   "metadata": {},
   "outputs": [
    {
     "data": {
      "text/plain": [
       "97"
      ]
     },
     "execution_count": 25,
     "metadata": {},
     "output_type": "execute_result"
    }
   ],
   "source": [
    "ord('a')"
   ]
  },
  {
   "cell_type": "code",
   "execution_count": 26,
   "metadata": {},
   "outputs": [
    {
     "data": {
      "text/plain": [
       "'Ǳ'"
      ]
     },
     "execution_count": 26,
     "metadata": {},
     "output_type": "execute_result"
    }
   ],
   "source": [
    "chr(497)"
   ]
  },
  {
   "cell_type": "markdown",
   "metadata": {},
   "source": [
    "#### Create a function to detect non-english characters"
   ]
  },
  {
   "cell_type": "code",
   "execution_count": 27,
   "metadata": {},
   "outputs": [],
   "source": [
    "def is_english(string):\n",
    "    for c in string:\n",
    "        if ord(c) > 127:\n",
    "            return False\n",
    "    return True"
   ]
  },
  {
   "cell_type": "markdown",
   "metadata": {},
   "source": [
    "Test function:"
   ]
  },
  {
   "cell_type": "code",
   "execution_count": 28,
   "metadata": {},
   "outputs": [],
   "source": [
    "test_1 = '爱奇艺PPS -《欢乐颂2》电视剧热播'\n",
    "test_2 = 'Docs To Go™ Free Office Suite'\n",
    "test_3 = 'Instachat 😜'\n",
    "test_4 = 'Instagram'"
   ]
  },
  {
   "cell_type": "code",
   "execution_count": 29,
   "metadata": {},
   "outputs": [
    {
     "name": "stdout",
     "output_type": "stream",
     "text": [
      "False\n",
      "False\n",
      "False\n",
      "True\n"
     ]
    }
   ],
   "source": [
    "test_list = [test_1, test_2, test_3, test_4]\n",
    "\n",
    "for test in test_list:\n",
    "    print(is_english(test))"
   ]
  },
  {
   "cell_type": "markdown",
   "metadata": {},
   "source": [
    "To minimize the impact of data loss, we'll only remove an app if its name has more than three characters outside of ASCII range 0-127"
   ]
  },
  {
   "cell_type": "markdown",
   "metadata": {},
   "source": [
    "#### Redefine `is_english` to Filter Only Strings with More Than Three Abnormal ASCII Characters"
   ]
  },
  {
   "cell_type": "code",
   "execution_count": 30,
   "metadata": {},
   "outputs": [],
   "source": [
    "def is_english(string):\n",
    "    num_abnormal_ascii = 0\n",
    "    for c in string:\n",
    "        if ord(c) > 127:\n",
    "            num_abnormal_ascii += 1\n",
    "    return False if num_abnormal_ascii > 3 else True"
   ]
  },
  {
   "cell_type": "code",
   "execution_count": 31,
   "metadata": {},
   "outputs": [
    {
     "data": {
      "text/plain": [
       "True"
      ]
     },
     "execution_count": 31,
     "metadata": {},
     "output_type": "execute_result"
    }
   ],
   "source": [
    "is_english('Docs To Go™ Free Office Suite')"
   ]
  },
  {
   "cell_type": "code",
   "execution_count": 32,
   "metadata": {},
   "outputs": [
    {
     "data": {
      "text/plain": [
       "True"
      ]
     },
     "execution_count": 32,
     "metadata": {},
     "output_type": "execute_result"
    }
   ],
   "source": [
    "is_english('Instachat 😜😜')"
   ]
  },
  {
   "cell_type": "code",
   "execution_count": 33,
   "metadata": {},
   "outputs": [
    {
     "data": {
      "text/plain": [
       "False"
      ]
     },
     "execution_count": 33,
     "metadata": {},
     "output_type": "execute_result"
    }
   ],
   "source": [
    "is_english('爱奇艺PPS -《欢乐颂2》电视剧热播')"
   ]
  },
  {
   "cell_type": "markdown",
   "metadata": {},
   "source": [
    "As a reminder, the current datasets that we are working with are as follows:\n",
    "* `android_clean`\n",
    "* `ios_clean`\n",
    "\n",
    "Now, let's use our new `is_english` function to filter non-english apps."
   ]
  },
  {
   "cell_type": "code",
   "execution_count": 45,
   "metadata": {},
   "outputs": [],
   "source": [
    "def filter_only_english(dataset, idx):\n",
    "    \"\"\"Accepts a list and returns a list of english-only applications\"\"\"\n",
    "    \n",
    "    english_apps = []\n",
    "    for app in dataset:\n",
    "        name = app[idx]\n",
    "        if is_english(name):\n",
    "            english_apps.append(app)\n",
    "    \n",
    "    return english_apps"
   ]
  },
  {
   "cell_type": "code",
   "execution_count": 53,
   "metadata": {},
   "outputs": [],
   "source": [
    "android_english = filter_only_english(android_clean, 0)\n",
    "ios_english = filter_only_english(ios_clean, 1)"
   ]
  },
  {
   "cell_type": "markdown",
   "metadata": {},
   "source": [
    "Compare Original Datasets to Filtered Datasets:"
   ]
  },
  {
   "cell_type": "code",
   "execution_count": 55,
   "metadata": {},
   "outputs": [
    {
     "data": {
      "text/plain": [
       "(9659, 9614)"
      ]
     },
     "execution_count": 55,
     "metadata": {},
     "output_type": "execute_result"
    }
   ],
   "source": [
    "len(android_clean), len(android_english)"
   ]
  },
  {
   "cell_type": "code",
   "execution_count": 56,
   "metadata": {
    "scrolled": true
   },
   "outputs": [
    {
     "data": {
      "text/plain": [
       "(7197, 6183)"
      ]
     },
     "execution_count": 56,
     "metadata": {},
     "output_type": "execute_result"
    }
   ],
   "source": [
    "len(ios_clean), len(ios_english)"
   ]
  },
  {
   "cell_type": "markdown",
   "metadata": {},
   "source": [
    "So far in the data cleaning process, we:\n",
    "\n",
    "* Removed inaccurate data\n",
    "* Removed duplicate app entries\n",
    "* Removed non-English apps\n",
    "\n",
    "We only build apps that are free to download and install, and our main source of revenue consists of in-app ads. Our data sets contain both free and non-free apps; we'll need to isolate only the free apps for our analysis.\n",
    "\n",
    "Isolating the free apps will be our last step in the data cleaning process."
   ]
  },
  {
   "cell_type": "markdown",
   "metadata": {},
   "source": [
    "### Isolating Free Apps"
   ]
  },
  {
   "cell_type": "code",
   "execution_count": 61,
   "metadata": {
    "scrolled": true
   },
   "outputs": [
    {
     "name": "stdout",
     "output_type": "stream",
     "text": [
      "[(0, 'App'), (1, 'Category'), (2, 'Rating'), (3, 'Reviews'), (4, 'Size'), (5, 'Installs'), (6, 'Type'), (7, 'Price'), (8, 'Content Rating'), (9, 'Genres'), (10, 'Last Updated'), (11, 'Current Ver'), (12, 'Android Ver')]\n"
     ]
    }
   ],
   "source": [
    "print(list(enumerate(ANDROID_COLS)))"
   ]
  },
  {
   "cell_type": "markdown",
   "metadata": {},
   "source": [
    "For android, free apps are identified by **index 7** having a value of '0.0'.\n",
    "*Note: I originally filtered this if index 6 == 'Free', which led to a single app that didn't satisfy both conditions (shown below)."
   ]
  },
  {
   "cell_type": "code",
   "execution_count": 62,
   "metadata": {},
   "outputs": [
    {
     "name": "stdout",
     "output_type": "stream",
     "text": [
      "[(0, 'id'), (1, 'track_name'), (2, 'size_bytes'), (3, 'currency'), (4, 'price'), (5, 'rating_count_tot'), (6, 'rating_count_ver'), (7, 'user_rating'), (8, 'user_rating_ver'), (9, 'ver'), (10, 'cont_rating'), (11, 'prime_genre'), (12, 'sup_devices.num'), (13, 'ipadSc_urls.num'), (14, 'lang.num'), (15, 'vpp_lic')]\n"
     ]
    }
   ],
   "source": [
    "print(list(enumerate(IOS_COLS)))"
   ]
  },
  {
   "cell_type": "markdown",
   "metadata": {},
   "source": [
    "For ios, Price is located at **index 4**"
   ]
  },
  {
   "cell_type": "markdown",
   "metadata": {},
   "source": [
    "So, we will explore apps that have:\n",
    "* android_english[7] == '0'\n",
    "* ios_english[4] == '0.0'"
   ]
  },
  {
   "cell_type": "code",
   "execution_count": 77,
   "metadata": {},
   "outputs": [
    {
     "data": {
      "text/plain": [
       "['284882215',\n",
       " 'Facebook',\n",
       " '389879808',\n",
       " 'USD',\n",
       " '0.0',\n",
       " '2974676',\n",
       " '212',\n",
       " '3.5',\n",
       " '3.5',\n",
       " '95.0',\n",
       " '4+',\n",
       " 'Social Networking',\n",
       " '37',\n",
       " '1',\n",
       " '29',\n",
       " '1']"
      ]
     },
     "execution_count": 77,
     "metadata": {},
     "output_type": "execute_result"
    }
   ],
   "source": [
    "ios_english[0]"
   ]
  },
  {
   "cell_type": "code",
   "execution_count": 81,
   "metadata": {},
   "outputs": [],
   "source": [
    "android_free = []\n",
    "ios_free = []\n",
    "\n",
    "for app in android_english:\n",
    "    price = app[7]\n",
    "    if price == '0':\n",
    "        android_free.append(app)\n",
    "        \n",
    "for app in ios_english:\n",
    "    name = app[1]\n",
    "    price = app[4]\n",
    "    if price == '0.0':\n",
    "        ios_free.append(app)"
   ]
  },
  {
   "cell_type": "markdown",
   "metadata": {},
   "source": [
    "**Android, before and after:**"
   ]
  },
  {
   "cell_type": "code",
   "execution_count": 82,
   "metadata": {
    "scrolled": true
   },
   "outputs": [
    {
     "data": {
      "text/plain": [
       "(9614, 8864)"
      ]
     },
     "execution_count": 82,
     "metadata": {},
     "output_type": "execute_result"
    }
   ],
   "source": [
    "len(android_english), len(android_free)"
   ]
  },
  {
   "cell_type": "code",
   "execution_count": 80,
   "metadata": {},
   "outputs": [
    {
     "data": {
      "text/plain": [
       "(6183, 3222)"
      ]
     },
     "execution_count": 80,
     "metadata": {},
     "output_type": "execute_result"
    }
   ],
   "source": [
    "len(ios_english), len(ios_free)"
   ]
  },
  {
   "cell_type": "markdown",
   "metadata": {},
   "source": [
    "#### Interesting Finding:"
   ]
  },
  {
   "cell_type": "markdown",
   "metadata": {},
   "source": [
    "When Checking my work, I realized I should have 8864 android apps remaining. I originally had 8863; 1 less. I decided to try to find the app that had a price of '0' but did not have the type = 'Free'. It turned out to be *Command & Conquer: Rivals*:"
   ]
  },
  {
   "cell_type": "code",
   "execution_count": 83,
   "metadata": {},
   "outputs": [],
   "source": [
    "android_strange = []\n",
    "\n",
    "for app in android_english:\n",
    "    type_app = app[6]\n",
    "    price = app[7]\n",
    "    if price == '0' and type_app != 'Free':\n",
    "        android_strange.append(app)"
   ]
  },
  {
   "cell_type": "code",
   "execution_count": 84,
   "metadata": {},
   "outputs": [
    {
     "data": {
      "text/plain": [
       "1"
      ]
     },
     "execution_count": 84,
     "metadata": {},
     "output_type": "execute_result"
    }
   ],
   "source": [
    "len(android_strange)"
   ]
  },
  {
   "cell_type": "code",
   "execution_count": 85,
   "metadata": {},
   "outputs": [
    {
     "data": {
      "text/plain": [
       "[['Command & Conquer: Rivals',\n",
       "  'FAMILY',\n",
       "  'NaN',\n",
       "  '0',\n",
       "  'Varies with device',\n",
       "  '0',\n",
       "  'NaN',\n",
       "  '0',\n",
       "  'Everyone 10+',\n",
       "  'Strategy',\n",
       "  'June 28, 2018',\n",
       "  'Varies with device',\n",
       "  'Varies with device']]"
      ]
     },
     "execution_count": 85,
     "metadata": {},
     "output_type": "execute_result"
    }
   ],
   "source": [
    "android_strange"
   ]
  },
  {
   "cell_type": "markdown",
   "metadata": {},
   "source": [
    "## Data Analysis: Most Common Apps by Genre"
   ]
  },
  {
   "cell_type": "markdown",
   "metadata": {},
   "source": [
    "As we mentioned in the introduction, our aim is to determine the kinds of apps that are likely to attract more users because our revenue is highly influenced by the number of people using our apps.\n",
    "\n",
    "To minimize risks and overhead, our validation strategy for an app idea is comprised of three steps:\n",
    "\n",
    "1. Build a minimal Android version of the app, and add it to Google Play.\n",
    "2. If the app has a good response from users, we develop it further.\n",
    "3. If the app is profitable after six months, we build an iOS version of the app and add it to the App Store.\n",
    "Because our end goal is to add the app on both Google Play and the App Store, we need to find app profiles that are successful on both markets. For instance, a profile that works well for both markets might be a productivity app that makes use of gamification.\n",
    "\n",
    "Let's begin the analysis by getting a sense of what are the most common genres for each market. For this, we'll need to build frequency tables for a few columns in our data sets."
   ]
  },
  {
   "cell_type": "markdown",
   "metadata": {},
   "source": [
    "### Explore Android Data\n",
    "Current dataset is `android_free`. For Android, category (index 1) and genres (index 9) appear to be representative of the type of app. "
   ]
  },
  {
   "cell_type": "code",
   "execution_count": 90,
   "metadata": {
    "scrolled": true
   },
   "outputs": [
    {
     "name": "stdout",
     "output_type": "stream",
     "text": [
      "[(0, 'App'), (1, 'Category'), (2, 'Rating'), (3, 'Reviews'), (4, 'Size'), (5, 'Installs'), (6, 'Type'), (7, 'Price'), (8, 'Content Rating'), (9, 'Genres'), (10, 'Last Updated'), (11, 'Current Ver'), (12, 'Android Ver')]\n"
     ]
    }
   ],
   "source": [
    "print(list(enumerate(ANDROID_COLS)))"
   ]
  },
  {
   "cell_type": "markdown",
   "metadata": {},
   "source": [
    "### Explore IOS Data\n",
    "Current dataset is `ios_free`. For ios, prime_genre (index 11) appears to be the best representation of the type of app."
   ]
  },
  {
   "cell_type": "code",
   "execution_count": 98,
   "metadata": {},
   "outputs": [
    {
     "name": "stdout",
     "output_type": "stream",
     "text": [
      "[(0, 'id'), (1, 'track_name'), (2, 'size_bytes'), (3, 'currency'), (4, 'price'), (5, 'rating_count_tot'), (6, 'rating_count_ver'), (7, 'user_rating'), (8, 'user_rating_ver'), (9, 'ver'), (10, 'cont_rating'), (11, 'prime_genre'), (12, 'sup_devices.num'), (13, 'ipadSc_urls.num'), (14, 'lang.num'), (15, 'vpp_lic')]\n"
     ]
    }
   ],
   "source": [
    "print(list(enumerate(IOS_COLS)))"
   ]
  },
  {
   "cell_type": "markdown",
   "metadata": {},
   "source": [
    "### Frequency Exploration Functions"
   ]
  },
  {
   "cell_type": "markdown",
   "metadata": {},
   "source": [
    "Let's start by building functions that can generate frequency table showing percentage of the overall dataset."
   ]
  },
  {
   "cell_type": "code",
   "execution_count": 91,
   "metadata": {},
   "outputs": [],
   "source": [
    "def freq_table(dataset, index):\n",
    "    \"\"\"Accepts a dataset (list) and desired category (value), returning a frequency table for the category\"\"\"\n",
    "    table = dict()\n",
    "    total = 0\n",
    "    \n",
    "    for row in dataset:\n",
    "        total +=1 \n",
    "        value = row[index]\n",
    "        if value in table:\n",
    "            table[value] += 1\n",
    "        else:\n",
    "            table[value] = 1\n",
    "            \n",
    "    table_percentages = dict()\n",
    "    for key in table:\n",
    "        percentage = ( table[key] / total ) * 100\n",
    "        table_percentages[key] = percentage\n",
    "        \n",
    "    return table_percentages"
   ]
  },
  {
   "cell_type": "code",
   "execution_count": 95,
   "metadata": {},
   "outputs": [],
   "source": [
    "test = freq_table(android_free, 1)"
   ]
  },
  {
   "cell_type": "code",
   "execution_count": 94,
   "metadata": {},
   "outputs": [
    {
     "name": "stdout",
     "output_type": "stream",
     "text": [
      "The total percentage is: 100.0\n"
     ]
    }
   ],
   "source": [
    "total = 0\n",
    "for value in test.values():\n",
    "    total += value\n",
    "print(f'The total percentage is: {total}')"
   ]
  },
  {
   "cell_type": "code",
   "execution_count": 96,
   "metadata": {},
   "outputs": [],
   "source": [
    "def display_table(dataset, index):\n",
    "    table = freq_table(dataset, index)\n",
    "    table_display = []\n",
    "    for key in table:\n",
    "        key_val_as_tuple = (table[key], key) # value comes first to ensure sorted function works correctly.\n",
    "        table_display.append(key_val_as_tuple)\n",
    "        \n",
    "    table_sorted = sorted(table_display, reverse = True)\n",
    "    for entry in table_sorted:\n",
    "        print(f'{entry[1]}: {entry[0]}')"
   ]
  },
  {
   "cell_type": "markdown",
   "metadata": {},
   "source": [
    "### Use Functions to Explore Datasets"
   ]
  },
  {
   "cell_type": "markdown",
   "metadata": {},
   "source": [
    "#### Android Data\n",
    "Exploring category (index 1) and genres (index 9):"
   ]
  },
  {
   "cell_type": "code",
   "execution_count": 99,
   "metadata": {},
   "outputs": [
    {
     "name": "stdout",
     "output_type": "stream",
     "text": [
      "FAMILY: 18.907942238267147\n",
      "GAME: 9.724729241877256\n",
      "TOOLS: 8.461191335740072\n",
      "BUSINESS: 4.591606498194946\n",
      "LIFESTYLE: 3.9034296028880866\n",
      "PRODUCTIVITY: 3.892148014440433\n",
      "FINANCE: 3.7003610108303246\n",
      "MEDICAL: 3.531137184115524\n",
      "SPORTS: 3.395758122743682\n",
      "PERSONALIZATION: 3.3167870036101084\n",
      "COMMUNICATION: 3.2378158844765346\n",
      "HEALTH_AND_FITNESS: 3.0798736462093865\n",
      "PHOTOGRAPHY: 2.944494584837545\n",
      "NEWS_AND_MAGAZINES: 2.7978339350180503\n",
      "SOCIAL: 2.6624548736462095\n",
      "TRAVEL_AND_LOCAL: 2.33528880866426\n",
      "SHOPPING: 2.2450361010830324\n",
      "BOOKS_AND_REFERENCE: 2.1435018050541514\n",
      "DATING: 1.861462093862816\n",
      "VIDEO_PLAYERS: 1.7937725631768955\n",
      "MAPS_AND_NAVIGATION: 1.3989169675090252\n",
      "FOOD_AND_DRINK: 1.2409747292418771\n",
      "EDUCATION: 1.1620036101083033\n",
      "ENTERTAINMENT: 0.9589350180505415\n",
      "LIBRARIES_AND_DEMO: 0.9363718411552346\n",
      "AUTO_AND_VEHICLES: 0.9250902527075812\n",
      "HOUSE_AND_HOME: 0.8235559566787004\n",
      "WEATHER: 0.8009927797833934\n",
      "EVENTS: 0.7107400722021661\n",
      "PARENTING: 0.6543321299638989\n",
      "ART_AND_DESIGN: 0.6430505415162455\n",
      "COMICS: 0.6204873646209386\n",
      "BEAUTY: 0.5979241877256317\n"
     ]
    }
   ],
   "source": [
    "android_category = display_table(android_free, 1)"
   ]
  },
  {
   "cell_type": "code",
   "execution_count": 100,
   "metadata": {},
   "outputs": [
    {
     "name": "stdout",
     "output_type": "stream",
     "text": [
      "Tools: 8.449909747292418\n",
      "Entertainment: 6.069494584837545\n",
      "Education: 5.347472924187725\n",
      "Business: 4.591606498194946\n",
      "Productivity: 3.892148014440433\n",
      "Lifestyle: 3.892148014440433\n",
      "Finance: 3.7003610108303246\n",
      "Medical: 3.531137184115524\n",
      "Sports: 3.463447653429603\n",
      "Personalization: 3.3167870036101084\n",
      "Communication: 3.2378158844765346\n",
      "Action: 3.1024368231046933\n",
      "Health & Fitness: 3.0798736462093865\n",
      "Photography: 2.944494584837545\n",
      "News & Magazines: 2.7978339350180503\n",
      "Social: 2.6624548736462095\n",
      "Travel & Local: 2.3240072202166067\n",
      "Shopping: 2.2450361010830324\n",
      "Books & Reference: 2.1435018050541514\n",
      "Simulation: 2.0419675090252705\n",
      "Dating: 1.861462093862816\n",
      "Arcade: 1.8501805054151623\n",
      "Video Players & Editors: 1.7712093862815883\n",
      "Casual: 1.7599277978339352\n",
      "Maps & Navigation: 1.3989169675090252\n",
      "Food & Drink: 1.2409747292418771\n",
      "Puzzle: 1.128158844765343\n",
      "Racing: 0.9927797833935018\n",
      "Role Playing: 0.9363718411552346\n",
      "Libraries & Demo: 0.9363718411552346\n",
      "Auto & Vehicles: 0.9250902527075812\n",
      "Strategy: 0.9138086642599278\n",
      "House & Home: 0.8235559566787004\n",
      "Weather: 0.8009927797833934\n",
      "Events: 0.7107400722021661\n",
      "Adventure: 0.6768953068592057\n",
      "Comics: 0.6092057761732852\n",
      "Beauty: 0.5979241877256317\n",
      "Art & Design: 0.5979241877256317\n",
      "Parenting: 0.4963898916967509\n",
      "Card: 0.45126353790613716\n",
      "Casino: 0.42870036101083037\n",
      "Trivia: 0.41741877256317694\n",
      "Educational;Education: 0.39485559566787\n",
      "Board: 0.3835740072202166\n",
      "Educational: 0.3722924187725632\n",
      "Education;Education: 0.33844765342960287\n",
      "Word: 0.2594765342960289\n",
      "Casual;Pretend Play: 0.236913357400722\n",
      "Music: 0.2030685920577617\n",
      "Racing;Action & Adventure: 0.16922382671480143\n",
      "Puzzle;Brain Games: 0.16922382671480143\n",
      "Entertainment;Music & Video: 0.16922382671480143\n",
      "Casual;Brain Games: 0.13537906137184114\n",
      "Casual;Action & Adventure: 0.13537906137184114\n",
      "Arcade;Action & Adventure: 0.12409747292418773\n",
      "Action;Action & Adventure: 0.10153429602888085\n",
      "Educational;Pretend Play: 0.09025270758122744\n",
      "Simulation;Action & Adventure: 0.078971119133574\n",
      "Parenting;Education: 0.078971119133574\n",
      "Entertainment;Brain Games: 0.078971119133574\n",
      "Board;Brain Games: 0.078971119133574\n",
      "Parenting;Music & Video: 0.06768953068592057\n",
      "Educational;Brain Games: 0.06768953068592057\n",
      "Casual;Creativity: 0.06768953068592057\n",
      "Art & Design;Creativity: 0.06768953068592057\n",
      "Education;Pretend Play: 0.056407942238267145\n",
      "Role Playing;Pretend Play: 0.04512635379061372\n",
      "Education;Creativity: 0.04512635379061372\n",
      "Role Playing;Action & Adventure: 0.033844765342960284\n",
      "Puzzle;Action & Adventure: 0.033844765342960284\n",
      "Entertainment;Creativity: 0.033844765342960284\n",
      "Entertainment;Action & Adventure: 0.033844765342960284\n",
      "Educational;Creativity: 0.033844765342960284\n",
      "Educational;Action & Adventure: 0.033844765342960284\n",
      "Education;Music & Video: 0.033844765342960284\n",
      "Education;Brain Games: 0.033844765342960284\n",
      "Education;Action & Adventure: 0.033844765342960284\n",
      "Adventure;Action & Adventure: 0.033844765342960284\n",
      "Video Players & Editors;Music & Video: 0.02256317689530686\n",
      "Sports;Action & Adventure: 0.02256317689530686\n",
      "Simulation;Pretend Play: 0.02256317689530686\n",
      "Puzzle;Creativity: 0.02256317689530686\n",
      "Music;Music & Video: 0.02256317689530686\n",
      "Entertainment;Pretend Play: 0.02256317689530686\n",
      "Casual;Education: 0.02256317689530686\n",
      "Board;Action & Adventure: 0.02256317689530686\n",
      "Video Players & Editors;Creativity: 0.01128158844765343\n",
      "Trivia;Education: 0.01128158844765343\n",
      "Travel & Local;Action & Adventure: 0.01128158844765343\n",
      "Tools;Education: 0.01128158844765343\n",
      "Strategy;Education: 0.01128158844765343\n",
      "Strategy;Creativity: 0.01128158844765343\n",
      "Strategy;Action & Adventure: 0.01128158844765343\n",
      "Simulation;Education: 0.01128158844765343\n",
      "Role Playing;Brain Games: 0.01128158844765343\n",
      "Racing;Pretend Play: 0.01128158844765343\n",
      "Puzzle;Education: 0.01128158844765343\n",
      "Parenting;Brain Games: 0.01128158844765343\n",
      "Music & Audio;Music & Video: 0.01128158844765343\n",
      "Lifestyle;Pretend Play: 0.01128158844765343\n",
      "Lifestyle;Education: 0.01128158844765343\n",
      "Health & Fitness;Education: 0.01128158844765343\n",
      "Health & Fitness;Action & Adventure: 0.01128158844765343\n",
      "Entertainment;Education: 0.01128158844765343\n",
      "Communication;Creativity: 0.01128158844765343\n",
      "Comics;Creativity: 0.01128158844765343\n",
      "Casual;Music & Video: 0.01128158844765343\n",
      "Card;Action & Adventure: 0.01128158844765343\n",
      "Books & Reference;Education: 0.01128158844765343\n",
      "Art & Design;Pretend Play: 0.01128158844765343\n",
      "Art & Design;Action & Adventure: 0.01128158844765343\n",
      "Arcade;Pretend Play: 0.01128158844765343\n",
      "Adventure;Education: 0.01128158844765343\n"
     ]
    }
   ],
   "source": [
    "android_genres = display_table(android_free, 9)"
   ]
  },
  {
   "cell_type": "markdown",
   "metadata": {},
   "source": [
    "*Tools* ranks high on both lists"
   ]
  },
  {
   "cell_type": "markdown",
   "metadata": {},
   "source": [
    "#### IOS Data\n",
    "Exploring prime_genre (index 11):"
   ]
  },
  {
   "cell_type": "code",
   "execution_count": 101,
   "metadata": {},
   "outputs": [
    {
     "name": "stdout",
     "output_type": "stream",
     "text": [
      "Games: 58.16263190564867\n",
      "Entertainment: 7.883302296710118\n",
      "Photo & Video: 4.9658597144630665\n",
      "Education: 3.662321539416512\n",
      "Social Networking: 3.2898820608317814\n",
      "Shopping: 2.60707635009311\n",
      "Utilities: 2.5139664804469275\n",
      "Sports: 2.1415270018621975\n",
      "Music: 2.0484171322160147\n",
      "Health & Fitness: 2.0173805090006205\n",
      "Productivity: 1.7380509000620732\n",
      "Lifestyle: 1.5828677839851024\n",
      "News: 1.3345747982619491\n",
      "Travel: 1.2414649286157666\n",
      "Finance: 1.1173184357541899\n",
      "Weather: 0.8690254500310366\n",
      "Food & Drink: 0.8069522036002483\n",
      "Reference: 0.5586592178770949\n",
      "Business: 0.5276225946617008\n",
      "Book: 0.4345127250155183\n",
      "Navigation: 0.186219739292365\n",
      "Medical: 0.186219739292365\n",
      "Catalogs: 0.12414649286157665\n"
     ]
    }
   ],
   "source": [
    "ios_prime_genre = display_table(ios_free, 11)"
   ]
  },
  {
   "cell_type": "markdown",
   "metadata": {},
   "source": [
    "After comparing both datasets, games/entertainment theme seems to be a commen trend between the two datasets."
   ]
  },
  {
   "cell_type": "code",
   "execution_count": null,
   "metadata": {},
   "outputs": [],
   "source": []
  }
 ],
 "metadata": {
  "kernelspec": {
   "display_name": "Python 3",
   "language": "python",
   "name": "python3"
  },
  "language_info": {
   "codemirror_mode": {
    "name": "ipython",
    "version": 3
   },
   "file_extension": ".py",
   "mimetype": "text/x-python",
   "name": "python",
   "nbconvert_exporter": "python",
   "pygments_lexer": "ipython3",
   "version": "3.8.5"
  }
 },
 "nbformat": 4,
 "nbformat_minor": 4
}
