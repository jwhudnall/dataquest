{
 "cells": [
  {
   "cell_type": "markdown",
   "metadata": {},
   "source": [
    "# Dataquest Guided Project: Profitable App Profiles for the App Store and Google Play Markets"
   ]
  },
  {
   "cell_type": "markdown",
   "metadata": {},
   "source": [
    "The goal of this project is to analyize Android and IOS mobile apps. The company we represent builds **free** apps directed towards an **English-speaking** audience, with revenue coming from in-app advertising.\n",
    "\n",
    "The goal of the project is to learn which types of applications are most likely to attract more users."
   ]
  },
  {
   "cell_type": "markdown",
   "metadata": {},
   "source": [
    "## About the Data"
   ]
  },
  {
   "cell_type": "markdown",
   "metadata": {},
   "source": [
    "* [A data set](https://www.kaggle.com/lava18/google-play-store-apps) containing data about approximately 10,000 Android apps from Google Play; the data was collected in August 2018. You can download the data set directly from [this link](https://dq-content.s3.amazonaws.com/350/googleplaystore.csv).\n",
    "* [A data set](https://www.kaggle.com/ramamet4/app-store-apple-data-set-10k-apps) containing data about approximately 7,000 iOS apps from the App Store; the data was collected in July 2017. You can download the data set directly from [this link](https://dq-content.s3.amazonaws.com/350/AppleStore.csv)."
   ]
  },
  {
   "cell_type": "markdown",
   "metadata": {},
   "source": [
    "### Import the Data"
   ]
  },
  {
   "cell_type": "code",
   "execution_count": 1,
   "metadata": {
    "scrolled": true
   },
   "outputs": [],
   "source": [
    "import tarfile\n",
    "\n",
    "# Extracts the .tar file containing both datasets\n",
    "app_data_tgz = tarfile.open('Guided Project_ Profitable App Profiles for the App Store and Google Play Markets.tar')\n",
    "app_data_tgz.extractall()\n",
    "app_data_tgz.close()"
   ]
  },
  {
   "cell_type": "markdown",
   "metadata": {},
   "source": [
    "Open the two data sets and save them to list variables:"
   ]
  },
  {
   "cell_type": "code",
   "execution_count": 2,
   "metadata": {},
   "outputs": [],
   "source": [
    "def open_csv_dataset(file, header=True):\n",
    "    \"\"\"Converts a CSV file into a Python list for analysis.\n",
    "     Parameters:\n",
    "        - file: file name\n",
    "        - header=True: True if first row of data represents categories.\n",
    "        \n",
    "    Returns:\n",
    "        - header, list (if header=True)\n",
    "        - list (if header=False)\n",
    "        \"\"\"\n",
    "    from csv import reader\n",
    "    open_file = open(file, encoding='utf-8')\n",
    "    read_file = reader(open_file)\n",
    "    name = list(read_file)\n",
    "    open_file.close()\n",
    "    \n",
    "    if header:\n",
    "        col_names = name[0]\n",
    "        return col_names, name[1:]\n",
    "    else:\n",
    "        return name"
   ]
  },
  {
   "cell_type": "code",
   "execution_count": 3,
   "metadata": {},
   "outputs": [],
   "source": [
    "IOS_COLS, IOS_DATA = open_csv_dataset('Applestore.csv')\n",
    "ANDROID_COLS, ANDROID_DATA = open_csv_dataset('googleplaystore.csv')"
   ]
  },
  {
   "cell_type": "code",
   "execution_count": 4,
   "metadata": {
    "scrolled": true
   },
   "outputs": [
    {
     "name": "stdout",
     "output_type": "stream",
     "text": [
      "Help on function open_csv_dataset in module __main__:\n",
      "\n",
      "open_csv_dataset(file, header=True)\n",
      "    Converts a CSV file into a Python list for analysis.\n",
      "     Parameters:\n",
      "        - file: file name\n",
      "        - header=True: True if first row of data represents categories.\n",
      "        \n",
      "    Returns:\n",
      "        - header, list (if header=True)\n",
      "        - list (if header=False)\n",
      "\n"
     ]
    }
   ],
   "source": [
    "help(open_csv_dataset)"
   ]
  },
  {
   "cell_type": "code",
   "execution_count": 5,
   "metadata": {},
   "outputs": [],
   "source": [
    "def explore_data(dataset, start, end, rows_and_columns=False):\n",
    "    \"\"\"Function to explore a dataset based on the specified indices\n",
    "    \n",
    "    Parameters:\n",
    "        - dataset: variable representing the dataset\n",
    "        - start: start index within dataset\n",
    "        - end: stop index within dataset\n",
    "        - rows_and_columns: prints the number of rows and columns, if True\n",
    "        \n",
    "    Returns:\n",
    "        None\n",
    "        \"\"\"\n",
    "    \n",
    "    dataset_slice = dataset[start:end]\n",
    "    for row in dataset_slice:\n",
    "        print(row)\n",
    "        print('\\n') # Adds a new line after each row\n",
    "        \n",
    "    if rows_and_columns:\n",
    "        print(f'Number of rows: {len(dataset)}')\n",
    "        print(f'Number of columns: {len(dataset[0])}')"
   ]
  },
  {
   "cell_type": "markdown",
   "metadata": {},
   "source": [
    "### Explore Datasets"
   ]
  },
  {
   "cell_type": "code",
   "execution_count": 6,
   "metadata": {},
   "outputs": [
    {
     "name": "stdout",
     "output_type": "stream",
     "text": [
      "['420009108', 'Temple Run', '65921024', 'USD', '0.0', '1724546', '3842', '4.5', '4.0', '1.6.2', '9+', 'Games', '40', '5', '1', '1']\n",
      "\n",
      "\n",
      "['284035177', 'Pandora - Music & Radio', '130242560', 'USD', '0.0', '1126879', '3594', '4.0', '4.5', '8.4.1', '12+', 'Music', '37', '4', '1', '1']\n",
      "\n",
      "\n",
      "Number of rows: 7197\n",
      "Number of columns: 16\n"
     ]
    }
   ],
   "source": [
    "explore_data(IOS_DATA, 3, 5, rows_and_columns=True)"
   ]
  },
  {
   "cell_type": "code",
   "execution_count": 7,
   "metadata": {},
   "outputs": [
    {
     "name": "stdout",
     "output_type": "stream",
     "text": [
      "['Sketch - Draw & Paint', 'ART_AND_DESIGN', '4.5', '215644', '25M', '50,000,000+', 'Free', '0', 'Teen', 'Art & Design', 'June 8, 2018', 'Varies with device', '4.2 and up']\n",
      "\n",
      "\n",
      "['Pixel Draw - Number Art Coloring Book', 'ART_AND_DESIGN', '4.3', '967', '2.8M', '100,000+', 'Free', '0', 'Everyone', 'Art & Design;Creativity', 'June 20, 2018', '1.1', '4.4 and up']\n",
      "\n",
      "\n",
      "Number of rows: 10841\n",
      "Number of columns: 13\n"
     ]
    }
   ],
   "source": [
    "explore_data(ANDROID_DATA, 3, 5, rows_and_columns=True)"
   ]
  },
  {
   "cell_type": "markdown",
   "metadata": {},
   "source": [
    "### Explore Column Names"
   ]
  },
  {
   "cell_type": "code",
   "execution_count": 8,
   "metadata": {},
   "outputs": [
    {
     "name": "stdout",
     "output_type": "stream",
     "text": [
      "id\n",
      "track_name\n",
      "size_bytes\n",
      "currency\n",
      "price\n",
      "rating_count_tot\n",
      "rating_count_ver\n",
      "user_rating\n",
      "user_rating_ver\n",
      "ver\n",
      "cont_rating\n",
      "prime_genre\n",
      "sup_devices.num\n",
      "ipadSc_urls.num\n",
      "lang.num\n",
      "vpp_lic\n"
     ]
    }
   ],
   "source": [
    "# IOS Columns:\n",
    "for col in IOS_COLS:\n",
    "    print(col)"
   ]
  },
  {
   "cell_type": "markdown",
   "metadata": {},
   "source": [
    "Of these IOS columns, the following might be useful for our purpose:\n",
    "* price\n",
    "* user_rating\n",
    "* cont_rating (Maybe)\n",
    "* prime genre\n",
    "* sup_devices.num (Maybe)\n",
    "* lang.num (Maybe)\n",
    "\n",
    "[Link to data](https://www.kaggle.com/ramamet4/app-store-apple-data-set-10k-apps)"
   ]
  },
  {
   "cell_type": "code",
   "execution_count": 9,
   "metadata": {},
   "outputs": [
    {
     "name": "stdout",
     "output_type": "stream",
     "text": [
      "App\n",
      "Category\n",
      "Rating\n",
      "Reviews\n",
      "Size\n",
      "Installs\n",
      "Type\n",
      "Price\n",
      "Content Rating\n",
      "Genres\n",
      "Last Updated\n",
      "Current Ver\n",
      "Android Ver\n"
     ]
    }
   ],
   "source": [
    "# Android Columns:\n",
    "for col in ANDROID_COLS:\n",
    "    print(col)"
   ]
  },
  {
   "cell_type": "markdown",
   "metadata": {},
   "source": [
    "Of these Android columns, the following might be useful:\n",
    "* Category\n",
    "* Rating\n",
    "* Reviews\n",
    "* Size\n",
    "* Installs\n",
    "* Type\n",
    "* Content Rating\n",
    "* Genres\n",
    "\n",
    "Price should be superfluous, as we will hone in on type=Free."
   ]
  },
  {
   "cell_type": "markdown",
   "metadata": {},
   "source": [
    "### Data Cleaning"
   ]
  },
  {
   "cell_type": "markdown",
   "metadata": {},
   "source": [
    "Data cleaning is done before the analysis; it includes removing or correcting wrong data, removing duplicate data, and modifying the data to fit the purpose of our analysis.\n",
    "\n",
    "**To-Do:**\n",
    "1. Identify the issue with a well-known error in one of the Android rows.\n",
    "    * [Discussion Source](https://www.kaggle.com/lava18/google-play-store-apps/discussion/66015)\n",
    "    \n",
    "Data:\n",
    "* IOS_COLS, IOS_DATA \n",
    "* ANDROID_COLS, ANDROID_DATA"
   ]
  },
  {
   "cell_type": "code",
   "execution_count": 10,
   "metadata": {},
   "outputs": [
    {
     "name": "stdout",
     "output_type": "stream",
     "text": [
      "['App', 'Category', 'Rating', 'Reviews', 'Size', 'Installs', 'Type', 'Price', 'Content Rating', 'Genres', 'Last Updated', 'Current Ver', 'Android Ver']\n"
     ]
    }
   ],
   "source": [
    "# Labels:\n",
    "print(ANDROID_COLS)"
   ]
  },
  {
   "cell_type": "code",
   "execution_count": 11,
   "metadata": {},
   "outputs": [],
   "source": [
    "def error_checker(dataset, dataset_header=None):\n",
    "    \"\"\"Checks for length inconsistencies within the dataset.\n",
    "    \n",
    "    Parameters:\n",
    "        - dataset_header: Header (labels) of the data, if available\n",
    "        - dataset: dataset (list)\n",
    "        \n",
    "    Returns:\n",
    "        - error_list: nested list of errors. Includes:\n",
    "            * error[0]: Data values (to help with inspection)\n",
    "            * error[1]: Index of the error within the dataset\n",
    "    \"\"\"\n",
    "    error_list = []\n",
    "    if not dataset_header:\n",
    "        dataset_header = dataset[0]\n",
    "        \n",
    "    for row in dataset:\n",
    "        if len(row) != len(dataset_header):\n",
    "            error = []\n",
    "            idx = dataset.index(row)\n",
    "            error.append(row)\n",
    "            error.append(idx)\n",
    "            error_list.append(error)\n",
    "            print(f'Data error found at index: {idx}')\n",
    "    num_errors = len(error_list)\n",
    "    print(f'{num_errors} length inconsistencies in this dataset')\n",
    "    return error_list"
   ]
  },
  {
   "cell_type": "code",
   "execution_count": 12,
   "metadata": {},
   "outputs": [
    {
     "name": "stdout",
     "output_type": "stream",
     "text": [
      "Data error found at index: 10472\n",
      "1 length inconsistencies in this dataset\n"
     ]
    },
    {
     "data": {
      "text/plain": [
       "[[['Life Made WI-Fi Touchscreen Photo Frame',\n",
       "   '1.9',\n",
       "   '19',\n",
       "   '3.0M',\n",
       "   '1,000+',\n",
       "   'Free',\n",
       "   '0',\n",
       "   'Everyone',\n",
       "   '',\n",
       "   'February 11, 2018',\n",
       "   '1.0.19',\n",
       "   '4.0 and up'],\n",
       "  10472]]"
      ]
     },
     "execution_count": 12,
     "metadata": {},
     "output_type": "execute_result"
    }
   ],
   "source": [
    "# for row in ANDROID_DATA:\n",
    "#     if len(row) != len(ANDROID_COLS):\n",
    "#         print(row)\n",
    "#         print(f'The index is: {ANDROID_DATA.index(row)}')\n",
    "\n",
    "error_checker(ANDROID_DATA, ANDROID_COLS)"
   ]
  },
  {
   "cell_type": "markdown",
   "metadata": {},
   "source": [
    "#### Findings:\n",
    "* \"Genres\" is missing from index 10472 in the ANDROID_Data. I have decided to delete this row from the dataset, rather than augment it."
   ]
  },
  {
   "cell_type": "code",
   "execution_count": 13,
   "metadata": {},
   "outputs": [
    {
     "data": {
      "text/plain": [
       "['Life Made WI-Fi Touchscreen Photo Frame',\n",
       " '1.9',\n",
       " '19',\n",
       " '3.0M',\n",
       " '1,000+',\n",
       " 'Free',\n",
       " '0',\n",
       " 'Everyone',\n",
       " '',\n",
       " 'February 11, 2018',\n",
       " '1.0.19',\n",
       " '4.0 and up']"
      ]
     },
     "execution_count": 13,
     "metadata": {},
     "output_type": "execute_result"
    }
   ],
   "source": [
    "ANDROID_DATA[10472]"
   ]
  },
  {
   "cell_type": "code",
   "execution_count": 14,
   "metadata": {},
   "outputs": [],
   "source": [
    "del(ANDROID_DATA[10472])"
   ]
  },
  {
   "cell_type": "code",
   "execution_count": 15,
   "metadata": {},
   "outputs": [
    {
     "name": "stdout",
     "output_type": "stream",
     "text": [
      "0 length inconsistencies in this dataset\n"
     ]
    }
   ],
   "source": [
    "android_errors = error_checker(ANDROID_DATA, ANDROID_COLS)"
   ]
  },
  {
   "cell_type": "code",
   "execution_count": 16,
   "metadata": {},
   "outputs": [
    {
     "name": "stdout",
     "output_type": "stream",
     "text": [
      "0 length inconsistencies in this dataset\n"
     ]
    }
   ],
   "source": [
    "ios_errors = error_checker(IOS_DATA, IOS_COLS)"
   ]
  },
  {
   "cell_type": "markdown",
   "metadata": {},
   "source": [
    "### Check for Redundant Apps"
   ]
  },
  {
   "cell_type": "code",
   "execution_count": 17,
   "metadata": {},
   "outputs": [],
   "source": [
    "def find_duplicates(dataset, attr_idx):\n",
    "    \"\"\"Checks a dataset list for multiple occurrences of a row\n",
    "    \n",
    "    Parameters:\n",
    "        - dataset: (list) Dataset, excluding headers\n",
    "        - attr_idx (int) Index of the data attribute\n",
    "        \n",
    "    Returns:\n",
    "        - num_duplicates (int): Number of duplicate entries within the dataset.\n",
    "        - duplicate_apps (list): List of duplicate apps\n",
    "    \n",
    "    \"\"\"\n",
    "    duplicate_apps = []\n",
    "    unique_apps = []\n",
    "    \n",
    "    for row in dataset:\n",
    "        name = row[0]\n",
    "        if name in unique_apps:\n",
    "            duplicate_apps.append(name)\n",
    "        else:\n",
    "            unique_apps.append(name)\n",
    "    \n",
    "    num_duplicates = len(duplicate_apps)\n",
    "    print(f'{num_duplicates} duplicates found')\n",
    "    \n",
    "    return num_duplicates, duplicate_apps"
   ]
  },
  {
   "cell_type": "markdown",
   "metadata": {},
   "source": []
  },
  {
   "cell_type": "code",
   "execution_count": 18,
   "metadata": {},
   "outputs": [
    {
     "name": "stdout",
     "output_type": "stream",
     "text": [
      "1181 duplicates found\n"
     ]
    }
   ],
   "source": [
    "android_num_duplicates, android_duplicates = find_duplicates(ANDROID_DATA, 0)"
   ]
  },
  {
   "cell_type": "code",
   "execution_count": 19,
   "metadata": {},
   "outputs": [
    {
     "name": "stdout",
     "output_type": "stream",
     "text": [
      "0 duplicates found\n"
     ]
    }
   ],
   "source": [
    "ios_num_duplicates, ios_duplicates = find_duplicates(IOS_DATA, 0)"
   ]
  },
  {
   "cell_type": "markdown",
   "metadata": {},
   "source": [
    "As shown above, the `ANDROID_DATA` has 1181 duplicates, while the `IOS_DATA` has none. \n",
    "\n",
    "Within these duplicates, all fields are the same except for the number of reviews (index 3). My strategy will be to keep the entry with the highest number of reviews, discarding the others. This should be reasonable, as the remaining entry will be the most frequently-updated representation of the app."
   ]
  },
  {
   "cell_type": "code",
   "execution_count": 20,
   "metadata": {
    "scrolled": true
   },
   "outputs": [
    {
     "name": "stdout",
     "output_type": "stream",
     "text": [
      "0\n"
     ]
    }
   ],
   "source": [
    "print(ios_num_duplicates)"
   ]
  },
  {
   "cell_type": "markdown",
   "metadata": {},
   "source": [
    "### Remove Duplicate Android Entries"
   ]
  },
  {
   "cell_type": "markdown",
   "metadata": {},
   "source": [
    "Verify the target length of a unique dictionary for ANDROID_DATA:"
   ]
  },
  {
   "cell_type": "code",
   "execution_count": 21,
   "metadata": {},
   "outputs": [
    {
     "name": "stdout",
     "output_type": "stream",
     "text": [
      "Number of apps: 9659\n"
     ]
    }
   ],
   "source": [
    "print('Number of apps:', len(ANDROID_DATA) - 1181)"
   ]
  },
  {
   "cell_type": "markdown",
   "metadata": {},
   "source": [
    "**Target length is 9659**"
   ]
  },
  {
   "cell_type": "code",
   "execution_count": 22,
   "metadata": {
    "scrolled": false
   },
   "outputs": [
    {
     "name": "stdout",
     "output_type": "stream",
     "text": [
      "[(0, 'App'), (1, 'Category'), (2, 'Rating'), (3, 'Reviews'), (4, 'Size'), (5, 'Installs'), (6, 'Type'), (7, 'Price'), (8, 'Content Rating'), (9, 'Genres'), (10, 'Last Updated'), (11, 'Current Ver'), (12, 'Android Ver')]\n"
     ]
    }
   ],
   "source": [
    "# Explore index/columns within ANDROID_DATA:\n",
    "print(list(enumerate(ANDROID_COLS)))"
   ]
  },
  {
   "cell_type": "markdown",
   "metadata": {},
   "source": [
    "I will now: \n",
    "* Create a blank dictionary, `reviews_max`\n",
    "* Iterate through ANDROID_DATA, assigning variables for `name` and `n_reviews`\n",
    "* If the app is already included in `reviews_max` and the number of reviews is greater than the existing value, the `n_reviews` value is increased accordingly.\n",
    "* If the app is **not** already in `reviews_max`, it is added with the corresponding `n_reviews` value.\n",
    "*Note: If the app is already included in the dictionary but it has a lower n_reviews value, it is ignored. The goal is to populate the dictionary with each app having the most reviews."
   ]
  },
  {
   "cell_type": "code",
   "execution_count": 23,
   "metadata": {},
   "outputs": [],
   "source": [
    "reviews_max = dict()\n",
    "for app in ANDROID_DATA:\n",
    "    name = app[0]\n",
    "    n_reviews = float(app[3])\n",
    "    \n",
    "    if name in reviews_max and n_reviews > reviews_max[name]:\n",
    "        reviews_max[name] = n_reviews\n",
    "    if name not in reviews_max:   # \"else\" statement wouldn't account for existing entries with HIGHER reviews\n",
    "        reviews_max[name] = n_reviews"
   ]
  },
  {
   "cell_type": "code",
   "execution_count": 24,
   "metadata": {},
   "outputs": [
    {
     "data": {
      "text/plain": [
       "9659"
      ]
     },
     "execution_count": 24,
     "metadata": {},
     "output_type": "execute_result"
    }
   ],
   "source": [
    "len(reviews_max)"
   ]
  },
  {
   "cell_type": "markdown",
   "metadata": {},
   "source": [
    "### Remove Non-English Apps"
   ]
  },
  {
   "cell_type": "markdown",
   "metadata": {},
   "source": [
    "Our goal is to only analyize free, *english* applications.\n",
    "\n",
    "The numbers corresponding to the characters we commonly use in an English text are all in the range 0 to 127, according to the ASCII (American Standard Code for Information Interchange) system. Based on this number range, we can build a function that detects whether a character belongs to the set of common English characters or not. If the number is equal to or less than 127, then the character belongs to the set of common English characters."
   ]
  },
  {
   "cell_type": "markdown",
   "metadata": {},
   "source": [
    "#### ord(str) and chr(int)"
   ]
  },
  {
   "cell_type": "code",
   "execution_count": 25,
   "metadata": {},
   "outputs": [
    {
     "data": {
      "text/plain": [
       "97"
      ]
     },
     "execution_count": 25,
     "metadata": {},
     "output_type": "execute_result"
    }
   ],
   "source": [
    "ord('a')"
   ]
  },
  {
   "cell_type": "code",
   "execution_count": 26,
   "metadata": {},
   "outputs": [
    {
     "data": {
      "text/plain": [
       "'Ǳ'"
      ]
     },
     "execution_count": 26,
     "metadata": {},
     "output_type": "execute_result"
    }
   ],
   "source": [
    "chr(497)"
   ]
  },
  {
   "cell_type": "markdown",
   "metadata": {},
   "source": [
    "#### Create a function to detect non-english characters"
   ]
  },
  {
   "cell_type": "code",
   "execution_count": 27,
   "metadata": {},
   "outputs": [],
   "source": [
    "def is_english(string):\n",
    "    for c in string:\n",
    "        if ord(c) > 127:\n",
    "            return False\n",
    "    return True"
   ]
  },
  {
   "cell_type": "markdown",
   "metadata": {},
   "source": [
    "Test function:"
   ]
  },
  {
   "cell_type": "code",
   "execution_count": 28,
   "metadata": {},
   "outputs": [],
   "source": [
    "test_1 = '爱奇艺PPS -《欢乐颂2》电视剧热播'\n",
    "test_2 = 'Docs To Go™ Free Office Suite'\n",
    "test_3 = 'Instachat 😜'\n",
    "test_4 = 'Instagram'"
   ]
  },
  {
   "cell_type": "code",
   "execution_count": 29,
   "metadata": {},
   "outputs": [
    {
     "name": "stdout",
     "output_type": "stream",
     "text": [
      "False\n",
      "False\n",
      "False\n",
      "True\n"
     ]
    }
   ],
   "source": [
    "test_list = [test_1, test_2, test_3, test_4]\n",
    "\n",
    "for test in test_list:\n",
    "    print(is_english(test))"
   ]
  },
  {
   "cell_type": "markdown",
   "metadata": {},
   "source": [
    "To minimize the impact of data loss, we'll only remove an app if its name has more than three characters outside of ASCII range 0-127"
   ]
  },
  {
   "cell_type": "markdown",
   "metadata": {},
   "source": [
    "#### Redefine `is_english` to Filter Only Strings with More Than Three Abnormal ASCII Characters"
   ]
  },
  {
   "cell_type": "code",
   "execution_count": 30,
   "metadata": {},
   "outputs": [],
   "source": [
    "def is_english(string):\n",
    "    num_abnormal_ascii = 0\n",
    "    for c in string:\n",
    "        if ord(c) > 127:\n",
    "            num_abnormal_ascii += 1\n",
    "    return False if num_abnormal_ascii > 3 else True"
   ]
  },
  {
   "cell_type": "code",
   "execution_count": 31,
   "metadata": {},
   "outputs": [
    {
     "data": {
      "text/plain": [
       "True"
      ]
     },
     "execution_count": 31,
     "metadata": {},
     "output_type": "execute_result"
    }
   ],
   "source": [
    "is_english('Docs To Go™ Free Office Suite')"
   ]
  },
  {
   "cell_type": "code",
   "execution_count": 32,
   "metadata": {},
   "outputs": [
    {
     "data": {
      "text/plain": [
       "True"
      ]
     },
     "execution_count": 32,
     "metadata": {},
     "output_type": "execute_result"
    }
   ],
   "source": [
    "is_english('Instachat 😜😜')"
   ]
  },
  {
   "cell_type": "code",
   "execution_count": 33,
   "metadata": {},
   "outputs": [
    {
     "data": {
      "text/plain": [
       "False"
      ]
     },
     "execution_count": 33,
     "metadata": {},
     "output_type": "execute_result"
    }
   ],
   "source": [
    "is_english('爱奇艺PPS -《欢乐颂2》电视剧热播')"
   ]
  },
  {
   "cell_type": "markdown",
   "metadata": {},
   "source": [
    "As a reminder, the current datasets that we are working with are as follows:\n",
    "* `ANDROID_DATA` and `ANDROID_COLS`\n",
    "* `IOS_DATA` and `IOS_COLS`\n",
    "\n",
    "Now, let's use our new `is_english` function to filter non-english apps."
   ]
  }
 ],
 "metadata": {
  "kernelspec": {
   "display_name": "Python 3",
   "language": "python",
   "name": "python3"
  },
  "language_info": {
   "codemirror_mode": {
    "name": "ipython",
    "version": 3
   },
   "file_extension": ".py",
   "mimetype": "text/x-python",
   "name": "python",
   "nbconvert_exporter": "python",
   "pygments_lexer": "ipython3",
   "version": "3.8.5"
  }
 },
 "nbformat": 4,
 "nbformat_minor": 4
}
