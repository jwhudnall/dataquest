{
 "cells": [
  {
   "cell_type": "markdown",
   "metadata": {},
   "source": [
    "# Intermediate Python"
   ]
  },
  {
   "cell_type": "code",
   "execution_count": 1,
   "metadata": {},
   "outputs": [],
   "source": [
    "from csv import reader\n",
    "\n",
    "file = 'Data/artworks.csv'\n",
    "open_file = open(file, encoding='utf-8')\n",
    "read_file = reader(open_file)\n",
    "art = list(read_file)\n",
    "open_file.close()"
   ]
  },
  {
   "cell_type": "code",
   "execution_count": 2,
   "metadata": {},
   "outputs": [
    {
     "data": {
      "text/plain": [
       "16726"
      ]
     },
     "execution_count": 2,
     "metadata": {},
     "output_type": "execute_result"
    }
   ],
   "source": [
    "len(art)"
   ]
  },
  {
   "cell_type": "code",
   "execution_count": 3,
   "metadata": {},
   "outputs": [],
   "source": [
    "headers = art[0]\n",
    "moma = art[1:]"
   ]
  },
  {
   "cell_type": "code",
   "execution_count": 4,
   "metadata": {},
   "outputs": [
    {
     "data": {
      "text/plain": [
       "['Title',\n",
       " 'Artist',\n",
       " 'Nationality',\n",
       " 'BeginDate',\n",
       " 'EndDate',\n",
       " 'Gender',\n",
       " 'Date',\n",
       " 'Department']"
      ]
     },
     "execution_count": 4,
     "metadata": {},
     "output_type": "execute_result"
    }
   ],
   "source": [
    "headers"
   ]
  },
  {
   "cell_type": "markdown",
   "metadata": {},
   "source": [
    "## Data Description\n",
    "* Title: The title of the artwork.\n",
    "* Artist: The name of the artist who created the artwork.\n",
    "* Nationality: The nationality of the artist.\n",
    "* BeginDate: The year in which the artist was born.\n",
    "* EndDate: The year in which the artist died.\n",
    "* Gender: The gender of the artist.\n",
    "* Date: The date that the artwork was created.\n",
    "* Department: The department inside MoMA to which the artwork belongs."
   ]
  },
  {
   "cell_type": "markdown",
   "metadata": {},
   "source": [
    "### Using String Replacement\n",
    "Remove '(' and ')' from the gender and nationality columns"
   ]
  },
  {
   "cell_type": "code",
   "execution_count": 5,
   "metadata": {},
   "outputs": [
    {
     "data": {
      "text/plain": [
       "['Dress MacLeod from Tartan Sets',\n",
       " 'Sarah Charlesworth',\n",
       " '(American)',\n",
       " '(1947)',\n",
       " '(2013)',\n",
       " '(Female)',\n",
       " '1986',\n",
       " 'Prints & Illustrated Books']"
      ]
     },
     "execution_count": 5,
     "metadata": {},
     "output_type": "execute_result"
    }
   ],
   "source": [
    "moma[0]"
   ]
  },
  {
   "cell_type": "code",
   "execution_count": 6,
   "metadata": {},
   "outputs": [],
   "source": [
    "for row in moma:\n",
    "    nationality = row[2]\n",
    "    nationality = nationality.replace('(','')\n",
    "    nationality = nationality.replace(')','')\n",
    "    row[2] = nationality\n",
    "    \n",
    "    gender = row[5]\n",
    "    gender = gender.replace('(','')\n",
    "    gender = gender.replace(')','')\n",
    "    row[5] = gender"
   ]
  },
  {
   "cell_type": "code",
   "execution_count": 7,
   "metadata": {},
   "outputs": [
    {
     "data": {
      "text/plain": [
       "['Dress MacLeod from Tartan Sets',\n",
       " 'Sarah Charlesworth',\n",
       " 'American',\n",
       " '(1947)',\n",
       " '(2013)',\n",
       " 'Female',\n",
       " '1986',\n",
       " 'Prints & Illustrated Books']"
      ]
     },
     "execution_count": 7,
     "metadata": {},
     "output_type": "execute_result"
    }
   ],
   "source": [
    "moma[0]"
   ]
  },
  {
   "cell_type": "markdown",
   "metadata": {},
   "source": [
    "### Data Cleaning"
   ]
  },
  {
   "cell_type": "code",
   "execution_count": 8,
   "metadata": {},
   "outputs": [],
   "source": [
    "for row in moma:\n",
    "    # Clean/standardize gender\n",
    "    gender = row[5]\n",
    "    gender = gender.title()\n",
    "    if not gender:\n",
    "        gender = 'Gender Unknown/Other'\n",
    "    row[5] = gender \n",
    "    \n",
    "    # Clean/standardize nationality\n",
    "    nationality = row[2]\n",
    "    nationality = nationality.title()\n",
    "    if not nationality:\n",
    "        nationality = 'Nationality Unknown'\n",
    "    row[2] = nationality "
   ]
  },
  {
   "cell_type": "code",
   "execution_count": 9,
   "metadata": {},
   "outputs": [
    {
     "data": {
      "text/plain": [
       "['Dress MacLeod from Tartan Sets',\n",
       " 'Sarah Charlesworth',\n",
       " 'American',\n",
       " '(1947)',\n",
       " '(2013)',\n",
       " 'Female',\n",
       " '1986',\n",
       " 'Prints & Illustrated Books']"
      ]
     },
     "execution_count": 9,
     "metadata": {},
     "output_type": "execute_result"
    }
   ],
   "source": [
    "moma[0]"
   ]
  },
  {
   "cell_type": "markdown",
   "metadata": {},
   "source": [
    "### Clean and Convert Start/End Dates (Artist's birthdate and deathdate)"
   ]
  },
  {
   "cell_type": "code",
   "execution_count": 10,
   "metadata": {},
   "outputs": [],
   "source": [
    "def clean_and_convert(date):\n",
    "    # check that we don't have an empty string\n",
    "    if date != \"\":\n",
    "        # move the rest of the function inside\n",
    "        # the if statement\n",
    "        date = date.replace(\"(\", \"\")\n",
    "        date = date.replace(\")\", \"\")\n",
    "        date = int(date)\n",
    "    return date\n",
    "\n",
    "for row in moma:\n",
    "    BeginDate = row[3]\n",
    "    EndDate = row[4]\n",
    "    clean_BeginDate = clean_and_convert(BeginDate)\n",
    "    clean_EndDate = clean_and_convert(EndDate)\n",
    "    row[3] = clean_BeginDate\n",
    "    row[4] = clean_EndDate"
   ]
  },
  {
   "cell_type": "markdown",
   "metadata": {},
   "source": [
    "### Cleaning the \"Date\" Column\n",
    "Example Data:\n",
    "* 1912\n",
    "* 1929\n",
    "* 1913-1923\n",
    "* (1951)\n",
    "* 1994\n",
    "* 1934\n",
    "* c. 1915\n",
    "* 1995\n",
    "* c. 1912\n",
    "* (1988)\n",
    "* 2002\n",
    "* 1957-1959\n",
    "* c. 1955.\n",
    "* c. 1970's\n",
    "* C. 1990-1999"
   ]
  },
  {
   "cell_type": "markdown",
   "metadata": {},
   "source": [
    "#### Prototyping"
   ]
  },
  {
   "cell_type": "code",
   "execution_count": 11,
   "metadata": {},
   "outputs": [],
   "source": [
    "strings = [\"good!\", \"morn?ing\", \"good?!\", \"morniZZZZng\"]\n",
    "bad_chars = [\"!\", \"?\", \"Z\"]"
   ]
  },
  {
   "cell_type": "code",
   "execution_count": 12,
   "metadata": {},
   "outputs": [],
   "source": [
    "def strip_chars(string):\n",
    "    for char in bad_chars:\n",
    "        string = string.replace(char, \"\")\n",
    "    return string"
   ]
  },
  {
   "cell_type": "code",
   "execution_count": 13,
   "metadata": {},
   "outputs": [],
   "source": [
    "cleaned_strings = []\n",
    "for string in strings:\n",
    "    string = strip_chars(string)\n",
    "    cleaned_strings.append(string)"
   ]
  },
  {
   "cell_type": "code",
   "execution_count": 14,
   "metadata": {},
   "outputs": [
    {
     "data": {
      "text/plain": [
       "['good', 'morning', 'good', 'morning']"
      ]
     },
     "execution_count": 14,
     "metadata": {},
     "output_type": "execute_result"
    }
   ],
   "source": [
    "cleaned_strings"
   ]
  },
  {
   "cell_type": "markdown",
   "metadata": {},
   "source": [
    "#### Application for `Date` Column"
   ]
  },
  {
   "cell_type": "code",
   "execution_count": 15,
   "metadata": {},
   "outputs": [
    {
     "name": "stdout",
     "output_type": "stream",
     "text": [
      "['1912', '1929', '1913-1923', '1951', '1994', '1934', '1915', '1995', '1912', '1988', '2002', '1957-1959', '1955', '1970', '1990-1999']\n"
     ]
    }
   ],
   "source": [
    "test_data = [\"1912\", \"1929\", \"1913-1923\",\n",
    "             \"(1951)\", \"1994\", \"1934\",\n",
    "             \"c. 1915\", \"1995\", \"c. 1912\",\n",
    "             \"(1988)\", \"2002\", \"1957-1959\",\n",
    "             \"c. 1955.\", \"c. 1970's\", \n",
    "             \"C. 1990-1999\"]\n",
    "\n",
    "bad_chars = [\"(\",\")\",\"c\",\"C\",\".\",\"s\",\"'\", \" \"]\n",
    "\n",
    "def strip_characters(string):\n",
    "    for char in bad_chars:\n",
    "        string = string.replace(char, '')\n",
    "    return string\n",
    "\n",
    "stripped_test_data = []\n",
    "\n",
    "for date in test_data:\n",
    "    clean_date = strip_characters(date)\n",
    "    stripped_test_data.append(clean_date)\n",
    "\n",
    "print(stripped_test_data)"
   ]
  },
  {
   "cell_type": "markdown",
   "metadata": {},
   "source": [
    "### Further `Date` Cleaning\n",
    "There are still some year ranges. Since we're dealing with artists' age, being exact isn't necessarily integral to our analysis. Here's how we'll proceed:\n",
    "* Where there is a single year, we'll keep it.\n",
    "* Where there is a year range, we'll average the two years."
   ]
  },
  {
   "cell_type": "code",
   "execution_count": 16,
   "metadata": {},
   "outputs": [],
   "source": [
    "def process_date(string):\n",
    "    if '-' in string:\n",
    "        split_string = string.split('-')\n",
    "        date1 = int(split_string[0])\n",
    "        date2 = int(split_string[1])\n",
    "        avg = (date1 + date2) / 2\n",
    "        rounded_avg = round(avg)\n",
    "        return rounded_avg\n",
    "    return int(string)"
   ]
  },
  {
   "cell_type": "code",
   "execution_count": 17,
   "metadata": {},
   "outputs": [
    {
     "data": {
      "text/plain": [
       "1990"
      ]
     },
     "execution_count": 17,
     "metadata": {},
     "output_type": "execute_result"
    }
   ],
   "source": [
    "test_range = '1990'\n",
    "process_date(test_range)"
   ]
  },
  {
   "cell_type": "code",
   "execution_count": 18,
   "metadata": {},
   "outputs": [],
   "source": [
    "processed_test_data = []\n",
    "\n",
    "for year in stripped_test_data:\n",
    "    processed_year = process_date(year)\n",
    "    processed_test_data.append(processed_year)"
   ]
  },
  {
   "cell_type": "code",
   "execution_count": 19,
   "metadata": {},
   "outputs": [
    {
     "data": {
      "text/plain": [
       "15"
      ]
     },
     "execution_count": 19,
     "metadata": {},
     "output_type": "execute_result"
    }
   ],
   "source": [
    "len(processed_test_data)"
   ]
  },
  {
   "cell_type": "code",
   "execution_count": 20,
   "metadata": {
    "scrolled": false
   },
   "outputs": [
    {
     "name": "stdout",
     "output_type": "stream",
     "text": [
      "['1912', '1929', '1913-1923', '1951', '1994', '1934', '1915', '1995', '1912', '1988', '2002', '1957-1959', '1955', '1970', '1990-1999']\n"
     ]
    }
   ],
   "source": [
    "print(stripped_test_data)"
   ]
  },
  {
   "cell_type": "markdown",
   "metadata": {},
   "source": [
    "### Use New Processing Function on Moma Dataset"
   ]
  },
  {
   "cell_type": "code",
   "execution_count": 21,
   "metadata": {},
   "outputs": [
    {
     "name": "stdout",
     "output_type": "stream",
     "text": [
      "[(0, 'Title'), (1, 'Artist'), (2, 'Nationality'), (3, 'BeginDate'), (4, 'EndDate'), (5, 'Gender'), (6, 'Date'), (7, 'Department')]\n"
     ]
    }
   ],
   "source": [
    "print(list(enumerate(headers)))"
   ]
  },
  {
   "cell_type": "code",
   "execution_count": 22,
   "metadata": {},
   "outputs": [],
   "source": [
    "for record in moma:\n",
    "    date = record[6]\n",
    "    stripped_date = strip_characters(date)\n",
    "    processed_date = process_date(stripped_date)\n",
    "    record[6] = processed_date"
   ]
  },
  {
   "cell_type": "code",
   "execution_count": 23,
   "metadata": {
    "scrolled": true
   },
   "outputs": [
    {
     "name": "stdout",
     "output_type": "stream",
     "text": [
      "1986\n",
      "1978\n",
      "1900\n",
      "1934\n",
      "1903\n",
      "1957\n",
      "1924\n",
      "1980\n",
      "2001\n",
      "1941\n",
      "1950\n",
      "1963\n",
      "1910\n",
      "1934\n",
      "1997\n"
     ]
    }
   ],
   "source": [
    "# Quick verification\n",
    "for record in moma[:15]:\n",
    "    print(record[6])"
   ]
  },
  {
   "cell_type": "markdown",
   "metadata": {},
   "source": [
    "### Formatting Strings"
   ]
  },
  {
   "cell_type": "markdown",
   "metadata": {},
   "source": [
    "#### `str.format()` Method"
   ]
  },
  {
   "cell_type": "code",
   "execution_count": 24,
   "metadata": {},
   "outputs": [
    {
     "name": "stdout",
     "output_type": "stream",
     "text": [
      "Pablo Picasso's birth year is 1881\n"
     ]
    }
   ],
   "source": [
    "artist = \"Pablo Picasso\"\n",
    "birth_year = 1881\n",
    "\n",
    "template = \"{}'s birth year is {}\".format(artist, birth_year)\n",
    "print(template)"
   ]
  },
  {
   "cell_type": "markdown",
   "metadata": {},
   "source": [
    "### Use `str.format()` to Loop Through a List"
   ]
  },
  {
   "cell_type": "code",
   "execution_count": 25,
   "metadata": {},
   "outputs": [
    {
     "name": "stdout",
     "output_type": "stream",
     "text": [
      "The population of China is 1,379.30 million\n",
      "The population of India is 1,281.94 million\n",
      "The population of USA is 326.63 million\n",
      "The population of Indonesia is 260.58 million\n",
      "The population of Brazil is 207.35 million\n"
     ]
    }
   ],
   "source": [
    "pop_millions = [\n",
    "    [\"China\", 1379.302771],\n",
    "    [\"India\", 1281.935991],\n",
    "    [\"USA\",  326.625791],\n",
    "    [\"Indonesia\",  260.580739],\n",
    "    [\"Brazil\",  207.353391],\n",
    "]\n",
    "\n",
    "template = 'The population of {} is {:,.2f} million'\n",
    "\n",
    "for country in pop_millions:\n",
    "    name = country[0]\n",
    "    population = country[1]\n",
    "    output = template.format(name, population)\n",
    "    print(output)"
   ]
  },
  {
   "cell_type": "markdown",
   "metadata": {},
   "source": [
    "## Object-Oriented Python"
   ]
  },
  {
   "cell_type": "markdown",
   "metadata": {},
   "source": [
    "### Classes\n",
    "#### Revisiting the `type()` Function"
   ]
  },
  {
   "cell_type": "code",
   "execution_count": 26,
   "metadata": {},
   "outputs": [
    {
     "name": "stdout",
     "output_type": "stream",
     "text": [
      "<class 'list'>\n",
      "<class 'str'>\n",
      "<class 'dict'>\n",
      "<class 'set'>\n"
     ]
    }
   ],
   "source": [
    "l = [1, 2, 3]\n",
    "s = \"string\"\n",
    "d = {\"a\": 1, \"b\": 2}\n",
    "my_set = {2, 3, 5}\n",
    "\n",
    "print(type(l))\n",
    "print(type(s))\n",
    "print(type(d))\n",
    "print(type(my_set))"
   ]
  },
  {
   "cell_type": "markdown",
   "metadata": {},
   "source": [
    "#### Sets"
   ]
  },
  {
   "cell_type": "code",
   "execution_count": 27,
   "metadata": {},
   "outputs": [
    {
     "name": "stdout",
     "output_type": "stream",
     "text": [
      "{0, 1, 2, 3}\n",
      "{0, 1, 2, 3}\n",
      "order_1 is equal to order_2: True\n"
     ]
    }
   ],
   "source": [
    "order_1 = {0, 2, 3, 1}\n",
    "order_2 = {1, 3, 2, 0}\n",
    "\n",
    "print(order_1, order_2, sep=\"\\n\")\n",
    "print(\"order_1 is equal to order_2: {ans}\".format(ans=order_1==order_2))"
   ]
  },
  {
   "cell_type": "code",
   "execution_count": 28,
   "metadata": {},
   "outputs": [
    {
     "name": "stdout",
     "output_type": "stream",
     "text": [
      "{17}\n"
     ]
    }
   ],
   "source": [
    "even = set()\n",
    "even.add(17)\n",
    "print(even)"
   ]
  },
  {
   "cell_type": "code",
   "execution_count": 29,
   "metadata": {},
   "outputs": [
    {
     "name": "stdout",
     "output_type": "stream",
     "text": [
      "{1, 3, 15}\n"
     ]
    }
   ],
   "source": [
    "tri_num_sequence = [1, 3, 6, 10, 15, 10, 6, 3, 1]\n",
    "odd_numbers = [1, 3, 5, 7, 9, 11, 13, 15, 17, 19]\n",
    "\n",
    "# Create a set whose elements are those of tri_num_sequence. Assign it to trinum_5.\n",
    "trinum_5 = set(tri_num_sequence)\n",
    "\n",
    "# Create a set whose elements are the positive odd numbers smaller than 20. Assign it to odd_20.\n",
    "# odd_20 = {num for num in range(0,20) if num % 2 != 0}\n",
    "odd_20 = set(odd_numbers)\n",
    "\n",
    "# Create a set whose elements are the odd numbers in trinum_5. Assign it to odd_trinum.\n",
    "odd_trinum = trinum_5.intersection(odd_20)\n",
    "\n",
    "print(odd_trinum)"
   ]
  },
  {
   "cell_type": "markdown",
   "metadata": {},
   "source": [
    "### Classes and Methods"
   ]
  },
  {
   "cell_type": "code",
   "execution_count": 30,
   "metadata": {},
   "outputs": [],
   "source": [
    "class NewList():\n",
    "    def first_method():\n",
    "        print('This is my first method')\n",
    "\n",
    "newlist = NewList()"
   ]
  },
  {
   "cell_type": "code",
   "execution_count": 31,
   "metadata": {},
   "outputs": [
    {
     "ename": "TypeError",
     "evalue": "first_method() takes 0 positional arguments but 1 was given",
     "output_type": "error",
     "traceback": [
      "\u001b[1;31m---------------------------------------------------------------------------\u001b[0m",
      "\u001b[1;31mTypeError\u001b[0m                                 Traceback (most recent call last)",
      "\u001b[1;32m<ipython-input-31-696d058b84c9>\u001b[0m in \u001b[0;36m<module>\u001b[1;34m\u001b[0m\n\u001b[1;32m----> 1\u001b[1;33m \u001b[0mnewlist\u001b[0m\u001b[1;33m.\u001b[0m\u001b[0mfirst_method\u001b[0m\u001b[1;33m(\u001b[0m\u001b[1;33m)\u001b[0m\u001b[1;33m\u001b[0m\u001b[1;33m\u001b[0m\u001b[0m\n\u001b[0m",
      "\u001b[1;31mTypeError\u001b[0m: first_method() takes 0 positional arguments but 1 was given"
     ]
    }
   ],
   "source": [
    "newlist.first_method()"
   ]
  },
  {
   "cell_type": "markdown",
   "metadata": {},
   "source": [
    "**What is causing this error?**"
   ]
  },
  {
   "cell_type": "code",
   "execution_count": null,
   "metadata": {},
   "outputs": [],
   "source": [
    "s = \"MY STRING\"\n",
    "\n",
    "result = str.title(s)\n",
    "print(result)"
   ]
  },
  {
   "cell_type": "markdown",
   "metadata": {},
   "source": [
    "So, `instance.Method_Name` == `Class_Name.Method_Name(instance)`"
   ]
  },
  {
   "cell_type": "code",
   "execution_count": null,
   "metadata": {},
   "outputs": [],
   "source": [
    "class MyClass():\n",
    "    def print_self(self):\n",
    "        print(self)\n",
    "        \n",
    "mc = MyClass()"
   ]
  },
  {
   "cell_type": "code",
   "execution_count": null,
   "metadata": {},
   "outputs": [],
   "source": [
    "print(mc)"
   ]
  },
  {
   "cell_type": "code",
   "execution_count": null,
   "metadata": {},
   "outputs": [],
   "source": [
    "mc.print_self()"
   ]
  },
  {
   "cell_type": "markdown",
   "metadata": {},
   "source": [
    "The same output was displayed both when we printed the object using the syntax print(mc) and when we printed the object inside the method using print_self() — which proves that this \"phantom\" argument is the object itself"
   ]
  },
  {
   "cell_type": "code",
   "execution_count": null,
   "metadata": {},
   "outputs": [],
   "source": [
    "class NewList():\n",
    "    def first_method(self):\n",
    "        return \"This is my first method\"\n",
    "    \n",
    "newlist = NewList()\n",
    "result = newlist.first_method()\n",
    "\n",
    "print(result)"
   ]
  },
  {
   "cell_type": "code",
   "execution_count": null,
   "metadata": {},
   "outputs": [],
   "source": [
    "class NewList():\n",
    "    def return_list(self, input_list):\n",
    "        return input_list\n",
    "    \n",
    "newlist = NewList()\n",
    "\n",
    "result = newlist.return_list([1,2,3])\n",
    "\n",
    "print(result)"
   ]
  },
  {
   "cell_type": "code",
   "execution_count": null,
   "metadata": {},
   "outputs": [],
   "source": [
    "class NewList():\n",
    "    def __init__(self, initial_state):\n",
    "        # Attribute assignment 'data':\n",
    "        self.data = initial_state\n",
    "    def append(self, arg):\n",
    "        \n",
    "        \n",
    "my_list = NewList([1,2,3,4,5])\n",
    "\n",
    "print(my_list.data)"
   ]
  },
  {
   "cell_type": "markdown",
   "metadata": {},
   "source": [
    "**Creating Our Own `append()` method:**"
   ]
  },
  {
   "cell_type": "code",
   "execution_count": null,
   "metadata": {},
   "outputs": [],
   "source": [
    "class NewList():\n",
    "    \"\"\"\n",
    "    A Python list with some extras!\n",
    "    \"\"\"\n",
    "    def __init__(self, initial_state):\n",
    "        self.data = initial_state\n",
    "        \n",
    "    def append(self, arg):\n",
    "        self.data += [arg]\n",
    "        \n",
    "my_list = NewList([1,2,3,4,5])\n",
    "print(my_list.data)\n",
    "\n",
    "my_list.append(6)\n",
    "print(my_list.data)"
   ]
  },
  {
   "cell_type": "markdown",
   "metadata": {},
   "source": [
    "**Creating Helper Methods**"
   ]
  },
  {
   "cell_type": "code",
   "execution_count": null,
   "metadata": {},
   "outputs": [],
   "source": [
    "class NewList():\n",
    "    \"\"\"\n",
    "    A Python list with some extras!\n",
    "    \"\"\"\n",
    "    def __init__(self, initial_state):\n",
    "        self.data = initial_state\n",
    "        self.calc_length()\n",
    "    \n",
    "    def append(self, new_item):\n",
    "        \"\"\"\n",
    "        Append `new_item` to the NewList\n",
    "        \"\"\"\n",
    "        self.data = self.data + [new_item]\n",
    "        self.calc_length()\n",
    "        \n",
    "    def calc_length(self):\n",
    "        length = 0\n",
    "        for item in self.data:\n",
    "            length += 1\n",
    "        self.length = length\n",
    "        \n",
    "fibonacci = NewList([1, 1, 2, 3, 5])\n",
    "\n",
    "print(fibonacci.length)\n",
    "\n",
    "fibonacci.append(8)\n",
    "print(fibonacci.length)"
   ]
  },
  {
   "cell_type": "markdown",
   "metadata": {},
   "source": [
    "### Business Application - Propeller"
   ]
  },
  {
   "cell_type": "code",
   "execution_count": 41,
   "metadata": {},
   "outputs": [],
   "source": [
    "class Propeller():\n",
    "    def __init__(self, diameter, pitch):\n",
    "        self.diameter = diameter\n",
    "        self.pitch = pitch\n",
    "        self.condition = 'Repaired'\n",
    "        self.location = 'Norfolk Yard'\n",
    "    \n",
    "    def damage(self):\n",
    "        self.condition = 'Damaged'"
   ]
  },
  {
   "cell_type": "code",
   "execution_count": 44,
   "metadata": {},
   "outputs": [],
   "source": [
    "wcp_201142 = Propeller(28, 30)"
   ]
  },
  {
   "cell_type": "code",
   "execution_count": 45,
   "metadata": {},
   "outputs": [
    {
     "data": {
      "text/plain": [
       "'Repaired'"
      ]
     },
     "execution_count": 45,
     "metadata": {},
     "output_type": "execute_result"
    }
   ],
   "source": [
    "wcp_201142.condition"
   ]
  },
  {
   "cell_type": "code",
   "execution_count": 46,
   "metadata": {},
   "outputs": [],
   "source": [
    "wcp_201142.damage()"
   ]
  },
  {
   "cell_type": "code",
   "execution_count": 47,
   "metadata": {},
   "outputs": [
    {
     "data": {
      "text/plain": [
       "'Damaged'"
      ]
     },
     "execution_count": 47,
     "metadata": {},
     "output_type": "execute_result"
    }
   ],
   "source": [
    "wcp_201142.condition"
   ]
  },
  {
   "cell_type": "code",
   "execution_count": null,
   "metadata": {},
   "outputs": [],
   "source": []
  }
 ],
 "metadata": {
  "kernelspec": {
   "display_name": "Python 3",
   "language": "python",
   "name": "python3"
  },
  "language_info": {
   "codemirror_mode": {
    "name": "ipython",
    "version": 3
   },
   "file_extension": ".py",
   "mimetype": "text/x-python",
   "name": "python",
   "nbconvert_exporter": "python",
   "pygments_lexer": "ipython3",
   "version": "3.8.5"
  }
 },
 "nbformat": 4,
 "nbformat_minor": 4
}
