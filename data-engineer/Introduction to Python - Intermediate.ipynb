{
 "cells": [
  {
   "cell_type": "markdown",
   "metadata": {},
   "source": [
    "# Intermediate Python"
   ]
  },
  {
   "cell_type": "code",
   "execution_count": 1,
   "metadata": {},
   "outputs": [],
   "source": [
    "from csv import reader\n",
    "\n",
    "file = 'Data/artworks.csv'\n",
    "open_file = open(file, encoding='utf-8')\n",
    "read_file = reader(open_file)\n",
    "art = list(read_file)\n",
    "open_file.close()"
   ]
  },
  {
   "cell_type": "code",
   "execution_count": 2,
   "metadata": {},
   "outputs": [
    {
     "data": {
      "text/plain": [
       "16726"
      ]
     },
     "execution_count": 2,
     "metadata": {},
     "output_type": "execute_result"
    }
   ],
   "source": [
    "len(art)"
   ]
  },
  {
   "cell_type": "code",
   "execution_count": 5,
   "metadata": {},
   "outputs": [],
   "source": [
    "headers = art[0]\n",
    "moma = art[1:]"
   ]
  },
  {
   "cell_type": "code",
   "execution_count": 6,
   "metadata": {},
   "outputs": [
    {
     "data": {
      "text/plain": [
       "['Dress MacLeod from Tartan Sets',\n",
       " 'Sarah Charlesworth',\n",
       " '(American)',\n",
       " '(1947)',\n",
       " '(2013)',\n",
       " '(Female)',\n",
       " '1986',\n",
       " 'Prints & Illustrated Books']"
      ]
     },
     "execution_count": 6,
     "metadata": {},
     "output_type": "execute_result"
    }
   ],
   "source": [
    "headers"
   ]
  },
  {
   "cell_type": "markdown",
   "metadata": {},
   "source": [
    "## Data Description\n",
    "* Title: The title of the artwork.\n",
    "* Artist: The name of the artist who created the artwork.\n",
    "* Nationality: The nationality of the artist.\n",
    "* BeginDate: The year in which the artist was born.\n",
    "* EndDate: The year in which the artist died.\n",
    "* Gender: The gender of the artist.\n",
    "* Date: The date that the artwork was created.\n",
    "* Department: The department inside MoMA to which the artwork belongs."
   ]
  },
  {
   "cell_type": "markdown",
   "metadata": {},
   "source": [
    "### Using String Replacement\n",
    "Remove '(' and ')' from the gender and nationality columns"
   ]
  },
  {
   "cell_type": "code",
   "execution_count": 7,
   "metadata": {},
   "outputs": [
    {
     "data": {
      "text/plain": [
       "['Duplicate of plate from folio 11 verso (supplementary suite, plate 4) from ARDICIA',\n",
       " 'Pablo Palazuelo',\n",
       " '(Spanish)',\n",
       " '(1916)',\n",
       " '(2007)',\n",
       " '(Male)',\n",
       " '1978',\n",
       " 'Prints & Illustrated Books']"
      ]
     },
     "execution_count": 7,
     "metadata": {},
     "output_type": "execute_result"
    }
   ],
   "source": [
    "moma[0]"
   ]
  },
  {
   "cell_type": "code",
   "execution_count": 8,
   "metadata": {},
   "outputs": [],
   "source": [
    "for row in moma:\n",
    "    nationality = row[2]\n",
    "    nationality = nationality.replace('(','')\n",
    "    nationality = nationality.replace(')','')\n",
    "    row[2] = nationality\n",
    "    \n",
    "    gender = row[5]\n",
    "    gender = gender.replace('(','')\n",
    "    gender = gender.replace(')','')\n",
    "    row[5] = gender"
   ]
  },
  {
   "cell_type": "code",
   "execution_count": 9,
   "metadata": {},
   "outputs": [
    {
     "data": {
      "text/plain": [
       "['Duplicate of plate from folio 11 verso (supplementary suite, plate 4) from ARDICIA',\n",
       " 'Pablo Palazuelo',\n",
       " 'Spanish',\n",
       " '(1916)',\n",
       " '(2007)',\n",
       " 'Male',\n",
       " '1978',\n",
       " 'Prints & Illustrated Books']"
      ]
     },
     "execution_count": 9,
     "metadata": {},
     "output_type": "execute_result"
    }
   ],
   "source": [
    "moma[0]"
   ]
  },
  {
   "cell_type": "code",
   "execution_count": null,
   "metadata": {},
   "outputs": [],
   "source": []
  }
 ],
 "metadata": {
  "kernelspec": {
   "display_name": "Python 3",
   "language": "python",
   "name": "python3"
  },
  "language_info": {
   "codemirror_mode": {
    "name": "ipython",
    "version": 3
   },
   "file_extension": ".py",
   "mimetype": "text/x-python",
   "name": "python",
   "nbconvert_exporter": "python",
   "pygments_lexer": "ipython3",
   "version": "3.8.5"
  }
 },
 "nbformat": 4,
 "nbformat_minor": 4
}
