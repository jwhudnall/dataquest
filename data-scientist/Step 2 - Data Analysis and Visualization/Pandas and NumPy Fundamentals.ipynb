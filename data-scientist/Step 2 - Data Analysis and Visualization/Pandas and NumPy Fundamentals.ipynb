{
 "cells": [
  {
   "cell_type": "markdown",
   "metadata": {},
   "source": [
    "# Pandas and NumPy Fundamentals"
   ]
  },
  {
   "cell_type": "markdown",
   "metadata": {},
   "source": [
    "To use the NumPy library, we first need to import it into our Python environment. NumPy is commonly imported using the alias np:"
   ]
  },
  {
   "cell_type": "code",
   "execution_count": 1,
   "metadata": {},
   "outputs": [],
   "source": [
    "import numpy as np"
   ]
  },
  {
   "cell_type": "markdown",
   "metadata": {},
   "source": [
    "The NumPy library takes advantage of a processor feature called Single Instruction Multiple Data (SIMD) to process data faster. SIMD allows a processor to perform the same operation, on multiple data points, in a single processor cycle:\n",
    "\n",
    "![SIMD](https://s3.amazonaws.com/dq-content/289/vectorized.gif)\n",
    "\n",
    "As a result, the NumPy version of our code would only take two processor cycles — a four times speed-up! This concept of replacing for loops with operations applied to multiple data points at once is called vectorization and ndarrays make vectorization possible."
   ]
  },
  {
   "cell_type": "markdown",
   "metadata": {},
   "source": [
    "So far, we've only practiced creating one-dimensional ndarrays, but ndarrays can also be two-dimensional:\n",
    "![NDimensional](https://s3.amazonaws.com/dq-content/289/Two_Dim.svg)"
   ]
  },
  {
   "cell_type": "markdown",
   "metadata": {},
   "source": [
    "### NYC Taxi-Airport Data\n",
    "We'll work with a subset of this data - approximately 90,000 yellow taxi trips to and from New York City airports between January and June 2016. Below is information about selected columns from the data set:\n",
    "* `pickup_year`: The year of the trip.\n",
    "* `pickup_month`: The month of the trip (January is 1, December is 12).\n",
    "* `pickup_day`: The day of the month of the trip.\n",
    "* `pickup_location_code`: The airport or borough where the trip started.\n",
    "* `dropoff_location_code`: The airport or borough where the trip finished.\n",
    "* `trip_distance`: The distance of the trip in miles.\n",
    "* `trip_length`: The length of the trip in seconds.\n",
    "* `fare_amount`: The base fare of the trip, in dollars.\n",
    "* `total_amount`: The total amount charged to the passenger, including all fees, tolls and tips."
   ]
  },
  {
   "cell_type": "markdown",
   "metadata": {},
   "source": [
    "**Import the Data**"
   ]
  },
  {
   "cell_type": "code",
   "execution_count": 2,
   "metadata": {},
   "outputs": [],
   "source": [
    "import csv \n",
    "import numpy as np\n",
    "\n",
    "f = open('data/nyc_taxis.csv')\n",
    "taxi_list = list(csv.reader(f))\n",
    "\n",
    "# remove header\n",
    "taxi_list = taxi_list[1:]\n",
    "\n",
    "# convert all values to floats\n",
    "converted_taxi_list = []\n",
    "for row in taxi_list:\n",
    "    converted_row = []\n",
    "    for item in row:\n",
    "        converted_row.append(float(item))\n",
    "    converted_taxi_list.append(converted_row)\n",
    "    \n",
    "# convert to numpy array\n",
    "taxi = np.array(converted_taxi_list)"
   ]
  },
  {
   "cell_type": "code",
   "execution_count": 3,
   "metadata": {},
   "outputs": [
    {
     "data": {
      "text/plain": [
       "numpy.ndarray"
      ]
     },
     "execution_count": 3,
     "metadata": {},
     "output_type": "execute_result"
    }
   ],
   "source": [
    "type(taxi)"
   ]
  },
  {
   "cell_type": "code",
   "execution_count": 4,
   "metadata": {},
   "outputs": [
    {
     "name": "stdout",
     "output_type": "stream",
     "text": [
      "(89560, 15)\n"
     ]
    }
   ],
   "source": [
    "print(taxi.shape)"
   ]
  },
  {
   "cell_type": "markdown",
   "metadata": {},
   "source": [
    "There are 89,560 rows. Each row has 15 columns of data."
   ]
  },
  {
   "cell_type": "markdown",
   "metadata": {},
   "source": [
    "For any 2D array, the full syntax for selecting data is:\n",
    "`ndarray[row_index,column_index]`\n",
    "* Select multiple rows with `:`"
   ]
  },
  {
   "cell_type": "code",
   "execution_count": 5,
   "metadata": {},
   "outputs": [],
   "source": [
    "row_0 = taxi[0]\n",
    "rows_391_to_500 = taxi[391:501]\n",
    "row_21_column_5 = taxi[21, 5]"
   ]
  },
  {
   "cell_type": "markdown",
   "metadata": {},
   "source": [
    "![partial selection](https://s3.amazonaws.com/dq-content/289/selection_1darray_updated.svg)\n",
    "\n",
    "Selecting one or more columns:\n",
    "\n",
    "![column selection](https://s3.amazonaws.com/dq-content/289/selection_columns_updated.svg)\n",
    "\n",
    "If we want to select a partial 1D slice of a row or column, we can combine a single value for one dimension with a slice for the other dimension:\n",
    "![1D slice](https://s3.amazonaws.com/dq-content/289/selection_1darray_updated.svg)\n",
    "\n",
    "Lastly, if we want to select a 2D slice, we can use slices for both dimensions:\n",
    "![2D Slice](https://s3.amazonaws.com/dq-content/289/selection_2darray_updated.svg)"
   ]
  },
  {
   "cell_type": "markdown",
   "metadata": {},
   "source": [
    "### Challenge:\n",
    "From the taxi ndarray:\n",
    "\n",
    "1. Select every row for the columns at indexes 1, 4, and 7. Assign them to columns_1_4_7.\n",
    "\n",
    "`cols = [1,4,7]\n",
    "columns_1_4_7 = taxi[:,cols]`\n",
    "\n",
    "2. Select the columns at indexes 5 to 8 inclusive for the row at index 99. Assign them to row_99_columns_5_to_8.\n",
    "\n",
    "`row_99_columns_5_to_8 = taxi[99,5:9]`\n",
    "\n",
    "3. Select the rows at indexes 100 to 200 inclusive for the column at index 14. Assign them to rows_100_to_200_column_14.\n",
    "\n",
    "`rows_100_to_200_column_14 = taxi[100:201,14]`"
   ]
  },
  {
   "cell_type": "markdown",
   "metadata": {},
   "source": [
    "### Vector Math\n",
    "As we saw in the last two screens, NumPy ndarrays allow us to select data much more easily. Beyond this, the selection we make is a lot faster when working with vectorized operations because the operations are applied to multiple data points at once.\n",
    "\n",
    "Vectorized operations also make our code easier to execute. Here's how we would perform the same task with vectorized operations:"
   ]
  },
  {
   "cell_type": "code",
   "execution_count": 6,
   "metadata": {},
   "outputs": [],
   "source": [
    "# sums = my_numbers[:,0] + my_numbers[:,1]"
   ]
  },
  {
   "cell_type": "markdown",
   "metadata": {},
   "source": [
    "Here are some key observations about this code:\n",
    "\n",
    "* When we selected each column, we used the syntax ndarray[:,c] where c is the column index we wanted to select. Like we saw in the previous screen, the colon selects all rows.\n",
    "* To add the two 1D ndarrays, col1 and col2, we simply use the addition operator (+) between them.\n",
    "Here's what happened behind the scenes:\n",
    "\n",
    "![vector addition](https://s3.amazonaws.com/dq-content/289/vectorized_addition.svg)"
   ]
  },
  {
   "cell_type": "markdown",
   "metadata": {},
   "source": [
    "### Calculating Statustics for 1D ndarrays\n",
    "To calculate the minimum value of a 1D ndarray, we use the vectorized ndarray.min() method, like so:\n",
    "\n",
    "`mph_min = trip_mph.min()\n",
    "print(mph_min)`"
   ]
  },
  {
   "cell_type": "code",
   "execution_count": 7,
   "metadata": {},
   "outputs": [],
   "source": [
    "fare_amount = taxi[:,9]\n",
    "fees_amount = taxi[:,10]\n",
    "\n",
    "fare_and_fees = fare_amount + fees_amount"
   ]
  },
  {
   "cell_type": "code",
   "execution_count": 8,
   "metadata": {},
   "outputs": [],
   "source": [
    "trip_distance_miles = taxi[:,7]\n",
    "trip_length_seconds = taxi[:,8]\n",
    "\n",
    "trip_length_hours = trip_length_seconds / 3600 # 3600 seconds is one hour\n",
    "\n",
    "trip_mph = trip_distance_miles / trip_length_hours"
   ]
  },
  {
   "cell_type": "code",
   "execution_count": 9,
   "metadata": {},
   "outputs": [
    {
     "name": "stdout",
     "output_type": "stream",
     "text": [
      "32.24258580925573\n"
     ]
    }
   ],
   "source": [
    "mph_min = trip_mph.min()\n",
    "mph_max = trip_mph.max()\n",
    "mph_mean = trip_mph.mean()\n",
    "\n",
    "print(mph_mean)"
   ]
  },
  {
   "cell_type": "code",
   "execution_count": 10,
   "metadata": {},
   "outputs": [
    {
     "name": "stdout",
     "output_type": "stream",
     "text": [
      "82800.0\n"
     ]
    }
   ],
   "source": [
    "print(mph_max)"
   ]
  },
  {
   "cell_type": "markdown",
   "metadata": {},
   "source": [
    "### Calculating Statustics for 2D ndarrays\n",
    "If we use the ndarray.max() method on a 2D ndarray without any additional parameters, it will return a single value, just like with a 1D array:\n",
    "\n",
    "![max for 2d array](https://s3.amazonaws.com/dq-content/289/array_method_axis_none.svg)\n",
    "\n",
    "But what if we wanted to find the maximum value of each row? We'd need to use the axis parameter and specify a value of 1 to indicate we want to calculate the maximum value for each row.\n",
    "\n",
    "![max along axis1](https://s3.amazonaws.com/dq-content/289/array_method_axis_1.svg)\n",
    "\n",
    "If we want to find the maximum value of each column, we'd use an axis value of 0:\n",
    "![max along column axis0](https://s3.amazonaws.com/dq-content/289/array_method_axis_0.svg)"
   ]
  },
  {
   "cell_type": "code",
   "execution_count": 11,
   "metadata": {},
   "outputs": [
    {
     "name": "stdout",
     "output_type": "stream",
     "text": [
      "[69.99 54.3  37.8  32.76 18.8 ] [69.99 54.3  37.8  32.76 18.8 ]\n"
     ]
    }
   ],
   "source": [
    "# we'll compare against the first 5 rows only\n",
    "taxi_first_five = taxi[:5]\n",
    "# select these columns: fare_amount, fees_amount, tolls_amount, tip_amount\n",
    "fare_components = taxi_first_five[:,9:13]\n",
    "\n",
    "fare_sums = fare_components.sum(axis=1)\n",
    "fare_totals = taxi_first_five[:,13]\n",
    "\n",
    "print(fare_totals, fare_sums)"
   ]
  },
  {
   "cell_type": "markdown",
   "metadata": {},
   "source": [
    "## Boolean Indexing with Numpy\n",
    "Now that we understand NumPy a little better, let's learn how to use the numpy.genfromtxt() [function](https://numpy.org/doc/stable/reference/generated/numpy.genfromtxt.html) to read files into NumPy ndarrays. Here is the simplified syntax for the function, and an explanation of the two parameters:\n",
    "\n",
    "`np.genfromtxt(filename, delimiter=None)`"
   ]
  },
  {
   "cell_type": "code",
   "execution_count": 14,
   "metadata": {},
   "outputs": [
    {
     "name": "stdout",
     "output_type": "stream",
     "text": [
      "(89561, 15)\n"
     ]
    }
   ],
   "source": [
    "import numpy as np\n",
    "\n",
    "taxi = np.genfromtxt('data/nyc_taxis.csv', delimiter=',')\n",
    "\n",
    "taxi_shape = taxi.shape\n",
    "print(taxi_shape)"
   ]
  },
  {
   "cell_type": "markdown",
   "metadata": {},
   "source": [
    "NumPy ndarrays can contain only one datatype.\n",
    "\n",
    "We didn't have to complete this step in the last exercise, because when numpy.genfromtxt() reads in a file, it attempts to determine the data type of the file by looking at the values.\n",
    "\n",
    "We can use the ndarray.dtype attribute to see the internal datatype that has been used.\n",
    "\n",
    "`print(taxi.dtype)`\n",
    "\n",
    "NaN is an acronym for Not a Number - it literally means that the value cannot be stored as a number. It is similar to (and often referred to as a) null value, like Python's None constant.\n",
    "\n",
    "NaN is most commonly seen when a value is missing, but in this case, we have NaN values because the first line from our CSV file contains the names of each column. NumPy is unable to convert string values like pickup_year into the float64 data type.\n",
    "\n",
    "For now, we need to remove this header row from our ndarray. We can do this the same way we would if our data was stored in a list of lists:\n",
    "\n",
    "`taxi = taxi[1:]`\n",
    "\n",
    "Alternatively, we can pass an additional parameter, skip_header, to the numpy.genfromtxt() function. The skip_header parameter accepts an integer, the number of rows from the start of the file to skip. Note that because this integer should be the number of rows and not the index, skipping the first row would require a value of 1, not 0."
   ]
  },
  {
   "cell_type": "markdown",
   "metadata": {},
   "source": [
    "**Import the NYC taxi data, removing the header. Inspect the shape**"
   ]
  },
  {
   "cell_type": "code",
   "execution_count": 17,
   "metadata": {},
   "outputs": [
    {
     "name": "stdout",
     "output_type": "stream",
     "text": [
      "(89560, 15)\n"
     ]
    }
   ],
   "source": [
    "taxi = np.genfromtxt('data/nyc_taxis.csv', delimiter=',', skip_header=1)\n",
    "taxi_shape = taxi.shape\n",
    "print(taxi_shape)"
   ]
  },
  {
   "cell_type": "code",
   "execution_count": null,
   "metadata": {},
   "outputs": [],
   "source": []
  }
 ],
 "metadata": {
  "kernelspec": {
   "display_name": "Python 3",
   "language": "python",
   "name": "python3"
  },
  "language_info": {
   "codemirror_mode": {
    "name": "ipython",
    "version": 3
   },
   "file_extension": ".py",
   "mimetype": "text/x-python",
   "name": "python",
   "nbconvert_exporter": "python",
   "pygments_lexer": "ipython3",
   "version": "3.8.5"
  }
 },
 "nbformat": 4,
 "nbformat_minor": 4
}
