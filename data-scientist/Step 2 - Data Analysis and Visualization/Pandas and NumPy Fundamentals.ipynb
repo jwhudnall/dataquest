{
 "cells": [
  {
   "cell_type": "markdown",
   "metadata": {},
   "source": [
    "# Pandas and NumPy Fundamentals"
   ]
  },
  {
   "cell_type": "markdown",
   "metadata": {},
   "source": [
    "To use the NumPy library, we first need to import it into our Python environment. NumPy is commonly imported using the alias np:"
   ]
  },
  {
   "cell_type": "code",
   "execution_count": 1,
   "metadata": {},
   "outputs": [],
   "source": [
    "import numpy as np"
   ]
  },
  {
   "cell_type": "markdown",
   "metadata": {},
   "source": [
    "The NumPy library takes advantage of a processor feature called Single Instruction Multiple Data (SIMD) to process data faster. SIMD allows a processor to perform the same operation, on multiple data points, in a single processor cycle:\n",
    "\n",
    "![SIMD](https://s3.amazonaws.com/dq-content/289/vectorized.gif)\n",
    "\n",
    "As a result, the NumPy version of our code would only take two processor cycles — a four times speed-up! This concept of replacing for loops with operations applied to multiple data points at once is called vectorization and ndarrays make vectorization possible."
   ]
  },
  {
   "cell_type": "markdown",
   "metadata": {},
   "source": [
    "So far, we've only practiced creating one-dimensional ndarrays, but ndarrays can also be two-dimensional:\n",
    "![NDimensional](https://s3.amazonaws.com/dq-content/289/Two_Dim.svg)"
   ]
  },
  {
   "cell_type": "markdown",
   "metadata": {},
   "source": [
    "### NYC Taxi-Airport Data\n",
    "We'll work with a subset of this data - approximately 90,000 yellow taxi trips to and from New York City airports between January and June 2016. Below is information about selected columns from the data set:\n",
    "* `pickup_year`: The year of the trip.\n",
    "* `pickup_month`: The month of the trip (January is 1, December is 12).\n",
    "* `pickup_day`: The day of the month of the trip.\n",
    "* `pickup_location_code`: The airport or borough where the trip started.\n",
    "* `dropoff_location_code`: The airport or borough where the trip finished.\n",
    "* `trip_distance`: The distance of the trip in miles.\n",
    "* `trip_length`: The length of the trip in seconds.\n",
    "* `fare_amount`: The base fare of the trip, in dollars.\n",
    "* `total_amount`: The total amount charged to the passenger, including all fees, tolls and tips."
   ]
  },
  {
   "cell_type": "markdown",
   "metadata": {},
   "source": [
    "**Import the Data**"
   ]
  },
  {
   "cell_type": "code",
   "execution_count": 6,
   "metadata": {},
   "outputs": [],
   "source": [
    "import csv \n",
    "import numpy as np\n",
    "\n",
    "f = open('data/nyc_taxis.csv')\n",
    "taxi_list = list(csv.reader(f))\n",
    "\n",
    "# remove header\n",
    "taxi_list = taxi_list[1:]\n",
    "\n",
    "# convert all values to floats\n",
    "converted_taxi_list = []\n",
    "for row in taxi_list:\n",
    "    converted_row = []\n",
    "    for item in row:\n",
    "        converted_row.append(float(item))\n",
    "    converted_taxi_list.append(converted_row)\n",
    "    \n",
    "# convert to numpy array\n",
    "taxi = np.array(converted_taxi_list)"
   ]
  },
  {
   "cell_type": "code",
   "execution_count": 7,
   "metadata": {},
   "outputs": [
    {
     "data": {
      "text/plain": [
       "numpy.ndarray"
      ]
     },
     "execution_count": 7,
     "metadata": {},
     "output_type": "execute_result"
    }
   ],
   "source": [
    "type(taxi)"
   ]
  },
  {
   "cell_type": "code",
   "execution_count": null,
   "metadata": {},
   "outputs": [],
   "source": []
  }
 ],
 "metadata": {
  "kernelspec": {
   "display_name": "Python 3",
   "language": "python",
   "name": "python3"
  },
  "language_info": {
   "codemirror_mode": {
    "name": "ipython",
    "version": 3
   },
   "file_extension": ".py",
   "mimetype": "text/x-python",
   "name": "python",
   "nbconvert_exporter": "python",
   "pygments_lexer": "ipython3",
   "version": "3.8.5"
  }
 },
 "nbformat": 4,
 "nbformat_minor": 4
}
