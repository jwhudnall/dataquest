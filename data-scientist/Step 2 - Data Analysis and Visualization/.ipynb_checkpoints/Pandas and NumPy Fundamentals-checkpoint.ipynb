{
 "cells": [
  {
   "cell_type": "markdown",
   "metadata": {},
   "source": [
    "# Pandas and NumPy Fundamentals"
   ]
  },
  {
   "cell_type": "markdown",
   "metadata": {},
   "source": [
    "To use the NumPy library, we first need to import it into our Python environment. NumPy is commonly imported using the alias np:"
   ]
  },
  {
   "cell_type": "code",
   "execution_count": 1,
   "metadata": {},
   "outputs": [],
   "source": [
    "import numpy as np"
   ]
  },
  {
   "cell_type": "markdown",
   "metadata": {},
   "source": [
    "The NumPy library takes advantage of a processor feature called Single Instruction Multiple Data (SIMD) to process data faster. SIMD allows a processor to perform the same operation, on multiple data points, in a single processor cycle:\n",
    "\n",
    "![SIMD](https://s3.amazonaws.com/dq-content/289/vectorized.gif)\n",
    "\n",
    "As a result, the NumPy version of our code would only take two processor cycles — a four times speed-up! This concept of replacing for loops with operations applied to multiple data points at once is called vectorization and ndarrays make vectorization possible."
   ]
  },
  {
   "cell_type": "markdown",
   "metadata": {},
   "source": [
    "So far, we've only practiced creating one-dimensional ndarrays, but ndarrays can also be two-dimensional:\n",
    "![NDimensional](https://s3.amazonaws.com/dq-content/289/Two_Dim.svg)"
   ]
  },
  {
   "cell_type": "markdown",
   "metadata": {},
   "source": [
    "### NYC Taxi-Airport Data\n",
    "We'll work with a subset of this data - approximately 90,000 yellow taxi trips to and from New York City airports between January and June 2016. Below is information about selected columns from the data set:\n",
    "* `pickup_year`: The year of the trip.\n",
    "* `pickup_month`: The month of the trip (January is 1, December is 12).\n",
    "* `pickup_day`: The day of the month of the trip.\n",
    "* `pickup_location_code`: The airport or borough where the trip started.\n",
    "* `dropoff_location_code`: The airport or borough where the trip finished.\n",
    "* `trip_distance`: The distance of the trip in miles.\n",
    "* `trip_length`: The length of the trip in seconds.\n",
    "* `fare_amount`: The base fare of the trip, in dollars.\n",
    "* `total_amount`: The total amount charged to the passenger, including all fees, tolls and tips."
   ]
  },
  {
   "cell_type": "markdown",
   "metadata": {},
   "source": [
    "**Import the Data**"
   ]
  },
  {
   "cell_type": "code",
   "execution_count": 2,
   "metadata": {},
   "outputs": [],
   "source": [
    "import csv \n",
    "import numpy as np\n",
    "\n",
    "f = open('data/nyc_taxis.csv')\n",
    "taxi_list = list(csv.reader(f))\n",
    "\n",
    "# remove header\n",
    "taxi_list = taxi_list[1:]\n",
    "\n",
    "# convert all values to floats\n",
    "converted_taxi_list = []\n",
    "for row in taxi_list:\n",
    "    converted_row = []\n",
    "    for item in row:\n",
    "        converted_row.append(float(item))\n",
    "    converted_taxi_list.append(converted_row)\n",
    "    \n",
    "# convert to numpy array\n",
    "taxi = np.array(converted_taxi_list)"
   ]
  },
  {
   "cell_type": "code",
   "execution_count": 3,
   "metadata": {},
   "outputs": [
    {
     "data": {
      "text/plain": [
       "numpy.ndarray"
      ]
     },
     "execution_count": 3,
     "metadata": {},
     "output_type": "execute_result"
    }
   ],
   "source": [
    "type(taxi)"
   ]
  },
  {
   "cell_type": "code",
   "execution_count": 4,
   "metadata": {},
   "outputs": [
    {
     "name": "stdout",
     "output_type": "stream",
     "text": [
      "(89560, 15)\n"
     ]
    }
   ],
   "source": [
    "print(taxi.shape)"
   ]
  },
  {
   "cell_type": "markdown",
   "metadata": {},
   "source": [
    "There are 89,560 rows. Each row has 15 columns of data."
   ]
  },
  {
   "cell_type": "markdown",
   "metadata": {},
   "source": [
    "For any 2D array, the full syntax for selecting data is:\n",
    "`ndarray[row_index,column_index]`\n",
    "* Select multiple rows with `:`"
   ]
  },
  {
   "cell_type": "code",
   "execution_count": 5,
   "metadata": {},
   "outputs": [],
   "source": [
    "row_0 = taxi[0]\n",
    "rows_391_to_500 = taxi[391:501]\n",
    "row_21_column_5 = taxi[21, 5]"
   ]
  },
  {
   "cell_type": "markdown",
   "metadata": {},
   "source": [
    "![partial selection](https://s3.amazonaws.com/dq-content/289/selection_1darray_updated.svg)\n",
    "\n",
    "Selecting one or more columns:\n",
    "\n",
    "![column selection](https://s3.amazonaws.com/dq-content/289/selection_columns_updated.svg)\n",
    "\n",
    "If we want to select a partial 1D slice of a row or column, we can combine a single value for one dimension with a slice for the other dimension:\n",
    "![1D slice](https://s3.amazonaws.com/dq-content/289/selection_1darray_updated.svg)\n",
    "\n",
    "Lastly, if we want to select a 2D slice, we can use slices for both dimensions:\n",
    "![2D Slice](https://s3.amazonaws.com/dq-content/289/selection_2darray_updated.svg)"
   ]
  },
  {
   "cell_type": "markdown",
   "metadata": {},
   "source": [
    "### Challenge:\n",
    "From the taxi ndarray:\n",
    "\n",
    "1. Select every row for the columns at indexes 1, 4, and 7. Assign them to columns_1_4_7.\n",
    "\n",
    "`cols = [1,4,7]\n",
    "columns_1_4_7 = taxi[:,cols]`\n",
    "\n",
    "2. Select the columns at indexes 5 to 8 inclusive for the row at index 99. Assign them to row_99_columns_5_to_8.\n",
    "\n",
    "`row_99_columns_5_to_8 = taxi[99,5:9]`\n",
    "\n",
    "3. Select the rows at indexes 100 to 200 inclusive for the column at index 14. Assign them to rows_100_to_200_column_14.\n",
    "\n",
    "`rows_100_to_200_column_14 = taxi[100:201,14]`"
   ]
  },
  {
   "cell_type": "markdown",
   "metadata": {},
   "source": [
    "### Vector Math\n",
    "As we saw in the last two screens, NumPy ndarrays allow us to select data much more easily. Beyond this, the selection we make is a lot faster when working with vectorized operations because the operations are applied to multiple data points at once.\n",
    "\n",
    "Vectorized operations also make our code easier to execute. Here's how we would perform the same task with vectorized operations:"
   ]
  },
  {
   "cell_type": "code",
   "execution_count": 7,
   "metadata": {},
   "outputs": [],
   "source": [
    "# sums = my_numbers[:,0] + my_numbers[:,1]"
   ]
  },
  {
   "cell_type": "markdown",
   "metadata": {},
   "source": [
    "Here are some key observations about this code:\n",
    "\n",
    "* When we selected each column, we used the syntax ndarray[:,c] where c is the column index we wanted to select. Like we saw in the previous screen, the colon selects all rows.\n",
    "* To add the two 1D ndarrays, col1 and col2, we simply use the addition operator (+) between them.\n",
    "Here's what happened behind the scenes:\n",
    "\n",
    "![vector addition](https://s3.amazonaws.com/dq-content/289/vectorized_addition.svg)"
   ]
  },
  {
   "cell_type": "code",
   "execution_count": null,
   "metadata": {},
   "outputs": [],
   "source": []
  }
 ],
 "metadata": {
  "kernelspec": {
   "display_name": "Python 3",
   "language": "python",
   "name": "python3"
  },
  "language_info": {
   "codemirror_mode": {
    "name": "ipython",
    "version": 3
   },
   "file_extension": ".py",
   "mimetype": "text/x-python",
   "name": "python",
   "nbconvert_exporter": "python",
   "pygments_lexer": "ipython3",
   "version": "3.8.5"
  }
 },
 "nbformat": 4,
 "nbformat_minor": 4
}
